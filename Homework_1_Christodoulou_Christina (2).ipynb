{
  "nbformat": 4,
  "nbformat_minor": 0,
  "metadata": {
    "colab": {
      "name": "Homework_1_Christodoulou_Christina.ipynb",
      "provenance": [],
      "collapsed_sections": []
    },
    "kernelspec": {
      "name": "python3",
      "display_name": "Python 3"
    },
    "language_info": {
      "name": "python"
    }
  },
  "cells": [
    {
      "cell_type": "markdown",
      "metadata": {
        "id": "QZuMKqDSGeDO"
      },
      "source": [
        "Lesson: M931LT1 Artificial Intelligence II\n",
        "\n",
        "Fall Semester 2021\n",
        "\n",
        "Student's name: Christina Christodoulou\n",
        "\n",
        "I.D Number: LT1200027\n",
        "\n",
        "Field of Studies: Language Technology\n",
        "\n",
        "Homework 1"
      ]
    },
    {
      "cell_type": "code",
      "metadata": {
        "id": "Gf2VVdSTGUuy"
      },
      "source": [
        "# Import necessary libraries\n",
        "import re \n",
        "import matplotlib.pyplot as plt \n",
        "import pandas as pd  \n",
        "import pickle\n",
        "import nltk\n",
        "import numpy as np\n",
        "import seaborn as sns\n",
        "from nltk.corpus import stopwords\n",
        "from nltk.tokenize import word_tokenize\n",
        "import collections\n",
        "from sklearn.feature_extraction.text import CountVectorizer\n",
        "from sklearn.feature_extraction.text import TfidfVectorizer\n",
        "from sklearn.utils import resample\n",
        "from sklearn import metrics\n",
        "from sklearn.linear_model import LogisticRegression\n",
        "from sklearn.model_selection import train_test_split\n",
        "from sklearn.model_selection import GridSearchCV\n",
        "from sklearn.model_selection import learning_curve\n",
        "from sklearn.metrics import precision_recall_fscore_support as score\n",
        "from sklearn.metrics import accuracy_score, f1_score, precision_score, recall_score, classification_report, confusion_matrix"
      ],
      "execution_count": 1,
      "outputs": []
    },
    {
      "cell_type": "code",
      "metadata": {
        "colab": {
          "base_uri": "https://localhost:8080/"
        },
        "id": "0OoadtpjHOhH",
        "outputId": "33b7fc82-f02b-40ca-e0cf-e55f093d60b1"
      },
      "source": [
        "# Download necessary packages\n",
        "nltk.download('stopwords')\n",
        "nltk.download('punkt')"
      ],
      "execution_count": 2,
      "outputs": [
        {
          "output_type": "stream",
          "name": "stdout",
          "text": [
            "[nltk_data] Downloading package stopwords to /root/nltk_data...\n",
            "[nltk_data]   Package stopwords is already up-to-date!\n",
            "[nltk_data] Downloading package punkt to /root/nltk_data...\n",
            "[nltk_data]   Package punkt is already up-to-date!\n"
          ]
        },
        {
          "output_type": "execute_result",
          "data": {
            "text/plain": [
              "True"
            ]
          },
          "metadata": {},
          "execution_count": 2
        }
      ]
    },
    {
      "cell_type": "code",
      "metadata": {
        "id": "Ed7arz_FHQZd"
      },
      "source": [
        "stop_words_set = set(stopwords.words(\"english\"))"
      ],
      "execution_count": 3,
      "outputs": []
    },
    {
      "cell_type": "code",
      "metadata": {
        "id": "0UQE5vrKHSHN"
      },
      "source": [
        "# A function that opens, reads a file in csv with utf-8 encoding, gets the values, checks and fills empty values and checks for duplicates\n",
        "def read_explore_dataframe(csv_file):\n",
        "  \n",
        "  # Open and read the csv file with utf-8 encoding\n",
        "  dataframe = pd.read_csv(csv_file,encoding='utf-8')\n",
        "  \n",
        "  # Get the keys and their corresponding number of values\n",
        "  keys = dataframe.keys() \n",
        "  for key in keys:\n",
        "    df_len = len(dataframe[key].unique()) # the length of the unique values of each column\n",
        "    print('{0:25}{1:10}'.format(key,df_len))\n",
        "\n",
        "  dataframe.dropna(inplace=True) # remove missing values and keep the dataFrame with valid entries in the same variable\n",
        "  dataframe.reset_index(inplace=True,drop=True)\n",
        "\n",
        "  dataframe.duplicated() # check for duplicates\n",
        "  #print('Number of duplicates in the dataframe:', dataframe.duplicated().sum())\n",
        "  print('Dataframe checked for NaN values and duplicates!')\n",
        "  \n",
        "  return dataframe "
      ],
      "execution_count": 4,
      "outputs": []
    },
    {
      "cell_type": "code",
      "metadata": {
        "id": "GMAACD3QHbVc"
      },
      "source": [
        "# A function that takes as parameter a text and applies pre-processing steps to clean it\n",
        "def text_preprocessing(text):\n",
        "  \n",
        "  # Remove tags\n",
        "  TAG_RE = re.compile(r'<[^>]+>')\n",
        "  no_tags = TAG_RE.sub('',text)  \n",
        "                \n",
        "  # Remove unusual characters\n",
        "  text = re.sub('<[^>]*>', '', no_tags)\n",
        "\n",
        "  # Remove urls\n",
        "  text = re.sub(r'http\\S+','', text)\n",
        "    \n",
        "  # Remove emoticons\n",
        "  emoticons = re.findall('(?::|;|=)(?:-)?(?:\\)|\\(|D|P)', text)\n",
        "\n",
        "  # Remove punctuation\n",
        "  no_punct = [word for word in emoticons if word.isalpha()]\n",
        "                \n",
        "  # Convert all words to lowercase\n",
        "  text = re.sub('[\\W]+', ' ', text.lower()) + \" \".join(no_punct).replace('-', '')\n",
        "    \n",
        "  # Remove numbers\n",
        "  no_numbers_txt = re.sub(r'\\d+', '', text)\n",
        "\n",
        "  return no_numbers_txt"
      ],
      "execution_count": 5,
      "outputs": []
    },
    {
      "cell_type": "code",
      "metadata": {
        "id": "YJ0jiuDw5uGg"
      },
      "source": [
        "def get_columns_vectorize_split(dataframe, feature, label,test_size):\n",
        "  \n",
        "  # Get only the columns we are interested in\n",
        "  dataset = dataframe[[feature,label]]\n",
        "  \n",
        "  # Check the distribution of classes\n",
        "  distribution = dataset[label].value_counts()/dataset.shape[0]\n",
        "  print('Distribution of data in classes:')\n",
        "  print(distribution)\n",
        "\n",
        "  # Separate the different labels and create a combined dataset\n",
        "  neutral = dataset[dataset[label] == 0]\n",
        "  antivax = dataset[dataset[label] == 1]\n",
        "  provax = dataset[dataset[label] == 2]\n",
        "\n",
        "  # Combine the classes with the greater number of values\n",
        "  class_majorities = pd.concat([neutral,provax])\n",
        "  classes = pd.concat([neutral,antivax,provax])\n",
        "\n",
        "  # Upsampling: take samples with replacement from the minority class until the class is almost the same size as the majorities\n",
        "  train_minority_upsampled = resample(antivax, replace=True, n_samples=len(classes),random_state=123)\n",
        "  train_minority_upsampled2 = resample(neutral, replace=True, n_samples=len(classes),random_state=123)\n",
        "  train_minority_upsampled3 = resample(provax, replace=True, n_samples=len(classes),random_state=123)\n",
        "  \n",
        "  # Combine in a new dataframe the new resampled classes \n",
        "  dataset = pd.concat([train_minority_upsampled,train_minority_upsampled2,train_minority_upsampled3]) \n",
        "  print('Distribution of data in classes after resampling:')\n",
        "  print(dataset[label].value_counts())\n",
        "  \n",
        "  # Apply the pre-processing function to the dataframe containing the text (feature column)\n",
        "  dataset[feature] = dataset[feature].apply(text_preprocessing)\n",
        "  print('\\nText done pre-processing!')\n",
        "  \n",
        "  # Divide the X and y values\n",
        "  X = dataset[feature]\n",
        "  y = dataset[label]\n",
        "  \n",
        "  # Print to see the input variables\n",
        "  print(X[:3])\n",
        "\n",
        "  # Split the dataset according to the chosen test size as parameter\n",
        "  X_train, X_test, Y_train, Y_test = train_test_split(X,y, test_size = test_size, random_state=42)\n",
        "  print('The dataset is split and ready for training!')\n",
        "\n",
        "  print('X_train shape:',X_train.shape)\n",
        "  print('Y_train shape:',Y_train.shape)\n",
        "  print('X_test shape:',X_test.shape)\n",
        "  print('Y_test shape:',Y_test.shape)\n",
        "  \n",
        "  # Instantiate a TF-IDF Vectorizer\n",
        "  #tfidf = TfidfVectorizer(lowercase=True, stop_words=\"english\", ngram_range=(1, 1), tokenizer = nltk.word_tokenize)\n",
        "  #X_train = tfidf.fit_transform(X_train)\n",
        "  #X_test  = tfidf.transform(X_test)\n",
        "  #print('Number of features:',len(tfidf.vocabulary_))\n",
        "\n",
        "  # Instantiate a CountVectorizer\n",
        "  vectorizer = CountVectorizer(lowercase=True, stop_words=\"english\", ngram_range=(1, 1), tokenizer = nltk.word_tokenize)\n",
        "  X_train = vectorizer.fit_transform(X_train)\n",
        "  X_test  = vectorizer.transform(X_test)\n",
        "  print('Number of features:',len(vectorizer.vocabulary_))\n",
        "\n",
        "  return X_train, X_test, Y_train, Y_test"
      ],
      "execution_count": 6,
      "outputs": []
    },
    {
      "cell_type": "code",
      "metadata": {
        "id": "MLG3CBmWXGA1"
      },
      "source": [
        "# Draw the plot of the target variable - training set\n",
        "def plot_target_values(csv_file,target_label):\n",
        "  \n",
        "  dataframe = pd.read_csv(csv_file,encoding='utf-8')\n",
        "  sns.countplot(x=target_label, data=dataframe)"
      ],
      "execution_count": 7,
      "outputs": []
    },
    {
      "cell_type": "code",
      "metadata": {
        "id": "KI1HjH8A5tbh"
      },
      "source": [
        "# A function that takes as parameters the split X_train and Y_train values\n",
        "# It creates a logistic regression model and uses the GridSearch to search for the best C parameter and compute accuracy of model\n",
        "# The best C parameter will be used to the vaccine sentiment classifier\n",
        "def search_best_parameters(X_train,Y_train):\n",
        "  \n",
        "  # Create a logistic regression model       \n",
        "  logreg = LogisticRegression(class_weight='balanced',max_iter = 1000)\n",
        "  # Initiate C parameters\n",
        "  grid={'C':[0.001, 0.01, 0.1, 1, 10, 100,1000]}\n",
        "  logreg_cv=GridSearchCV(logreg,grid,n_jobs=-1)\n",
        "  logreg_cv.fit(X_train,Y_train)\n",
        "\n",
        "  print('Best parameters:',logreg_cv.best_params_)\n",
        "  print('Accuracy:',logreg_cv.best_score_)\n",
        "\n",
        "  return logreg"
      ],
      "execution_count": 8,
      "outputs": []
    },
    {
      "cell_type": "code",
      "metadata": {
        "id": "yPj7zfxscmba"
      },
      "source": [
        "# A function that takes as parameters the split X_train and Y_train values, uses the best C parameter from the previous function to train a softmax regression classifier\n",
        "# It also plots learning curves to check overfitting or underfitting issues and saves the model in pickle\n",
        "def train(X_train,Y_train):\n",
        "  \n",
        "  print('\\n------ TRAINING... ------')\n",
        "   \n",
        "  # Create a logistic regression model (LR)       \n",
        "  LR = LogisticRegression(C = 0.1, class_weight ='balanced', max_iter = 1000)\n",
        "\n",
        "  # Train the model using train set\n",
        "  LR.fit(X_train, Y_train)\n",
        "\n",
        "  print('Number of iterations: {}'.format(LR.n_iter_))\n",
        "  \n",
        "  # Use the learning curve to get training and test scores along with train sizes\n",
        "  train_sizes, train_scores, test_scores = learning_curve(LR, X_train, Y_train, cv=10, n_jobs=1, train_sizes=np.linspace(0.1, 1.0, 5))\n",
        "\n",
        "  # Calculate the mean and the standard deviation of the train and test scores \n",
        "  train_scores_mean = np.mean(train_scores, axis=1)\n",
        "  train_scores_std = np.std(train_scores, axis=1)\n",
        "  test_scores_mean = np.mean(test_scores, axis=1)\n",
        "  test_scores_std = np.std(test_scores, axis=1)\n",
        "    \n",
        "  plt.figure()\n",
        "  plt.title('Logistic Regression Model')\n",
        "  plt.xlabel('Training examples')\n",
        "  plt.ylabel('Score')\n",
        "  plt.gca().invert_yaxis()\n",
        "  plt.grid()\n",
        "    \n",
        "  # Plot the std deviation as a transparent range at each training set size\n",
        "  plt.fill_between(train_sizes, train_scores_mean - train_scores_std, train_scores_mean + train_scores_std, alpha=0.1, color=\"r\")\n",
        "  plt.fill_between(train_sizes, test_scores_mean - test_scores_std, test_scores_mean + test_scores_std, alpha=0.1, color=\"g\")\n",
        "    \n",
        "  # Plot the average training and test score lines at each training set size\n",
        "  plt.plot(train_sizes, train_scores_mean, 'o-', color='r', label='Training score')\n",
        "  plt.plot(train_sizes, test_scores_mean, 'o-', color='g', label='Cross-validation score')\n",
        "    \n",
        "  # It sizes the window for readability and displays the plot and shows error from 0 to 1.1\n",
        "  plt.ylim(-.1,1.1)\n",
        "  plt.show()\n",
        "  \n",
        "  # Save the model to a disk\n",
        "  #filename = '/content/Logistic_regression_model_20_tfidf.sav'\n",
        "  filename = '/content/Logistic_regression_model_20_countvectorizer.sav'\n",
        "  pickle.dump(LR, open(filename, 'wb'))\n",
        "  print('The model saved is saved in pickle form!\\n')\n",
        "  \n",
        "  return train_scores_mean,train_scores_std,test_scores_mean,test_scores_std"
      ],
      "execution_count": 23,
      "outputs": []
    },
    {
      "cell_type": "code",
      "metadata": {
        "id": "-l7RAM5xeMKV"
      },
      "source": [
        "# A function that takes as parameters the split X and Y values as well as the trained model in pickle\n",
        "# It makes predictions and calculates accuracy, precision, recall and f-measure\n",
        "# It plots learning curves to check overfitting or underfitting issues and plots the confusion matrix\n",
        "def predict_evaluate_classifier(X_train, X_test, Y_train, Y_test,saved_model):\n",
        "\n",
        "  print('\\n------ PREDICTING AND EVALUATING... ------')\n",
        "  # Load the model    \n",
        "  loaded_model = pickle.load(open(saved_model, 'rb'))\n",
        "       \n",
        "  # Train the model using train set\n",
        "  loaded_model.fit(X_train,Y_train)\n",
        "  print('\\nFitting data to the loaded logistic regression model...')\n",
        "                \n",
        "  # Make model predictions\n",
        "  y_test_predict = loaded_model.predict(X_test)\n",
        "\n",
        "  print('\\nThe Beta parameters:', loaded_model.coef_)\n",
        "  print('\\nThe Intercept (bias):', loaded_model.intercept_)        \n",
        "  \n",
        "  # Calculate accuracy of Logistic regression model \n",
        "  LR_accuracy = metrics.accuracy_score(Y_test,y_test_predict)*100\n",
        "\n",
        "  # Precision score\n",
        "  precision = metrics.precision_score(Y_test,y_test_predict,average='micro')*100\n",
        "  \n",
        "  # Recall Score\n",
        "  recall = metrics.recall_score(Y_test,y_test_predict,average='micro')*100\n",
        "   \n",
        "  # F measure score\n",
        "  f_measure = metrics.f1_score(Y_test,y_test_predict,average='micro')*100\n",
        "  \n",
        "  print('\\nMetrics:')\n",
        "  print('Accuracy: {} %'.format(LR_accuracy))\n",
        "  \n",
        "  precision, recall, fscore, support = score(Y_test,y_test_predict)\n",
        "\n",
        "  print('precision: {}'.format(precision))\n",
        "  print('recall: {}'.format(recall))\n",
        "  print('fscore: {}'.format(fscore))\n",
        "  print('support: {}'.format(support))\n",
        "  \n",
        "  # Get the classificatin report from the confusion matrix\n",
        "  print('\\nClassification report:\\n',classification_report(Y_test,y_test_predict,labels = np.unique(y_test_predict)))\n",
        "\n",
        "  # Use the learning curve to get training and test scores along with train sizes\n",
        "  train_sizes, train_scores, test_scores = learning_curve(loaded_model, X_train, Y_train, cv=10, n_jobs=1, train_sizes=np.linspace(0.01, 1.0, 5))\n",
        "\n",
        "  # Calculate the mean and the standard deviation of the train and test scores \n",
        "  train_scores_mean = np.mean(train_scores, axis=1)\n",
        "  train_scores_std = np.std(train_scores, axis=1)\n",
        "  test_scores_mean = np.mean(test_scores, axis=1)\n",
        "  test_scores_std = np.std(test_scores, axis=1)\n",
        "    \n",
        "  plt.figure()\n",
        "  plt.title('Logistic Regression Model')\n",
        "  plt.xlabel('Training examples')\n",
        "  plt.ylabel('Score')\n",
        "  plt.gca().invert_yaxis()\n",
        "  plt.grid()\n",
        "    \n",
        "  # Plot the std deviation as a transparent range at each training set size\n",
        "  plt.fill_between(train_sizes, train_scores_mean - train_scores_std, train_scores_mean + train_scores_std, alpha=0.1, color=\"r\")\n",
        "  plt.fill_between(train_sizes, test_scores_mean - test_scores_std, test_scores_mean + test_scores_std, alpha=0.1, color=\"g\")\n",
        "    \n",
        "  # Plot the average training and test score lines at each training set size\n",
        "  plt.plot(train_sizes, train_scores_mean, 'o-', color='r', label='Training score')\n",
        "  plt.plot(train_sizes, test_scores_mean, 'o-', color='g', label='Cross-validation score')\n",
        "    \n",
        "  # It sizes the window for readability and displays the plot and shows error from 0 to 1.1\n",
        "  plt.ylim(-.1,1.1)\n",
        "  plt.show()\n",
        "   \n",
        "  cm = confusion_matrix(Y_test,y_test_predict)\n",
        "  # Visualize the confusion matrix\n",
        "  conf_matrix = pd.DataFrame(data = cm, columns = ['Predicted:0', 'Predicted:1','Predicted:2'], index =['True:0', 'True:1','True:2'])\n",
        "  plt.figure(figsize = (8, 5))\n",
        "  sns.heatmap(conf_matrix, annot = True, fmt = \"d\", cmap = \"Spectral\")\n",
        "  \n",
        "  return plt.show()"
      ],
      "execution_count": 10,
      "outputs": []
    },
    {
      "cell_type": "code",
      "metadata": {
        "id": "eWm8wkPiN0YO"
      },
      "source": [
        "# THIS IS USED FOR THE TRAINING SET\n",
        "# A function that includes 3 functions\n",
        "# The first function reads the dataframe, checks for NaN values and for duplicates\n",
        "# The second function gets the data from the specified columns, pre-processes text, creates arrays, vectorizes and splits into training and test sets according to a given ratio \n",
        "# The third function uses the SearchGrid to search for the best C logistic regression parameter\n",
        "# It was run first and the best C parameter was used as input in the function 'train(X_train,Y_train)'\n",
        "def find_best_parameters_model(csv_file,feature,label):\n",
        "  \n",
        "  df = read_explore_dataframe(csv_file)\n",
        "  X_train, X_test, Y_train, Y_test = get_columns_vectorize_split(df,feature,label,0.2)  \n",
        "  model = search_best_parameters(X_train,Y_train)\n",
        "\n",
        "  return model"
      ],
      "execution_count": 11,
      "outputs": []
    },
    {
      "cell_type": "code",
      "metadata": {
        "id": "kKH1BQ-8xjhS"
      },
      "source": [
        "# THIS IS USED FOR THE TRAINING SET\n",
        "# A function that includes 3 functions\n",
        "# The first function reads the dataframe, checks for NaN values and for duplicates\n",
        "# The second function gets the data from the specified columns, pre-processes text, creates arrays,vectorizes and splits into training and test sets according to a given ratio \n",
        "# The third function trains a logistic regression model and saves it to pickle form\n",
        "def data_train_model(csv_file,feature,label):\n",
        "  \n",
        "  df = read_explore_dataframe(csv_file)\n",
        "  X_train, X_test, Y_train, Y_test = get_columns_vectorize_split(df,feature,label,0.2)  \n",
        "  train_scores_mean,train_scores_std,test_scores_mean,test_scores_std = train(X_train,Y_train)\n",
        "\n",
        "  return train_scores_mean,train_scores_std,test_scores_mean,test_scores_std"
      ],
      "execution_count": 12,
      "outputs": []
    },
    {
      "cell_type": "code",
      "metadata": {
        "id": "cxUs-RAc0KET"
      },
      "source": [
        "# THIS IS USED FOR THE VALIDATION SET AND MEANT TO BE USED FOR THE TEST SET\n",
        "# A function that includes 3 functions\n",
        "# The first function reads the dataframe, checks for NaN values and for duplicates\n",
        "# The second function gets the data from the specified columns, pre-processes text, creates arrays,vectorizes and splits into training and test sets according to a given ratio \n",
        "# The third function uses the saved model to predict and evaluates the classifier\n",
        "def data_evaluate_model(csv_file,feature,label,saved_model):\n",
        "  \n",
        "  df_eval = read_explore_dataframe(csv_file)\n",
        "  x_train, y_train, x_test, y_test = get_columns_vectorize_split(df_eval,feature,label,0.2)\n",
        "  class_matrix = predict_evaluate_classifier(x_train, y_train, x_test, y_test,saved_model)\n",
        "\n",
        "  return class_matrix "
      ],
      "execution_count": 13,
      "outputs": []
    },
    {
      "cell_type": "markdown",
      "metadata": {
        "id": "JEPt5x6d45R5"
      },
      "source": [
        "**APPLICATION OF FUNCTIONS**"
      ]
    },
    {
      "cell_type": "markdown",
      "metadata": {
        "id": "GEdGxAbgPwfU"
      },
      "source": [
        "**TRAINING SET: FIND THE BEST PARAMETERS FOR THE LOGISTIC REGRESSION MODEL**"
      ]
    },
    {
      "cell_type": "code",
      "metadata": {
        "id": "XU2-AjljPqgN",
        "colab": {
          "base_uri": "https://localhost:8080/"
        },
        "outputId": "27fe4b0a-0458-4083-8a14-63c907478f55"
      },
      "source": [
        "df_part_one = find_best_parameters_model('vaccine_train_set.csv','tweet','label')"
      ],
      "execution_count": 14,
      "outputs": [
        {
          "output_type": "stream",
          "name": "stdout",
          "text": [
            "Unnamed: 0                    15976\n",
            "tweet                         15881\n",
            "label                             3\n",
            "Dataframe checked for NaN values and duplicates!\n",
            "Distribution of data in classes:\n",
            "0    0.466825\n",
            "2    0.403418\n",
            "1    0.129757\n",
            "Name: label, dtype: float64\n",
            "Distribution of data in classes after resampling:\n",
            "2    15976\n",
            "1    15976\n",
            "0    15976\n",
            "Name: label, dtype: int64\n",
            "\n",
            "Text done pre-processing!\n",
            "10783    newborn seized from mom in pennsylvania hospit...\n",
            "8997      cz_binance survival rate for covid is   accor...\n",
            "13678    it takes ten years for a vaccine to develop th...\n",
            "Name: tweet, dtype: object\n",
            "The dataset is split and ready for training!\n",
            "X_train shape: (38342,)\n",
            "Y_train shape: (38342,)\n",
            "X_test shape: (9586,)\n",
            "Y_test shape: (9586,)\n",
            "Number of features: 21400\n",
            "Best parameters: {'C': 10}\n",
            "Accuracy: 0.944290902006894\n"
          ]
        }
      ]
    },
    {
      "cell_type": "markdown",
      "metadata": {
        "id": "AdA32O-T4v1i"
      },
      "source": [
        "**TRAINING SET: TRAIN A LOGISTIC REGRESSION MODEL**"
      ]
    },
    {
      "cell_type": "code",
      "metadata": {
        "id": "KCQrmyCFyRzk",
        "colab": {
          "base_uri": "https://localhost:8080/",
          "height": 833
        },
        "outputId": "05ad8415-3aea-47ea-f9cf-5545f34ccfa7"
      },
      "source": [
        "df = data_train_model('vaccine_train_set.csv','tweet','label')"
      ],
      "execution_count": 24,
      "outputs": [
        {
          "output_type": "stream",
          "name": "stdout",
          "text": [
            "Unnamed: 0                    15976\n",
            "tweet                         15881\n",
            "label                             3\n",
            "Dataframe checked for NaN values and duplicates!\n",
            "Distribution of data in classes:\n",
            "0    0.466825\n",
            "2    0.403418\n",
            "1    0.129757\n",
            "Name: label, dtype: float64\n",
            "Distribution of data in classes after resampling:\n",
            "2    15976\n",
            "1    15976\n",
            "0    15976\n",
            "Name: label, dtype: int64\n",
            "\n",
            "Text done pre-processing!\n",
            "10783    newborn seized from mom in pennsylvania hospit...\n",
            "8997      cz_binance survival rate for covid is   accor...\n",
            "13678    it takes ten years for a vaccine to develop th...\n",
            "Name: tweet, dtype: object\n",
            "The dataset is split and ready for training!\n",
            "X_train shape: (38342,)\n",
            "Y_train shape: (38342,)\n",
            "X_test shape: (9586,)\n",
            "Y_test shape: (9586,)\n",
            "Number of features: 21400\n",
            "\n",
            "------ TRAINING... ------\n",
            "Number of iterations: [111]\n"
          ]
        },
        {
          "output_type": "display_data",
          "data": {
            "image/png": "[encoded data removed]",
            "text/plain": [
              "<Figure size 432x288 with 1 Axes>"
            ]
          },
          "metadata": {
            "needs_background": "light"
          }
        },
        {
          "output_type": "stream",
          "name": "stdout",
          "text": [
            "The model saved is saved in pickle form!\n",
            "\n"
          ]
        }
      ]
    },
    {
      "cell_type": "code",
      "metadata": {
        "id": "Awr7P-sm7-X6",
        "colab": {
          "base_uri": "https://localhost:8080/",
          "height": 279
        },
        "outputId": "40730ac8-81ee-422c-bd16-7bd45ddcb351"
      },
      "source": [
        "# Draw the plot of the target variable - training set\n",
        "plot_target_values('vaccine_train_set.csv','label')  "
      ],
      "execution_count": 25,
      "outputs": [
        {
          "output_type": "display_data",
          "data": {
            "image/png": "[encoded data removed]",
            "text/plain": [
              "<Figure size 432x288 with 1 Axes>"
            ]
          },
          "metadata": {
            "needs_background": "light"
          }
        }
      ]
    },
    {
      "cell_type": "markdown",
      "metadata": {
        "id": "tjzvewMjwosT"
      },
      "source": [
        "**VALIDATION SET & TEST SET: MODEL EVALUATION**"
      ]
    },
    {
      "cell_type": "markdown",
      "metadata": {
        "id": "7Wwwjh39L7ae"
      },
      "source": [
        "NOTE: For the test set to run, just change the name of the source csv file and use the trained 'Logistic_regression_model.sav' that was included in the zip file. "
      ]
    },
    {
      "cell_type": "code",
      "metadata": {
        "id": "dn_GRcAudD1-",
        "colab": {
          "base_uri": "https://localhost:8080/",
          "height": 279
        },
        "outputId": "86c66285-11ea-4e58-ce14-a810500ac844"
      },
      "source": [
        "# Draw the plot of the target variable - validation and testing set\n",
        "plot_target_values('vaccine_validation_set.csv','label')  "
      ],
      "execution_count": 26,
      "outputs": [
        {
          "output_type": "display_data",
          "data": {
            "image/png": "[encoded data removed]",
            "text/plain": [
              "<Figure size 432x288 with 1 Axes>"
            ]
          },
          "metadata": {
            "needs_background": "light"
          }
        }
      ]
    },
    {
      "cell_type": "code",
      "metadata": {
        "id": "5McWCXc30RfK",
        "colab": {
          "base_uri": "https://localhost:8080/",
          "height": 1000
        },
        "outputId": "214edd9a-3a17-4b84-941f-7e24b9130ed5"
      },
      "source": [
        "data_evaluate_model('vaccine_validation_set.csv','tweet','label','Logistic_regression_model_20_countvectorizer.sav')"
      ],
      "execution_count": 27,
      "outputs": [
        {
          "output_type": "stream",
          "name": "stdout",
          "text": [
            "Unnamed: 0                     2282\n",
            "tweet                          2276\n",
            "label                             3\n",
            "Dataframe checked for NaN values and duplicates!\n",
            "Distribution of data in classes:\n",
            "0    0.466696\n",
            "2    0.403593\n",
            "1    0.129711\n",
            "Name: label, dtype: float64\n",
            "Distribution of data in classes after resampling:\n",
            "2    2282\n",
            "1    2282\n",
            "0    2282\n",
            "Name: label, dtype: int64\n",
            "\n",
            "Text done pre-processing!\n",
            "850      tennessee woman paralyzed after second pfizer...\n",
            "1855    still not taking it vaccines take years of res...\n",
            "132               great documentary on vaccines nova pbs \n",
            "Name: tweet, dtype: object\n",
            "The dataset is split and ready for training!\n",
            "X_train shape: (5476,)\n",
            "Y_train shape: (5476,)\n",
            "X_test shape: (1370,)\n",
            "Y_test shape: (1370,)\n",
            "Number of features: 6139\n",
            "\n",
            "------ PREDICTING AND EVALUATING... ------\n",
            "\n",
            "Fitting data to the loaded logistic regression model...\n",
            "\n",
            "The Beta parameters: [[ 0.17284279 -0.04339197  0.0687994  ...  0.25551627 -0.04418221\n",
            "   0.06729962]\n",
            " [-0.07536005 -0.03174656 -0.03777602 ... -0.1345473  -0.05163548\n",
            "  -0.02864099]\n",
            " [-0.09748274  0.07513854 -0.03102338 ... -0.12096897  0.0958177\n",
            "  -0.03865863]]\n",
            "\n",
            "The Intercept (bias): [ 0.77838062 -0.63387861 -0.14450201]\n",
            "\n",
            "Metrics:\n",
            "Accuracy: 92.48175182481752 %\n",
            "0.9248175182481752\n",
            "0.9248175182481752\n",
            "0.9248175182481752\n",
            "precision: [0.93333333 0.93673469 0.90526316]\n",
            "recall: [0.8852459  0.97867804 0.907173  ]\n",
            "fscore: [0.90865385 0.95724713 0.90621707]\n",
            "support: [427 469 474]\n",
            "\n",
            "Classification report:\n",
            "               precision    recall  f1-score   support\n",
            "\n",
            "           0       0.93      0.89      0.91       427\n",
            "           1       0.94      0.98      0.96       469\n",
            "           2       0.91      0.91      0.91       474\n",
            "\n",
            "    accuracy                           0.92      1370\n",
            "   macro avg       0.93      0.92      0.92      1370\n",
            "weighted avg       0.92      0.92      0.92      1370\n",
            "\n"
          ]
        },
        {
          "output_type": "display_data",
          "data": {
            "image/png": "[encoded data removed]",
            "text/plain": [
              "<Figure size 432x288 with 1 Axes>"
            ]
          },
          "metadata": {
            "needs_background": "light"
          }
        },
        {
          "output_type": "display_data",
          "data": {
            "image/png": "[encoded data removed]",
            "text/plain": [
              "<Figure size 576x360 with 2 Axes>"
            ]
          },
          "metadata": {
            "needs_background": "light"
          }
        }
      ]
    }
  ]
}
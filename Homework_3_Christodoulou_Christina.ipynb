{
  "nbformat": 4,
  "nbformat_minor": 0,
  "metadata": {
    "colab": {
      "name": "Homework_3_Christodoulou_Christina.ipynb",
      "provenance": [],
      "collapsed_sections": []
    },
    "kernelspec": {
      "name": "python3",
      "display_name": "Python 3"
    },
    "language_info": {
      "name": "python"
    },
    "accelerator": "GPU"
  },
  "cells": [
    {
      "cell_type": "markdown",
      "metadata": {
        "id": "QZuMKqDSGeDO"
      },
      "source": [
        "**Lesson: M931LT1 Artificial Intelligence II**\n",
        "\n",
        "**Student's name: Christina Christodoulou**\n",
        "\n",
        "**I.D Number: lt1200027**\n",
        "\n",
        "**Field of Studies: Language Technology**\n",
        "\n",
        "**Homework 3**\n"
      ]
    },
    {
      "cell_type": "markdown",
      "source": [
        "**SENTIMENT ANALYSIS OF TWEETS USING BIDIRECTIONAL RNN**"
      ],
      "metadata": {
        "id": "HAS_b2X3Qzxh"
      }
    },
    {
      "cell_type": "markdown",
      "source": [
        "**VACCINE SENTIMENT CLASSIFIER**"
      ],
      "metadata": {
        "id": "tquCXZVfRNXo"
      }
    },
    {
      "cell_type": "code",
      "source": [
        "# Import necessary libraries\n",
        "import re \n",
        "import torch\n",
        "import random\n",
        "import spacy\n",
        "import matplotlib.pyplot as plt \n",
        "import pandas as pd  \n",
        "import pickle\n",
        "import math\n",
        "import nltk\n",
        "import time\n",
        "import numpy as np\n",
        "from tqdm import tqdm\n",
        "from nltk.corpus import stopwords\n",
        "from nltk.tokenize import word_tokenize\n",
        "from nltk.stem import WordNetLemmatizer\n",
        "import collections\n",
        "from sklearn.utils import resample\n",
        "from sklearn import metrics\n",
        "from sklearn.model_selection import learning_curve\n",
        "from sklearn.metrics import precision_recall_fscore_support as score\n",
        "from sklearn.metrics import accuracy_score, f1_score, precision_score, recall_score\n",
        "from sklearn.preprocessing import label_binarize\n",
        "from numpy import interp\n",
        "from itertools import cycle\n",
        "from sklearn.metrics import roc_curve, auc, classification_report\n",
        "from torch.utils.data import TensorDataset\n",
        "import torch.nn as nn\n",
        "import torchtext\n",
        "from torchtext.legacy import data\n",
        "import torchtext.legacy\n",
        "import torch.nn.functional as F\n",
        "import torch.optim as optim\n",
        "\n",
        "# Download necessary packages\n",
        "nltk.download('stopwords')\n",
        "nltk.download('punkt')\n",
        "nltk.download('wordnet')\n",
        "stop_words_set = set(stopwords.words('english'))"
      ],
      "metadata": {
        "colab": {
          "base_uri": "https://localhost:8080/"
        },
        "id": "r2W7NW0eF28L",
        "outputId": "7b3f5975-e327-4f93-ff29-12bc90b46a38"
      },
      "execution_count": 1,
      "outputs": [
        {
          "output_type": "stream",
          "name": "stdout",
          "text": [
            "[nltk_data] Downloading package stopwords to /root/nltk_data...\n",
            "[nltk_data]   Unzipping corpora/stopwords.zip.\n",
            "[nltk_data] Downloading package punkt to /root/nltk_data...\n",
            "[nltk_data]   Unzipping tokenizers/punkt.zip.\n",
            "[nltk_data] Downloading package wordnet to /root/nltk_data...\n",
            "[nltk_data]   Unzipping corpora/wordnet.zip.\n"
          ]
        }
      ]
    },
    {
      "cell_type": "code",
      "source": [
        "# Download and unzip the Glove pre-trained vectors in a new folder to use as embeddings\n",
        "FILE = 'GLOVE'\n",
        "URL = 'http://nlp.stanford.edu/data/glove.twitter.27B.zip'\n",
        "\n",
        "!wget -P $FILE $URL\n",
        "!unzip $FILE/glove*.zip -d $FILE"
      ],
      "metadata": {
        "id": "n5bK_8CAW9O7",
        "colab": {
          "base_uri": "https://localhost:8080/"
        },
        "outputId": "802004ca-06d4-4b25-c299-8999fc7680b8"
      },
      "execution_count": 2,
      "outputs": [
        {
          "output_type": "stream",
          "name": "stdout",
          "text": [
            "--2022-01-26 12:20:29--  http://nlp.stanford.edu/data/glove.twitter.27B.zip\n",
            "Resolving nlp.stanford.edu (nlp.stanford.edu)... 171.64.67.140\n",
            "Connecting to nlp.stanford.edu (nlp.stanford.edu)|171.64.67.140|:80... connected.\n",
            "HTTP request sent, awaiting response... 302 Found\n",
            "Location: https://nlp.stanford.edu/data/glove.twitter.27B.zip [following]\n",
            "--2022-01-26 12:20:29--  https://nlp.stanford.edu/data/glove.twitter.27B.zip\n",
            "Connecting to nlp.stanford.edu (nlp.stanford.edu)|171.64.67.140|:443... connected.\n",
            "HTTP request sent, awaiting response... 301 Moved Permanently\n",
            "Location: http://downloads.cs.stanford.edu/nlp/data/glove.twitter.27B.zip [following]\n",
            "--2022-01-26 12:20:30--  http://downloads.cs.stanford.edu/nlp/data/glove.twitter.27B.zip\n",
            "Resolving downloads.cs.stanford.edu (downloads.cs.stanford.edu)... 171.64.64.22\n",
            "Connecting to downloads.cs.stanford.edu (downloads.cs.stanford.edu)|171.64.64.22|:80... connected.\n",
            "HTTP request sent, awaiting response... 200 OK\n",
            "Length: 1520408563 (1.4G) [application/zip]\n",
            "Saving to: ‘GLOVE/glove.twitter.27B.zip’\n",
            "\n",
            "glove.twitter.27B.z 100%[===================>]   1.42G  5.11MB/s    in 4m 47s  \n",
            "\n",
            "2022-01-26 12:25:17 (5.05 MB/s) - ‘GLOVE/glove.twitter.27B.zip’ saved [1520408563/1520408563]\n",
            "\n",
            "Archive:  GLOVE/glove.twitter.27B.zip\n",
            "  inflating: GLOVE/glove.twitter.27B.25d.txt  \n",
            "  inflating: GLOVE/glove.twitter.27B.50d.txt  \n",
            "  inflating: GLOVE/glove.twitter.27B.100d.txt  \n",
            "  inflating: GLOVE/glove.twitter.27B.200d.txt  \n"
          ]
        }
      ]
    },
    {
      "cell_type": "code",
      "source": [
        "# Set up GPU for Training\n",
        "if torch.cuda.is_available():       \n",
        "    device = torch.device(\"cuda\")\n",
        "    print(f'There are {torch.cuda.device_count()} GPU(s) available.')\n",
        "    print('Device name:', torch.cuda.get_device_name(0))\n",
        "\n",
        "else:\n",
        "    print('No GPU available, using the CPU instead.')\n",
        "    device = torch.device('cpu')"
      ],
      "metadata": {
        "colab": {
          "base_uri": "https://localhost:8080/"
        },
        "id": "iben0f1_F5mB",
        "outputId": "90aee657-ab4d-4108-af09-23551353e9f2"
      },
      "execution_count": 3,
      "outputs": [
        {
          "output_type": "stream",
          "name": "stdout",
          "text": [
            "There are 1 GPU(s) available.\n",
            "Device name: Tesla K80\n"
          ]
        }
      ]
    },
    {
      "cell_type": "code",
      "source": [
        "# A function that calculates the time needed for training and evaluation in each epoch\n",
        "def epoch_time(start_time, end_time):\n",
        "    elapsed_time = end_time - start_time\n",
        "    elapsed_mins = int(elapsed_time / 60)\n",
        "    elapsed_secs = int(elapsed_time - (elapsed_mins * 60))\n",
        "    return elapsed_mins, elapsed_secs"
      ],
      "metadata": {
        "id": "uoG-9mwVXvHk"
      },
      "execution_count": 4,
      "outputs": []
    },
    {
      "cell_type": "code",
      "execution_count": 5,
      "metadata": {
        "id": "OMBQkCTU0Juv"
      },
      "outputs": [],
      "source": [
        "# A function that opens, reads a file in csv with utf-8 encoding, gets the values, checks and fills empty values and checks for duplicates\n",
        "def read_explore_dataframe(csv_file):\n",
        "  \n",
        "  # Open and read the csv file with utf-8 encoding\n",
        "  dataframe = pd.read_csv(csv_file,encoding='utf-8')\n",
        "  \n",
        "  # Get the keys and their corresponding number of values\n",
        "  keys = dataframe.keys() \n",
        "  for key in keys:\n",
        "    df_len = len(dataframe[key].unique()) # the length of the unique values of each column\n",
        "    print('{0:25}{1:10}'.format(key,df_len))\n",
        "\n",
        "  dataframe.dropna(inplace=True) # remove missing values and keep the dataFrame with valid entries in the same variable\n",
        "  dataframe.reset_index(inplace=True,drop=True)\n",
        "\n",
        "  dataframe.duplicated() # check for duplicates\n",
        "  #print('Number of duplicates in the dataframe:', dataframe.duplicated().sum())\n",
        "  print('Dataframe checked for NaN values and duplicates!')\n",
        "  \n",
        "  return dataframe "
      ]
    },
    {
      "cell_type": "code",
      "execution_count": 6,
      "metadata": {
        "id": "S6ezrsdr0MJ2"
      },
      "outputs": [],
      "source": [
        "# A function that takes as parameter a text and applies pre-processing steps to clean it\n",
        "def text_preprocessing(text):\n",
        "  \n",
        "  # Remove tags\n",
        "  TAG_RE = re.compile(r'<[^>]+>')\n",
        "  no_tags = TAG_RE.sub('',text)  \n",
        "                \n",
        "  # Remove unusual characters\n",
        "  text = re.sub('<[^>]*>', '', no_tags)\n",
        "\n",
        "  # Remove urls\n",
        "  text = re.sub(r'http\\S+','', text)\n",
        "    \n",
        "  # Remove emoticons\n",
        "  emoticons = re.findall('(?::|;|=)(?:-)?(?:\\)|\\(|D|P)', text)\n",
        "\n",
        "  # Remove punctuation\n",
        "  no_punct = [word for word in emoticons if word.isalpha()]\n",
        "                \n",
        "  # Convert all words to lowercase\n",
        "  text = re.sub('[\\W]+', ' ', text.lower()) + \" \".join(no_punct).replace('-', '')\n",
        "    \n",
        "  # Remove numbers\n",
        "  no_numbers_txt = re.sub(r'\\d+', '', text)\n",
        "\n",
        "  # Tokenize\n",
        "  tokens = nltk.word_tokenize(no_numbers_txt)\n",
        "\n",
        "  # Lemmatize\n",
        "  lemmatizer = WordNetLemmatizer()\n",
        "  lemmas = \" \".join([lemmatizer.lemmatize(token) for token in tokens])\n",
        "  \n",
        "  return lemmas"
      ]
    },
    {
      "cell_type": "code",
      "execution_count": 7,
      "metadata": {
        "id": "NO62UEP30QBn"
      },
      "outputs": [],
      "source": [
        "# A function that gets as input the dataframe and gets the necessary values from the columns after resampling and pre-processing\n",
        "def get_columns(dataframe, feature, label):\n",
        "  \n",
        "  # Get only the columns we are interested in\n",
        "  dataset = dataframe[[feature,label]]\n",
        "  \n",
        "  # Check the distribution of classes\n",
        "  distribution = dataset[label].value_counts()/dataset.shape[0]\n",
        "  print('Distribution of data in classes:')\n",
        "  print(distribution)\n",
        "\n",
        "  # Separate the different labels and create a combined dataset\n",
        "  neutral = dataset[dataset[label] == 0]\n",
        "  antivax = dataset[dataset[label] == 1]\n",
        "  provax = dataset[dataset[label] == 2]\n",
        "\n",
        "  # Combine the classes with the greater number of values\n",
        "  class_majorities = pd.concat([neutral,provax])\n",
        "  classes = pd.concat([neutral,antivax,provax])\n",
        "\n",
        "  # Upsampling: take samples with replacement from the minority class until the class is almost the same size as the majorities\n",
        "  train_minority_upsampled = resample(antivax, replace=True, n_samples=len(classes),random_state=123)\n",
        "  train_minority_upsampled2 = resample(neutral, replace=True, n_samples=len(classes),random_state=123)\n",
        "  train_minority_upsampled3 = resample(provax, replace=True, n_samples=len(classes),random_state=123)\n",
        "  \n",
        "  # Combine in a new dataframe the new resampled classes \n",
        "  dataset = pd.concat([train_minority_upsampled,train_minority_upsampled2,train_minority_upsampled3]) \n",
        "  print('Distribution of data in classes after resampling:')\n",
        "  print(dataset[label].value_counts())\n",
        "  \n",
        "  # Apply the pre-processing function to the dataframe containing the text (feature column)\n",
        "  dataset[feature] = dataset[feature].apply(text_preprocessing)\n",
        "  print('\\nText done pre-processing!')\n",
        "\n",
        "  # Divide the X and y values\n",
        "  X = dataset[feature]\n",
        "  y = dataset[label]\n",
        "\n",
        "  # Concatenate the X,Y data\n",
        "  new_dataframe = pd.concat([X, y], axis=1)\n",
        "     \n",
        "  return new_dataframe"
      ]
    },
    {
      "cell_type": "code",
      "execution_count": 8,
      "metadata": {
        "id": "Io07UhSf2ynL"
      },
      "outputs": [],
      "source": [
        "# A function that creates iterators for the given datasets\n",
        "# In each batch, the sentences are transposed to be descending vertically \n",
        "# Each index represents a token and each column represents a sentence\n",
        "# The batch size specifies the number of columns\n",
        "# The lambda function finds sentences of the same length\n",
        " \n",
        "def create_iterators(train_dataset, validation_dataset, batch_size):\n",
        "  \n",
        "  train_iterator, val_iterator = data.BucketIterator.splits(\n",
        "  # The Datasets to load Examples from\n",
        "  (train_dataset, validation_dataset), \n",
        "  # The batch size\n",
        "  batch_size = batch_size,\n",
        "  # Function to use for sorting examples\n",
        "  sort_key = lambda x: len(x.Tweet),\n",
        "  # Repeat the iterator for multiple epochs\n",
        "  repeat = False,\n",
        "  # Shuffle data on each epoch run\n",
        "  shuffle = True,\n",
        "  # Use 'sort_key' to sort examples in each batch\n",
        "  sort_within_batch = True,\n",
        "  device = device)\n",
        "  \n",
        "  return train_iterator, val_iterator"
      ]
    },
    {
      "cell_type": "code",
      "source": [
        "# A function that calculates the trainable parameters of the model\n",
        "def count_parameters(model):\n",
        "    return sum(p.numel() for p in model.parameters() if p.requires_grad)\n",
        "\n",
        "# A function that sets seed for reproducibility\n",
        "def set_seed(seed_value): \n",
        "    random.seed(seed_value)\n",
        "    np.random.seed(seed_value)\n",
        "    torch.manual_seed(seed_value)\n",
        "    torch.cuda.manual_seed_all(seed_value)"
      ],
      "metadata": {
        "id": "3bPBWfJz2x0U"
      },
      "execution_count": 9,
      "outputs": []
    },
    {
      "cell_type": "code",
      "execution_count": 10,
      "metadata": {
        "id": "lM7OhsA01-Ru"
      },
      "outputs": [],
      "source": [
        "# Calculates the accuracy per batch, used in the train_model and evaluate_model functions \n",
        "def accuracy(preds, y_true):\n",
        "  \n",
        "  y_pred = torch.round(preds)\n",
        "  _,pred_label = torch.max(y_pred, dim = 1)\n",
        "  \n",
        "  correct = (pred_label == y_true).float()\n",
        "  acc = correct.sum() / len(correct)\n",
        "  \n",
        "  return acc"
      ]
    },
    {
      "cell_type": "code",
      "execution_count": 11,
      "metadata": {
        "id": "eAJirbA2sYwW"
      },
      "outputs": [],
      "source": [
        "# A function that calculates all the metrics using the validation/test set\n",
        "def calculate_metrics(y_true, preds):  \n",
        "  \n",
        "  print('\\nCalculating metrics...')\n",
        "  \n",
        "  # Calculate the accuracy of the model \n",
        "  acc = accuracy_score(y_true, preds)\n",
        "  \n",
        "  # Calculate general precision, recall, F1 score of the model and of each class\n",
        "  precision, recall, fscore, support = score(y_true, preds)\n",
        "  print('Accuracy: {}'.format(acc))\n",
        "  print('Precision: {}'.format(precision))\n",
        "  print('Recall: {}'.format(recall))\n",
        "  print('F1 score: {}'.format(fscore))\n",
        "  print('Support: {}'.format(support))\n",
        "\n",
        "  # Print classification report\n",
        "  print(classification_report(y_true, preds))"
      ]
    },
    {
      "cell_type": "code",
      "source": [
        "# ====== Training (Train data) ======\n",
        "def train(model, iterator, optimizer, criterion, clip):\n",
        "  \n",
        "  training_loss = 0   \n",
        "  training_acc = 0\n",
        "    \n",
        "  # Set model to training mode\n",
        "  model.train()\n",
        "   \n",
        "  # For each batch in the training iterator\n",
        "  for batch in tqdm(iterator):\n",
        "   \n",
        "    # Zero the gradients\n",
        "    optimizer.zero_grad()\n",
        "        \n",
        "    # batch.Tweet is a tuple (tensor, len of seq)           \n",
        "    text, text_lengths = batch.Tweet\n",
        "            \n",
        "    # Compute the predictions\n",
        "    predictions = model(text,text_lengths).squeeze(1)   \n",
        "    \n",
        "    # Compute the loss\n",
        "    loss = criterion(predictions, batch.Label.long())\n",
        "        \n",
        "    # Compute the accuracy\n",
        "    acc = accuracy(predictions, batch.Label.float())\n",
        "        \n",
        "    # Use loss to compute gradients\n",
        "    loss.backward()\n",
        "    \n",
        "    # Clip the gradient value\n",
        "    nn.utils.clip_grad_norm_(model.parameters(), clip)\n",
        "        \n",
        "    # Use optimizer to take gradient step\n",
        "    optimizer.step()\n",
        "        \n",
        "    training_loss += loss.item()\n",
        "    training_acc += acc.item()\n",
        "  \n",
        "  loss_of_epoch = training_loss / len(iterator)\n",
        "  accuracy_of_epoch = training_acc / len(iterator)\n",
        "  \n",
        "  # Return the loss and accuracy, averaged across each epoch\n",
        "  # len of iterator = number of batches in the iterator\n",
        "  return loss_of_epoch, accuracy_of_epoch"
      ],
      "metadata": {
        "id": "AFWF7Ff6wROh"
      },
      "execution_count": 12,
      "outputs": []
    },
    {
      "cell_type": "code",
      "source": [
        "# ====== Evaluation (validation data) ======\n",
        "def evaluate(model, iterator, criterion):\n",
        "       \n",
        "  eval_loss = 0\n",
        "  eval_acc = 0\n",
        "    \n",
        "  # Set model to evaluation mode\n",
        "  model.eval()\n",
        "   \n",
        "  # Don't calculate the gradients\n",
        "  with torch.no_grad():\n",
        "    \n",
        "    for batch in tqdm(iterator):\n",
        "     \n",
        "      # batch.Tweet is a tuple (tensor, len of seq)\n",
        "      text, text_lengths = batch.Tweet\n",
        "\n",
        "      # Compute the predictions         \n",
        "      predictions = model(text, text_lengths).squeeze(1)\n",
        "\n",
        "      # Compute the loss    \n",
        "      loss = criterion(predictions, batch.Label.long())\n",
        "\n",
        "      # Compute the accuracy    \n",
        "      acc = accuracy(predictions, batch.Label.float())\n",
        "\n",
        "      eval_loss += loss.item()\n",
        "      eval_acc += acc.item()\n",
        "        \n",
        "  loss_of_epoch = eval_loss / len(iterator)\n",
        "  accuracy_of_epoch = eval_acc / len(iterator)\n",
        "\n",
        "  # Return the loss and accuracy, averaged across each epoch\n",
        "  # len of iterator = number of batches in the iterator\n",
        "  return loss_of_epoch, accuracy_of_epoch\n",
        "\n",
        "\n",
        "def testing(model, iterator):\n",
        "    \n",
        "  predictions_all = []\n",
        "  labels_all = []\n",
        "    \n",
        "  model.eval() \n",
        "    \n",
        "  with torch.no_grad():   \n",
        "    for batch in iterator:      \n",
        "      for label in batch.Label:\n",
        "        labels = label.flatten().cpu().numpy().tolist()\n",
        "        labels_all.append(labels)              \n",
        "      text, text_lengths = batch.Tweet     \n",
        "      predictions = model(text, text_lengths).squeeze(1)            \n",
        "      output = (torch.argmax(predictions, dim = 1)).data.cpu().numpy()      \n",
        "      predictions_all.extend(output)\n",
        "        \n",
        "  return predictions_all, labels_all"
      ],
      "metadata": {
        "id": "HVjikyh6Hnsa"
      },
      "execution_count": 13,
      "outputs": []
    },
    {
      "cell_type": "code",
      "source": [
        "class BIDIRECTIONAL_RNN_LSTM_GRU(nn.Module):\n",
        "  \n",
        "  def __init__(self, cell_type, input_size, embedding_size, hidden_size, output_size, embeddings, num_layers, dropout, pad_idx):\n",
        "    super(BIDIRECTIONAL_RNN_LSTM_GRU, self).__init__()\n",
        "\n",
        "    cells = {'LSTM': nn.LSTM, 'GRU': nn.GRU}   \n",
        "\n",
        "    # Initializations\n",
        "    self.cell_type = cell_type\n",
        "    self.input_size = input_size\n",
        "    self.embedding_size = embedding_size\n",
        "    self.hidden_size = hidden_size\n",
        "    self.output_size = output_size  \n",
        "    self.num_layers = num_layers\n",
        "    self.dropout = dropout\n",
        "     \n",
        "    # Feed the tweets in the embedding layer\n",
        "    # padding_idx set to not learn the embedding for the <pad> token - irrelevant to determining sentiment \n",
        "    self.word_embeddings = nn.Embedding(input_size, embedding_size, padding_idx = pad_idx)\n",
        "    \n",
        "    assert cell_type in cells, 'Use one of the following: {}'.format(str(cells))\n",
        "    rnn_cell = getattr(nn, cell_type) # It fetches the constructor from torch.nn\n",
        "    self.rnn = rnn_cell(\n",
        "        input_size = self.embedding_size,   # Number of features for each time step        \n",
        "        num_layers = self.num_layers,       # If the number of layers is bigger than 1, then it is a stacked RNN)\n",
        "        hidden_size = self.hidden_size,     # LSTM/GRU hidden embedding representation\n",
        "        batch_first = True,                 # Input and output's batch size: (batch, time_step, input_size) => 1st dimension\n",
        "        bidirectional = True,               # It is a bidirectional RNN\n",
        "        dropout = self.dropout)             # Dropout regularization  \n",
        "                \n",
        "    # Final hidden state has both a forward and a backward component concatenated together\n",
        "    # The size of the input to the nn.Linear layer is twice that of the hidden dimension size\n",
        "    self.predictor = nn.Linear(hidden_size*2, output_size)\n",
        "\n",
        "    # Initialize dropout layer for regularization\n",
        "    self.dropout = nn.Dropout(dropout)\n",
        "\n",
        "    # Initialize RELU activation function\n",
        "    self.relu = nn.ReLU()\n",
        "\n",
        "  def forward(self, text, text_lengths):\n",
        "        \n",
        "    # Text - [tweet length, batch size]\n",
        "    # Text_lengths - lengths of tweet\n",
        "        \n",
        "    # Embedded = [sentence len, batch size, emb dim] with dropout \n",
        "    embedded = self.dropout(self.word_embeddings(text))    \n",
        "\n",
        "    # Pack the embeddings to only process non-padded elements, it speeds up computation\n",
        "    packed_embedded = nn.utils.rnn.pack_padded_sequence(embedded, text_lengths.to('cpu'))\n",
        "\n",
        "    if self.cell_type == 'LSTM':\n",
        "      packed_output, (hidden, cell) = self.rnn(packed_embedded)\n",
        "    if self.cell_type == 'GRU':\n",
        "      packed_output, hidden = self.rnn(packed_embedded)\n",
        "\n",
        "    # Unpack the sequence - transform packed sequence to a tensor\n",
        "    output, output_lengths = nn.utils.rnn.pad_packed_sequence(packed_output)\n",
        "\n",
        "    # Output = [sentence len, batch size, hid dim * num directions]\n",
        "    # Output over padding tokens are zero tensors\n",
        "        \n",
        "    # Hidden = [num layers * num directions, batch size, hid dim]\n",
        "    # Cell = [num layers * num directions, batch size, hid dim]\n",
        "        \n",
        "    # Get the final layer forward and backward hidden states  \n",
        "    # Concat the final forward and backward hidden layers and apply dropout\n",
        "    hidden = self.dropout(torch.cat((hidden[-2,:,:], hidden[-1,:,:]), dim = 1))\n",
        "       \n",
        "    return self.predictor(self.relu(hidden))"
      ],
      "metadata": {
        "id": "pLRS0j5efr3P"
      },
      "execution_count": 14,
      "outputs": []
    },
    {
      "cell_type": "markdown",
      "source": [
        "**1. BIDIRECTIONAL STACKED RNN WITH LSTM/GRU CELLS FOR THE TWITTER VACCINE SENTIMENT DATASET**"
      ],
      "metadata": {
        "id": "06MmtkJ4QA0g"
      }
    },
    {
      "cell_type": "code",
      "source": [
        "# STACKED RNN WITH LSTM\n",
        "def train_evaluate_bidirectional_RNN_model_LSTM(TEXT, data_train, data_val):\n",
        "  \n",
        "  # -----Initialize the model and its parameters-----\n",
        "\n",
        "  # The number of words in the vocabulary\n",
        "  input_dim = len(TEXT.vocab)\n",
        "  # The dimensions of each Glove vector              \n",
        "  embedding_dim = 25                       \n",
        "  # The number of hidden neurons\n",
        "  hidden_dim = 20          \n",
        "  # The number of output layers\n",
        "  output_dim = 3                           \n",
        "  # The number of hidden layers\n",
        "  num_layers = 2                                        \n",
        "  # Cell type of model\n",
        "  cell_type = 'LSTM'                       \n",
        "  # Dropout\n",
        "  dropout = 0.5              \n",
        "  # The Glove pre-trained embeddings\n",
        "  embeddings = TEXT.vocab.vectors          \n",
        "  # Get pad token index from vocab\n",
        "  PAD_IDX = TEXT.vocab.stoi[TEXT.pad_token]\n",
        "\n",
        "  # Initialize the model parameters\n",
        "  num_epochs = 40\n",
        "  batch_size = 256\n",
        "  clip = 2\n",
        "    \n",
        "  # Instantiate the model \n",
        "  model = BIDIRECTIONAL_RNN_LSTM_GRU(cell_type, input_dim, embedding_dim, hidden_dim, output_dim, embeddings, num_layers, dropout, PAD_IDX)\n",
        "  print(model)  \n",
        "  print(f'The model has {count_parameters(model):,} trainable parameters')\n",
        "\n",
        "  # Replace the initial weights of the embedding layer with the Glove pre-trained embeddings\n",
        "  model.word_embeddings.weight.data.copy_(embeddings)\n",
        "  # Initialize <unk> and <pad> both to all zeros - irrelevant for sentiment analysis\n",
        "  UNK_IDX = TEXT.vocab.stoi[TEXT.unk_token]\n",
        "\n",
        "  # Setting row in the embedding weights matrix to zero using the token index\n",
        "  model.word_embeddings.weight.data[UNK_IDX] = torch.zeros(embedding_dim)\n",
        "  model.word_embeddings.weight.data[PAD_IDX] = torch.zeros(embedding_dim)\n",
        "  #print(model.word_embeddings.weight.data)\n",
        "\n",
        "  # Define the optimizer\n",
        "  optimizer = torch.optim.Adam(model.parameters(), lr = 0.0001, weight_decay = 1e-4)   \n",
        "\n",
        "  # Define loss function\n",
        "  loss_function = nn.CrossEntropyLoss()\n",
        "  \n",
        "  model = model.to(device)\n",
        "  loss_function = loss_function.to(device)\n",
        "  \n",
        "  #set_seed(42)\n",
        "\n",
        "  # Create the iterators used for training and evaluating the model\n",
        "  train_iterator, valid_iterator = create_iterators(data_train, data_val, batch_size)\n",
        "\n",
        "  best_valid_loss = float('inf')\n",
        "\n",
        "  # Initialize empty lists to store the values of loss and accuracy for each epoch\n",
        "  train_accuracies = []\n",
        "  train_losses = []\n",
        "  val_accuracies = []\n",
        "  val_losses = []\n",
        "  \n",
        "  for epoch in range(num_epochs):\n",
        "    \n",
        "    start_time = time.time()\n",
        "\n",
        "    train_loss, train_accuracy = train(model, train_iterator, optimizer, loss_function, clip)\n",
        "    validation_loss, validation_accuracy = evaluate(model, valid_iterator, loss_function)\n",
        "\n",
        "    end_time = time.time()\n",
        "\n",
        "    epoch_mins, epoch_secs = epoch_time(start_time, end_time)\n",
        "      \n",
        "    print(f'Epoch: {epoch+1:02} | Epoch Time: {epoch_mins}m {epoch_secs}s')\n",
        "    print(f'\\tTrain Loss: {train_loss:.3f} | Train Acc: {train_accuracy*100:.2f}%')\n",
        "    print(f'\\t Val. Loss: {validation_loss:.3f} |  Val. Acc: {validation_accuracy*100:.2f}%')\n",
        "      \n",
        "    if validation_loss < best_valid_loss:\n",
        "        best_valid_loss = validation_loss\n",
        "        torch.save(model.state_dict(), 'LSTM_model.pt')\n",
        "\n",
        "    # Fill the empty lists with the values of accuracy and loss for training and evaluation sets\n",
        "    train_losses.append(train_loss)\n",
        "    train_accuracies.append(train_accuracy)\n",
        "    val_losses.append(validation_loss)\n",
        "    val_accuracies.append(validation_accuracy)\n",
        "\n",
        "  # Plot the loss vs epochs \n",
        "  plt.plot(train_losses)\n",
        "  plt.plot(val_losses)\n",
        "  plt.title('Train vs Validation Model Loss')\n",
        "  plt.ylabel('Loss')\n",
        "  plt.xlabel('Epoch')\n",
        "  plt.legend(['Train', 'Validation'])\n",
        "  plt.show()\n",
        "\n",
        "  # Plot the accuracy vs epochs\n",
        "  plt.plot(train_accuracies)\n",
        "  plt.plot(val_accuracies)\n",
        "  plt.title('Train vs Validation Model Accuracy')\n",
        "  plt.ylabel('Accuracy')\n",
        "  plt.xlabel('Epoch')\n",
        "  plt.legend(['Train', 'Validation'])\n",
        "  plt.show()\n",
        "   \n",
        "  # Evaluate model on the validation set\n",
        "  predictions, labels = testing(model, valid_iterator)\n",
        "\n",
        "  # Calculate the evaluation metrics on the testing set    \n",
        "  calculate_metrics(labels, predictions)                        \n",
        "\n",
        "  # Label binarization and store the number of classes\n",
        "  y_test = label_binarize(labels, classes=[0, 1, 2])\n",
        "  n_classes = y_test.shape[1]\n",
        "\n",
        "  # Label binarization and store the number of classes\n",
        "  y_score = label_binarize(predictions, classes=[0, 1, 2])\n",
        "\n",
        "  # Compute ROC curve and ROC area for each class\n",
        "  fpr = dict()\n",
        "  tpr = dict()\n",
        "  roc_auc = dict()\n",
        "  for i in range(n_classes):\n",
        "    fpr[i], tpr[i], _ = roc_curve(y_test[:, i], y_score[:, i])\n",
        "    roc_auc[i] = auc(fpr[i], tpr[i])\n",
        "\n",
        "  # Compute micro-average ROC curve and ROC area\n",
        "  fpr['micro'], tpr['micro'], _ = roc_curve(y_test.ravel(), y_score.ravel())\n",
        "  roc_auc['micro'] = auc(fpr['micro'], tpr['micro'])\n",
        "\n",
        "  # First aggregate all false positive rates\n",
        "  all_fpr = np.unique(np.concatenate([fpr[i] for i in range(n_classes)]))\n",
        "\n",
        "  # Then interpolate all ROC curves at this points\n",
        "  mean_tpr = np.zeros_like(all_fpr)\n",
        "  for i in range(n_classes):\n",
        "    mean_tpr += interp(all_fpr, fpr[i], tpr[i])\n",
        "\n",
        "  # Finally average it and compute AUC\n",
        "  mean_tpr /= n_classes\n",
        "\n",
        "  fpr['macro'] = all_fpr\n",
        "  tpr['macro'] = mean_tpr\n",
        "  roc_auc['macro'] = auc(fpr['macro'], tpr['macro'])\n",
        "  lw = 2\n",
        "\n",
        "  # Plot all ROC curves\n",
        "  plt.figure()\n",
        "  plt.plot(\n",
        "    fpr['micro'],\n",
        "    tpr['micro'],\n",
        "    label='micro-average ROC curve (area = {0:0.2f})'.format(roc_auc['micro']),\n",
        "    color='deeppink',\n",
        "    linestyle=':',\n",
        "    linewidth=4,)\n",
        "\n",
        "  plt.plot(\n",
        "    fpr['macro'],\n",
        "    tpr['macro'],\n",
        "    label='macro-average ROC curve (area = {0:0.2f})'.format(roc_auc['macro']),\n",
        "    color='navy',\n",
        "    linestyle=':',\n",
        "    linewidth=4,)\n",
        "\n",
        "  colors = cycle(['aqua', 'darkorange', 'cornflowerblue'])\n",
        "  for i, color in zip(range(n_classes), colors):\n",
        "    plt.plot(\n",
        "        fpr[i],\n",
        "        tpr[i],\n",
        "        color=color,\n",
        "        lw=lw,\n",
        "        label= 'ROC curve of class {0} (area = {1:0.2f})'.format(i, roc_auc[i]),)\n",
        "\n",
        "  plt.plot([0, 1], [0, 1], \"k--\", lw=lw)\n",
        "  plt.xlim([0.0, 1.0])\n",
        "  plt.ylim([0.0, 1.05])\n",
        "  plt.xlabel('False Positive Rate')\n",
        "  plt.ylabel('True Positive Rate')\n",
        "  plt.title('Roc curve for all classes')\n",
        "  plt.legend(loc='lower right')\n",
        "  plt.show()"
      ],
      "metadata": {
        "id": "-P05dOty_GrQ"
      },
      "execution_count": 48,
      "outputs": []
    },
    {
      "cell_type": "code",
      "source": [
        "# STACKED RNN WITH GRU\n",
        "def train_evaluate_bidirectional_RNN_model_GRU(TEXT, data_train, data_val):\n",
        "  \n",
        "  # -----Initialize the model and its parameters-----\n",
        "  # The number of words in the vocabulary\n",
        "  input_dim = len(TEXT.vocab)\n",
        "  # The dimensions of each Glove vector              \n",
        "  embedding_dim = 25                       \n",
        "  # The number of hidden neurons\n",
        "  hidden_dim = 20                    \n",
        "  # The number of output layers\n",
        "  output_dim = 3                           \n",
        "  # The number of hidden layers\n",
        "  num_layers = 2                                           \n",
        "  # Cell type of model\n",
        "  cell_type = 'GRU'                       \n",
        "  # Dropout\n",
        "  dropout = 0.5                \n",
        "  # The Glove pre-trained embeddings\n",
        "  embeddings = TEXT.vocab.vectors          \n",
        "  # Get pad token index from vocab\n",
        "  PAD_IDX = TEXT.vocab.stoi[TEXT.pad_token]\n",
        "\n",
        "  # Initialize the model parameters\n",
        "  num_epochs = 40\n",
        "  batch_size = 256\n",
        "  clip = 2\n",
        "    \n",
        "  # Instantiate the model \n",
        "  model = BIDIRECTIONAL_RNN_LSTM_GRU(cell_type, input_dim, embedding_dim, hidden_dim, output_dim, embeddings, num_layers, dropout, PAD_IDX)\n",
        "  print(model)\n",
        "  model = model.to(device)\n",
        "  print(f'The model has {count_parameters(model):,} trainable parameters')\n",
        "\n",
        "  # Replace the initial weights of the embedding layer with the pre-trained embeddings\n",
        "  model.word_embeddings.weight.data.copy_(embeddings)\n",
        "  # Initialize <unk> and <pad> both to all zeros - irrelevant for sentiment analysis\n",
        "  UNK_IDX = TEXT.vocab.stoi[TEXT.unk_token]\n",
        "\n",
        "  # Setting row in the embedding weights matrix to zero using the token index\n",
        "  model.word_embeddings.weight.data[UNK_IDX] = torch.zeros(embedding_dim)\n",
        "  model.word_embeddings.weight.data[PAD_IDX] = torch.zeros(embedding_dim)\n",
        "  #print(model.embedding.weight.data)\n",
        "\n",
        "  # Define the optimizer\n",
        "  optimizer = torch.optim.Adam(model.parameters(), lr = 0.0001, weight_decay = 1e-4)   \n",
        "  \n",
        "  # Define loss function\n",
        "  loss_function = nn.CrossEntropyLoss()\n",
        "  loss_function = loss_function.to(device)\n",
        "\n",
        "  #set_seed(42)\n",
        "\n",
        "  # Create the iterators used for training and evaluating the model\n",
        "  train_iterator, valid_iterator = create_iterators(data_train, data_val, batch_size)\n",
        "\n",
        "  best_valid_loss = float('inf')\n",
        "\n",
        "  # Initialize empty lists to store the values of loss and accuracy for each epoch\n",
        "  train_accuracies = []\n",
        "  train_losses = []\n",
        "  val_accuracies = []\n",
        "  val_losses = []\n",
        "  \n",
        "  for epoch in range(num_epochs):\n",
        "    \n",
        "    start_time = time.time()\n",
        "\n",
        "    train_loss, train_accuracy = train(model, train_iterator, optimizer, loss_function, clip)\n",
        "    validation_loss, validation_accuracy = evaluate(model, valid_iterator, loss_function)\n",
        "\n",
        "    end_time = time.time()\n",
        "\n",
        "    epoch_mins, epoch_secs = epoch_time(start_time, end_time)\n",
        "      \n",
        "    print(f'Epoch: {epoch+1:02} | Epoch Time: {epoch_mins}m {epoch_secs}s')\n",
        "    print(f'\\tTrain Loss: {train_loss:.3f} | Train Acc: {train_accuracy*100:.2f}%')\n",
        "    print(f'\\t Val. Loss: {validation_loss:.3f} |  Val. Acc: {validation_accuracy*100:.2f}%')\n",
        "      \n",
        "    if validation_loss < best_valid_loss:\n",
        "        best_valid_loss = validation_loss\n",
        "        torch.save(model.state_dict(), 'GRU_model.pt')\n",
        "\n",
        "    # Fill the empty lists with the values of accuracy and loss for training and evaluation sets\n",
        "    train_losses.append(train_loss)\n",
        "    train_accuracies.append(train_accuracy)\n",
        "    val_losses.append(validation_loss)\n",
        "    val_accuracies.append(validation_accuracy)\n",
        "\n",
        "  # Plot the loss vs epochs \n",
        "  plt.plot(train_losses)\n",
        "  plt.plot(val_losses)\n",
        "  plt.title('Train vs Validation Model Loss')\n",
        "  plt.ylabel('Loss')\n",
        "  plt.xlabel('Epoch')\n",
        "  plt.legend(['Train', 'Validation'])\n",
        "  plt.show()\n",
        "\n",
        "  # Plot the accuracy vs epochs\n",
        "  plt.plot(train_accuracies)\n",
        "  plt.plot(val_accuracies)\n",
        "  plt.title('Train vs Validation Model Accuracy')\n",
        "  plt.ylabel('Accuracy')\n",
        "  plt.xlabel('Epoch')\n",
        "  plt.legend(['Train', 'Validation'])\n",
        "  plt.show()\n",
        "\n",
        "  # Evaluate model on the validation set\n",
        "  predictions, labels = testing(model, valid_iterator)\n",
        "\n",
        "  # Calculate the evaluation metrics on the testing set    \n",
        "  calculate_metrics(labels, predictions)                        \n",
        "\n",
        "  # Label binarization and store the number of classes\n",
        "  y_test = label_binarize(labels, classes=[0, 1, 2])\n",
        "  n_classes = y_test.shape[1]\n",
        "\n",
        "  # Label binarization and store the number of classes\n",
        "  y_score = label_binarize(predictions, classes=[0, 1, 2])\n",
        "\n",
        "  # Compute ROC curve and ROC area for each class\n",
        "  fpr = dict()\n",
        "  tpr = dict()\n",
        "  roc_auc = dict()\n",
        "  for i in range(n_classes):\n",
        "    fpr[i], tpr[i], _ = roc_curve(y_test[:, i], y_score[:, i])\n",
        "    roc_auc[i] = auc(fpr[i], tpr[i])\n",
        "\n",
        "  # Compute micro-average ROC curve and ROC area\n",
        "  fpr['micro'], tpr['micro'], _ = roc_curve(y_test.ravel(), y_score.ravel())\n",
        "  roc_auc['micro'] = auc(fpr['micro'], tpr['micro'])\n",
        "\n",
        "  # First aggregate all false positive rates\n",
        "  all_fpr = np.unique(np.concatenate([fpr[i] for i in range(n_classes)]))\n",
        "\n",
        "  # Then interpolate all ROC curves at this points\n",
        "  mean_tpr = np.zeros_like(all_fpr)\n",
        "  for i in range(n_classes):\n",
        "    mean_tpr += interp(all_fpr, fpr[i], tpr[i])\n",
        "\n",
        "  # Finally average it and compute AUC\n",
        "  mean_tpr /= n_classes\n",
        "\n",
        "  fpr['macro'] = all_fpr\n",
        "  tpr['macro'] = mean_tpr\n",
        "  roc_auc['macro'] = auc(fpr['macro'], tpr['macro'])\n",
        "  lw = 2\n",
        "\n",
        "  # Plot all ROC curves\n",
        "  plt.figure()\n",
        "  plt.plot(\n",
        "    fpr['micro'],\n",
        "    tpr['micro'],\n",
        "    label='micro-average ROC curve (area = {0:0.2f})'.format(roc_auc['micro']),\n",
        "    color='deeppink',\n",
        "    linestyle=':',\n",
        "    linewidth=4,)\n",
        "\n",
        "  plt.plot(\n",
        "    fpr['macro'],\n",
        "    tpr['macro'],\n",
        "    label='macro-average ROC curve (area = {0:0.2f})'.format(roc_auc['macro']),\n",
        "    color='navy',\n",
        "    linestyle=':',\n",
        "    linewidth=4,)\n",
        "\n",
        "  colors = cycle(['aqua', 'darkorange', 'cornflowerblue'])\n",
        "  for i, color in zip(range(n_classes), colors):\n",
        "    plt.plot(\n",
        "        fpr[i],\n",
        "        tpr[i],\n",
        "        color=color,\n",
        "        lw=lw,\n",
        "        label= 'ROC curve of class {0} (area = {1:0.2f})'.format(i, roc_auc[i]),)\n",
        "\n",
        "  plt.plot([0, 1], [0, 1], \"k--\", lw=lw)\n",
        "  plt.xlim([0.0, 1.0])\n",
        "  plt.ylim([0.0, 1.05])\n",
        "  plt.xlabel('False Positive Rate')\n",
        "  plt.ylabel('True Positive Rate')\n",
        "  plt.title('Roc curve for all classes')\n",
        "  plt.legend(loc='lower right')\n",
        "  plt.show()"
      ],
      "metadata": {
        "id": "90j8JlSv3nAj"
      },
      "execution_count": 52,
      "outputs": []
    },
    {
      "cell_type": "markdown",
      "source": [
        "**DATA PREPARATION**"
      ],
      "metadata": {
        "id": "zlpcYcjy2TIx"
      }
    },
    {
      "cell_type": "code",
      "source": [
        "# Prepare the training dataset\n",
        "print('------ Preparing the training dataset... ------')\n",
        "\n",
        "# Opens, reads, checks for duplicates and removes missing values\n",
        "df_train  = read_explore_dataframe('vaccine_train_set.csv')\n",
        "\n",
        "# Preprocess and resample dataset and return a new cleaned one \n",
        "train_dataframe = get_columns(df_train, 'tweet', 'label')\n",
        "  \n",
        "# Save the testing data into csv format \n",
        "train_dataframe.to_csv(\"/content/train.csv\", index=False)\n",
        "print('The training dataset is ready and saved into csv format!')\n",
        "\n",
        "# Prepare the validation dataset\n",
        "print('\\n------ Preparing the validation dataset... ------')\n",
        "\n",
        "# Opens, reads, checks for duplicates and removes missing values\n",
        "df_val = read_explore_dataframe('vaccine_validation_set.csv')\n",
        "\n",
        "# Preprocess and resample dataset and return a new cleaned one \n",
        "valid_dataframe = get_columns(df_val, 'tweet', 'label')\n",
        "  \n",
        "# Save the testing data into csv format \n",
        "valid_dataframe.to_csv(\"/content/validation.csv\", index=False)\n",
        "print('The validation dataset is ready and saved into csv format!')"
      ],
      "metadata": {
        "colab": {
          "base_uri": "https://localhost:8080/"
        },
        "id": "iLDtFlEG6yHd",
        "outputId": "46da966d-d733-4ae3-ab7e-17e755f5c05b"
      },
      "execution_count": 17,
      "outputs": [
        {
          "output_type": "stream",
          "name": "stdout",
          "text": [
            "------ Preparing the training dataset... ------\n",
            "Unnamed: 0                    15976\n",
            "tweet                         15881\n",
            "label                             3\n",
            "Dataframe checked for NaN values and duplicates!\n",
            "Distribution of data in classes:\n",
            "0    0.466825\n",
            "2    0.403418\n",
            "1    0.129757\n",
            "Name: label, dtype: float64\n",
            "Distribution of data in classes after resampling:\n",
            "2    15976\n",
            "1    15976\n",
            "0    15976\n",
            "Name: label, dtype: int64\n",
            "\n",
            "Text done pre-processing!\n",
            "The training dataset is ready and saved into csv format!\n",
            "\n",
            "------ Preparing the validation dataset... ------\n",
            "Unnamed: 0                     2282\n",
            "tweet                          2276\n",
            "label                             3\n",
            "Dataframe checked for NaN values and duplicates!\n",
            "Distribution of data in classes:\n",
            "0    0.466696\n",
            "2    0.403593\n",
            "1    0.129711\n",
            "Name: label, dtype: float64\n",
            "Distribution of data in classes after resampling:\n",
            "2    2282\n",
            "1    2282\n",
            "0    2282\n",
            "Name: label, dtype: int64\n",
            "\n",
            "Text done pre-processing!\n",
            "The validation dataset is ready and saved into csv format!\n"
          ]
        }
      ]
    },
    {
      "cell_type": "markdown",
      "source": [
        "**BUILD THE VOCABULARY**"
      ],
      "metadata": {
        "id": "Wo8WhZNm_dFo"
      }
    },
    {
      "cell_type": "code",
      "source": [
        "set_seed(42)\n",
        "\n",
        "# Create the TEXT and LABEL fields\n",
        "TEXT = data.Field(tokenize = 'spacy', lower = True, sequential = True, include_lengths = True)\n",
        "LABEL = data.LabelField(dtype = torch.float, sequential = False)\n",
        "\n",
        "# Loading training and validation data \n",
        "train_data, valid_data = data.TabularDataset.splits(\n",
        "    path ='/content/', train = 'train.csv', \n",
        "    validation = 'validation.csv', format = 'csv', skip_header = True, \n",
        "    fields = [('Tweet', TEXT), ('Label', LABEL)])\n",
        "\n",
        "print(f'Number of training examples: {len(train_data)}')\n",
        "print(f'Number of valid examples: {len(valid_data)}')\n",
        "\n",
        "# Build the vocabulary using the train data\n",
        "TEXT.build_vocab(train_data, vectors = torchtext.vocab.Vectors('/content/GLOVE/glove.twitter.27B.25d.txt'), unk_init=torch.Tensor.normal_) \n",
        "LABEL.build_vocab(train_data)\n",
        "\n",
        "print('\\nTokens in TEXT vocabulary: {}'.format(len(TEXT.vocab)))\n",
        "print('Tokens in LABEL vocabulary: {}'.format(len(LABEL.vocab)))"
      ],
      "metadata": {
        "colab": {
          "base_uri": "https://localhost:8080/"
        },
        "id": "rw8g3ghY7_P0",
        "outputId": "29476499-b773-4991-ea8b-43d5fdee6900"
      },
      "execution_count": 18,
      "outputs": [
        {
          "output_type": "stream",
          "name": "stdout",
          "text": [
            "Number of training examples: 47928\n",
            "Number of valid examples: 6846\n"
          ]
        },
        {
          "output_type": "stream",
          "name": "stderr",
          "text": [
            "100%|█████████▉| 1193513/1193514 [00:28<00:00, 41429.05it/s]\n"
          ]
        },
        {
          "output_type": "stream",
          "name": "stdout",
          "text": [
            "\n",
            "Tokens in TEXT vocabulary: 20872\n",
            "Tokens in LABEL vocabulary: 3\n"
          ]
        }
      ]
    },
    {
      "cell_type": "markdown",
      "source": [
        "**BIDIRECTIONAL STACKED RNN WITH LSTM**"
      ],
      "metadata": {
        "id": "mEKpmkmF11sr"
      }
    },
    {
      "cell_type": "code",
      "source": [
        "train_evaluate_bidirectional_RNN_model_LSTM(TEXT, train_data, valid_data)"
      ],
      "metadata": {
        "colab": {
          "base_uri": "https://localhost:8080/",
          "height": 1000
        },
        "id": "6c-hvMOC2B9r",
        "outputId": "1b44a674-ef68-406b-d52d-f30e448aa703"
      },
      "execution_count": 49,
      "outputs": [
        {
          "output_type": "stream",
          "name": "stdout",
          "text": [
            "BIDIRECTIONAL_RNN_LSTM_GRU(\n",
            "  (word_embeddings): Embedding(20872, 25, padding_idx=1)\n",
            "  (rnn): LSTM(25, 20, num_layers=2, batch_first=True, dropout=0.5, bidirectional=True)\n",
            "  (predictor): Linear(in_features=40, out_features=3, bias=True)\n",
            "  (dropout): Dropout(p=0.5, inplace=False)\n",
            "  (relu): ReLU()\n",
            ")\n",
            "The model has 539,363 trainable parameters\n"
          ]
        },
        {
          "output_type": "stream",
          "name": "stderr",
          "text": [
            "100%|██████████| 188/188 [00:06<00:00, 28.92it/s]\n",
            "100%|██████████| 27/27 [00:00<00:00, 87.18it/s] \n"
          ]
        },
        {
          "output_type": "stream",
          "name": "stdout",
          "text": [
            "Epoch: 01 | Epoch Time: 0m 6s\n",
            "\tTrain Loss: 1.103 | Train Acc: 33.22%\n",
            "\t Val. Loss: 1.099 |  Val. Acc: 33.06%\n"
          ]
        },
        {
          "output_type": "stream",
          "name": "stderr",
          "text": [
            "100%|██████████| 188/188 [00:06<00:00, 29.97it/s]\n",
            "100%|██████████| 27/27 [00:00<00:00, 85.17it/s] \n"
          ]
        },
        {
          "output_type": "stream",
          "name": "stdout",
          "text": [
            "Epoch: 02 | Epoch Time: 0m 6s\n",
            "\tTrain Loss: 1.099 | Train Acc: 33.25%\n",
            "\t Val. Loss: 1.096 |  Val. Acc: 33.06%\n"
          ]
        },
        {
          "output_type": "stream",
          "name": "stderr",
          "text": [
            "100%|██████████| 188/188 [00:06<00:00, 29.75it/s]\n",
            "100%|██████████| 27/27 [00:00<00:00, 86.99it/s] \n"
          ]
        },
        {
          "output_type": "stream",
          "name": "stdout",
          "text": [
            "Epoch: 03 | Epoch Time: 0m 6s\n",
            "\tTrain Loss: 1.097 | Train Acc: 33.22%\n",
            "\t Val. Loss: 1.091 |  Val. Acc: 33.06%\n"
          ]
        },
        {
          "output_type": "stream",
          "name": "stderr",
          "text": [
            "100%|██████████| 188/188 [00:06<00:00, 28.53it/s]\n",
            "100%|██████████| 27/27 [00:00<00:00, 86.86it/s] \n"
          ]
        },
        {
          "output_type": "stream",
          "name": "stdout",
          "text": [
            "Epoch: 04 | Epoch Time: 0m 6s\n",
            "\tTrain Loss: 1.092 | Train Acc: 33.23%\n",
            "\t Val. Loss: 1.082 |  Val. Acc: 33.06%\n"
          ]
        },
        {
          "output_type": "stream",
          "name": "stderr",
          "text": [
            "100%|██████████| 188/188 [00:06<00:00, 29.84it/s]\n",
            "100%|██████████| 27/27 [00:00<00:00, 88.23it/s] \n"
          ]
        },
        {
          "output_type": "stream",
          "name": "stdout",
          "text": [
            "Epoch: 05 | Epoch Time: 0m 6s\n",
            "\tTrain Loss: 1.082 | Train Acc: 33.24%\n",
            "\t Val. Loss: 1.060 |  Val. Acc: 33.06%\n"
          ]
        },
        {
          "output_type": "stream",
          "name": "stderr",
          "text": [
            "100%|██████████| 188/188 [00:06<00:00, 29.83it/s]\n",
            "100%|██████████| 27/27 [00:00<00:00, 73.92it/s]\n"
          ]
        },
        {
          "output_type": "stream",
          "name": "stdout",
          "text": [
            "Epoch: 06 | Epoch Time: 0m 6s\n",
            "\tTrain Loss: 1.063 | Train Acc: 33.96%\n",
            "\t Val. Loss: 1.024 |  Val. Acc: 33.06%\n"
          ]
        },
        {
          "output_type": "stream",
          "name": "stderr",
          "text": [
            "100%|██████████| 188/188 [00:06<00:00, 27.31it/s]\n",
            "100%|██████████| 27/27 [00:00<00:00, 84.99it/s]\n"
          ]
        },
        {
          "output_type": "stream",
          "name": "stdout",
          "text": [
            "Epoch: 07 | Epoch Time: 0m 7s\n",
            "\tTrain Loss: 1.040 | Train Acc: 36.84%\n",
            "\t Val. Loss: 0.990 |  Val. Acc: 33.26%\n"
          ]
        },
        {
          "output_type": "stream",
          "name": "stderr",
          "text": [
            "100%|██████████| 188/188 [00:07<00:00, 26.00it/s]\n",
            "100%|██████████| 27/27 [00:00<00:00, 85.68it/s] \n"
          ]
        },
        {
          "output_type": "stream",
          "name": "stdout",
          "text": [
            "Epoch: 08 | Epoch Time: 0m 7s\n",
            "\tTrain Loss: 1.018 | Train Acc: 40.18%\n",
            "\t Val. Loss: 0.971 |  Val. Acc: 41.01%\n"
          ]
        },
        {
          "output_type": "stream",
          "name": "stderr",
          "text": [
            "100%|██████████| 188/188 [00:06<00:00, 30.33it/s]\n",
            "100%|██████████| 27/27 [00:00<00:00, 85.21it/s] \n"
          ]
        },
        {
          "output_type": "stream",
          "name": "stdout",
          "text": [
            "Epoch: 09 | Epoch Time: 0m 6s\n",
            "\tTrain Loss: 1.003 | Train Acc: 42.20%\n",
            "\t Val. Loss: 0.940 |  Val. Acc: 47.85%\n"
          ]
        },
        {
          "output_type": "stream",
          "name": "stderr",
          "text": [
            "100%|██████████| 188/188 [00:06<00:00, 30.12it/s]\n",
            "100%|██████████| 27/27 [00:00<00:00, 84.65it/s] \n"
          ]
        },
        {
          "output_type": "stream",
          "name": "stdout",
          "text": [
            "Epoch: 10 | Epoch Time: 0m 6s\n",
            "\tTrain Loss: 0.987 | Train Acc: 44.10%\n",
            "\t Val. Loss: 0.922 |  Val. Acc: 49.66%\n"
          ]
        },
        {
          "output_type": "stream",
          "name": "stderr",
          "text": [
            "100%|██████████| 188/188 [00:06<00:00, 30.10it/s]\n",
            "100%|██████████| 27/27 [00:00<00:00, 86.07it/s] \n"
          ]
        },
        {
          "output_type": "stream",
          "name": "stdout",
          "text": [
            "Epoch: 11 | Epoch Time: 0m 6s\n",
            "\tTrain Loss: 0.975 | Train Acc: 45.58%\n",
            "\t Val. Loss: 0.912 |  Val. Acc: 49.84%\n"
          ]
        },
        {
          "output_type": "stream",
          "name": "stderr",
          "text": [
            "100%|██████████| 188/188 [00:06<00:00, 30.04it/s]\n",
            "100%|██████████| 27/27 [00:00<00:00, 86.61it/s] \n"
          ]
        },
        {
          "output_type": "stream",
          "name": "stdout",
          "text": [
            "Epoch: 12 | Epoch Time: 0m 6s\n",
            "\tTrain Loss: 0.965 | Train Acc: 46.66%\n",
            "\t Val. Loss: 0.896 |  Val. Acc: 51.94%\n"
          ]
        },
        {
          "output_type": "stream",
          "name": "stderr",
          "text": [
            "100%|██████████| 188/188 [00:06<00:00, 29.80it/s]\n",
            "100%|██████████| 27/27 [00:00<00:00, 85.42it/s] \n"
          ]
        },
        {
          "output_type": "stream",
          "name": "stdout",
          "text": [
            "Epoch: 13 | Epoch Time: 0m 6s\n",
            "\tTrain Loss: 0.958 | Train Acc: 47.45%\n",
            "\t Val. Loss: 0.888 |  Val. Acc: 52.21%\n"
          ]
        },
        {
          "output_type": "stream",
          "name": "stderr",
          "text": [
            "100%|██████████| 188/188 [00:06<00:00, 30.66it/s]\n",
            "100%|██████████| 27/27 [00:00<00:00, 89.00it/s] \n"
          ]
        },
        {
          "output_type": "stream",
          "name": "stdout",
          "text": [
            "Epoch: 14 | Epoch Time: 0m 6s\n",
            "\tTrain Loss: 0.949 | Train Acc: 48.25%\n",
            "\t Val. Loss: 0.885 |  Val. Acc: 51.60%\n"
          ]
        },
        {
          "output_type": "stream",
          "name": "stderr",
          "text": [
            "100%|██████████| 188/188 [00:06<00:00, 30.27it/s]\n",
            "100%|██████████| 27/27 [00:00<00:00, 86.61it/s] \n"
          ]
        },
        {
          "output_type": "stream",
          "name": "stdout",
          "text": [
            "Epoch: 15 | Epoch Time: 0m 6s\n",
            "\tTrain Loss: 0.940 | Train Acc: 49.14%\n",
            "\t Val. Loss: 0.875 |  Val. Acc: 53.81%\n"
          ]
        },
        {
          "output_type": "stream",
          "name": "stderr",
          "text": [
            "100%|██████████| 188/188 [00:06<00:00, 30.25it/s]\n",
            "100%|██████████| 27/27 [00:00<00:00, 85.33it/s] \n"
          ]
        },
        {
          "output_type": "stream",
          "name": "stdout",
          "text": [
            "Epoch: 16 | Epoch Time: 0m 6s\n",
            "\tTrain Loss: 0.934 | Train Acc: 49.72%\n",
            "\t Val. Loss: 0.872 |  Val. Acc: 53.56%\n"
          ]
        },
        {
          "output_type": "stream",
          "name": "stderr",
          "text": [
            "100%|██████████| 188/188 [00:06<00:00, 30.37it/s]\n",
            "100%|██████████| 27/27 [00:00<00:00, 87.71it/s] \n"
          ]
        },
        {
          "output_type": "stream",
          "name": "stdout",
          "text": [
            "Epoch: 17 | Epoch Time: 0m 6s\n",
            "\tTrain Loss: 0.924 | Train Acc: 50.45%\n",
            "\t Val. Loss: 0.865 |  Val. Acc: 55.32%\n"
          ]
        },
        {
          "output_type": "stream",
          "name": "stderr",
          "text": [
            "100%|██████████| 188/188 [00:06<00:00, 30.02it/s]\n",
            "100%|██████████| 27/27 [00:00<00:00, 87.82it/s] \n"
          ]
        },
        {
          "output_type": "stream",
          "name": "stdout",
          "text": [
            "Epoch: 18 | Epoch Time: 0m 6s\n",
            "\tTrain Loss: 0.917 | Train Acc: 51.04%\n",
            "\t Val. Loss: 0.859 |  Val. Acc: 55.80%\n"
          ]
        },
        {
          "output_type": "stream",
          "name": "stderr",
          "text": [
            "100%|██████████| 188/188 [00:06<00:00, 30.24it/s]\n",
            "100%|██████████| 27/27 [00:00<00:00, 86.78it/s] \n"
          ]
        },
        {
          "output_type": "stream",
          "name": "stdout",
          "text": [
            "Epoch: 19 | Epoch Time: 0m 6s\n",
            "\tTrain Loss: 0.916 | Train Acc: 51.03%\n",
            "\t Val. Loss: 0.855 |  Val. Acc: 55.93%\n"
          ]
        },
        {
          "output_type": "stream",
          "name": "stderr",
          "text": [
            "100%|██████████| 188/188 [00:06<00:00, 30.50it/s]\n",
            "100%|██████████| 27/27 [00:00<00:00, 86.11it/s] \n"
          ]
        },
        {
          "output_type": "stream",
          "name": "stdout",
          "text": [
            "Epoch: 20 | Epoch Time: 0m 6s\n",
            "\tTrain Loss: 0.910 | Train Acc: 51.39%\n",
            "\t Val. Loss: 0.853 |  Val. Acc: 56.34%\n"
          ]
        },
        {
          "output_type": "stream",
          "name": "stderr",
          "text": [
            "100%|██████████| 188/188 [00:06<00:00, 30.25it/s]\n",
            "100%|██████████| 27/27 [00:00<00:00, 87.39it/s] \n"
          ]
        },
        {
          "output_type": "stream",
          "name": "stdout",
          "text": [
            "Epoch: 21 | Epoch Time: 0m 6s\n",
            "\tTrain Loss: 0.901 | Train Acc: 52.23%\n",
            "\t Val. Loss: 0.853 |  Val. Acc: 55.78%\n"
          ]
        },
        {
          "output_type": "stream",
          "name": "stderr",
          "text": [
            "100%|██████████| 188/188 [00:06<00:00, 30.29it/s]\n",
            "100%|██████████| 27/27 [00:00<00:00, 86.92it/s] \n"
          ]
        },
        {
          "output_type": "stream",
          "name": "stdout",
          "text": [
            "Epoch: 22 | Epoch Time: 0m 6s\n",
            "\tTrain Loss: 0.896 | Train Acc: 52.53%\n",
            "\t Val. Loss: 0.844 |  Val. Acc: 57.09%\n"
          ]
        },
        {
          "output_type": "stream",
          "name": "stderr",
          "text": [
            "100%|██████████| 188/188 [00:06<00:00, 29.94it/s]\n",
            "100%|██████████| 27/27 [00:00<00:00, 86.89it/s] \n"
          ]
        },
        {
          "output_type": "stream",
          "name": "stdout",
          "text": [
            "Epoch: 23 | Epoch Time: 0m 6s\n",
            "\tTrain Loss: 0.894 | Train Acc: 52.78%\n",
            "\t Val. Loss: 0.846 |  Val. Acc: 57.12%\n"
          ]
        },
        {
          "output_type": "stream",
          "name": "stderr",
          "text": [
            "100%|██████████| 188/188 [00:06<00:00, 28.78it/s]\n",
            "100%|██████████| 27/27 [00:00<00:00, 85.26it/s] \n"
          ]
        },
        {
          "output_type": "stream",
          "name": "stdout",
          "text": [
            "Epoch: 24 | Epoch Time: 0m 6s\n",
            "\tTrain Loss: 0.884 | Train Acc: 53.62%\n",
            "\t Val. Loss: 0.841 |  Val. Acc: 57.70%\n"
          ]
        },
        {
          "output_type": "stream",
          "name": "stderr",
          "text": [
            "100%|██████████| 188/188 [00:06<00:00, 30.07it/s]\n",
            "100%|██████████| 27/27 [00:00<00:00, 87.80it/s] \n"
          ]
        },
        {
          "output_type": "stream",
          "name": "stdout",
          "text": [
            "Epoch: 25 | Epoch Time: 0m 6s\n",
            "\tTrain Loss: 0.880 | Train Acc: 54.03%\n",
            "\t Val. Loss: 0.835 |  Val. Acc: 58.78%\n"
          ]
        },
        {
          "output_type": "stream",
          "name": "stderr",
          "text": [
            "100%|██████████| 188/188 [00:06<00:00, 30.24it/s]\n",
            "100%|██████████| 27/27 [00:00<00:00, 86.85it/s] \n"
          ]
        },
        {
          "output_type": "stream",
          "name": "stdout",
          "text": [
            "Epoch: 26 | Epoch Time: 0m 6s\n",
            "\tTrain Loss: 0.879 | Train Acc: 54.14%\n",
            "\t Val. Loss: 0.833 |  Val. Acc: 59.45%\n"
          ]
        },
        {
          "output_type": "stream",
          "name": "stderr",
          "text": [
            "100%|██████████| 188/188 [00:06<00:00, 30.16it/s]\n",
            "100%|██████████| 27/27 [00:00<00:00, 84.28it/s] \n"
          ]
        },
        {
          "output_type": "stream",
          "name": "stdout",
          "text": [
            "Epoch: 27 | Epoch Time: 0m 6s\n",
            "\tTrain Loss: 0.871 | Train Acc: 54.52%\n",
            "\t Val. Loss: 0.829 |  Val. Acc: 60.38%\n"
          ]
        },
        {
          "output_type": "stream",
          "name": "stderr",
          "text": [
            "100%|██████████| 188/188 [00:06<00:00, 30.56it/s]\n",
            "100%|██████████| 27/27 [00:00<00:00, 87.29it/s] \n"
          ]
        },
        {
          "output_type": "stream",
          "name": "stdout",
          "text": [
            "Epoch: 28 | Epoch Time: 0m 6s\n",
            "\tTrain Loss: 0.867 | Train Acc: 55.31%\n",
            "\t Val. Loss: 0.828 |  Val. Acc: 60.18%\n"
          ]
        },
        {
          "output_type": "stream",
          "name": "stderr",
          "text": [
            "100%|██████████| 188/188 [00:06<00:00, 30.15it/s]\n",
            "100%|██████████| 27/27 [00:00<00:00, 87.23it/s] \n"
          ]
        },
        {
          "output_type": "stream",
          "name": "stdout",
          "text": [
            "Epoch: 29 | Epoch Time: 0m 6s\n",
            "\tTrain Loss: 0.861 | Train Acc: 55.68%\n",
            "\t Val. Loss: 0.829 |  Val. Acc: 61.20%\n"
          ]
        },
        {
          "output_type": "stream",
          "name": "stderr",
          "text": [
            "100%|██████████| 188/188 [00:06<00:00, 30.38it/s]\n",
            "100%|██████████| 27/27 [00:00<00:00, 87.71it/s] \n"
          ]
        },
        {
          "output_type": "stream",
          "name": "stdout",
          "text": [
            "Epoch: 30 | Epoch Time: 0m 6s\n",
            "\tTrain Loss: 0.857 | Train Acc: 56.60%\n",
            "\t Val. Loss: 0.825 |  Val. Acc: 61.33%\n"
          ]
        },
        {
          "output_type": "stream",
          "name": "stderr",
          "text": [
            "100%|██████████| 188/188 [00:06<00:00, 30.04it/s]\n",
            "100%|██████████| 27/27 [00:00<00:00, 86.94it/s] \n"
          ]
        },
        {
          "output_type": "stream",
          "name": "stdout",
          "text": [
            "Epoch: 31 | Epoch Time: 0m 6s\n",
            "\tTrain Loss: 0.850 | Train Acc: 56.63%\n",
            "\t Val. Loss: 0.823 |  Val. Acc: 61.77%\n"
          ]
        },
        {
          "output_type": "stream",
          "name": "stderr",
          "text": [
            "100%|██████████| 188/188 [00:06<00:00, 30.04it/s]\n",
            "100%|██████████| 27/27 [00:00<00:00, 86.16it/s] \n"
          ]
        },
        {
          "output_type": "stream",
          "name": "stdout",
          "text": [
            "Epoch: 32 | Epoch Time: 0m 6s\n",
            "\tTrain Loss: 0.850 | Train Acc: 57.16%\n",
            "\t Val. Loss: 0.820 |  Val. Acc: 62.05%\n"
          ]
        },
        {
          "output_type": "stream",
          "name": "stderr",
          "text": [
            "100%|██████████| 188/188 [00:06<00:00, 30.02it/s]\n",
            "100%|██████████| 27/27 [00:00<00:00, 85.48it/s] \n"
          ]
        },
        {
          "output_type": "stream",
          "name": "stdout",
          "text": [
            "Epoch: 33 | Epoch Time: 0m 6s\n",
            "\tTrain Loss: 0.843 | Train Acc: 57.44%\n",
            "\t Val. Loss: 0.819 |  Val. Acc: 62.04%\n"
          ]
        },
        {
          "output_type": "stream",
          "name": "stderr",
          "text": [
            "100%|██████████| 188/188 [00:06<00:00, 30.12it/s]\n",
            "100%|██████████| 27/27 [00:00<00:00, 86.81it/s] \n"
          ]
        },
        {
          "output_type": "stream",
          "name": "stdout",
          "text": [
            "Epoch: 34 | Epoch Time: 0m 6s\n",
            "\tTrain Loss: 0.836 | Train Acc: 57.84%\n",
            "\t Val. Loss: 0.807 |  Val. Acc: 63.22%\n"
          ]
        },
        {
          "output_type": "stream",
          "name": "stderr",
          "text": [
            "100%|██████████| 188/188 [00:06<00:00, 30.43it/s]\n",
            "100%|██████████| 27/27 [00:00<00:00, 86.78it/s] \n"
          ]
        },
        {
          "output_type": "stream",
          "name": "stdout",
          "text": [
            "Epoch: 35 | Epoch Time: 0m 6s\n",
            "\tTrain Loss: 0.830 | Train Acc: 58.48%\n",
            "\t Val. Loss: 0.807 |  Val. Acc: 63.09%\n"
          ]
        },
        {
          "output_type": "stream",
          "name": "stderr",
          "text": [
            "100%|██████████| 188/188 [00:06<00:00, 30.15it/s]\n",
            "100%|██████████| 27/27 [00:00<00:00, 86.56it/s] \n"
          ]
        },
        {
          "output_type": "stream",
          "name": "stdout",
          "text": [
            "Epoch: 36 | Epoch Time: 0m 6s\n",
            "\tTrain Loss: 0.830 | Train Acc: 58.94%\n",
            "\t Val. Loss: 0.808 |  Val. Acc: 63.73%\n"
          ]
        },
        {
          "output_type": "stream",
          "name": "stderr",
          "text": [
            "100%|██████████| 188/188 [00:06<00:00, 30.21it/s]\n",
            "100%|██████████| 27/27 [00:00<00:00, 86.31it/s] \n"
          ]
        },
        {
          "output_type": "stream",
          "name": "stdout",
          "text": [
            "Epoch: 37 | Epoch Time: 0m 6s\n",
            "\tTrain Loss: 0.822 | Train Acc: 59.41%\n",
            "\t Val. Loss: 0.805 |  Val. Acc: 63.42%\n"
          ]
        },
        {
          "output_type": "stream",
          "name": "stderr",
          "text": [
            "100%|██████████| 188/188 [00:06<00:00, 29.52it/s]\n",
            "100%|██████████| 27/27 [00:00<00:00, 86.04it/s] \n"
          ]
        },
        {
          "output_type": "stream",
          "name": "stdout",
          "text": [
            "Epoch: 38 | Epoch Time: 0m 6s\n",
            "\tTrain Loss: 0.816 | Train Acc: 59.65%\n",
            "\t Val. Loss: 0.805 |  Val. Acc: 64.09%\n"
          ]
        },
        {
          "output_type": "stream",
          "name": "stderr",
          "text": [
            "100%|██████████| 188/188 [00:06<00:00, 29.88it/s]\n",
            "100%|██████████| 27/27 [00:00<00:00, 87.35it/s] \n"
          ]
        },
        {
          "output_type": "stream",
          "name": "stdout",
          "text": [
            "Epoch: 39 | Epoch Time: 0m 6s\n",
            "\tTrain Loss: 0.812 | Train Acc: 60.58%\n",
            "\t Val. Loss: 0.801 |  Val. Acc: 63.83%\n"
          ]
        },
        {
          "output_type": "stream",
          "name": "stderr",
          "text": [
            "100%|██████████| 188/188 [00:06<00:00, 28.60it/s]\n",
            "100%|██████████| 27/27 [00:00<00:00, 85.47it/s] \n"
          ]
        },
        {
          "output_type": "stream",
          "name": "stdout",
          "text": [
            "Epoch: 40 | Epoch Time: 0m 6s\n",
            "\tTrain Loss: 0.809 | Train Acc: 60.33%\n",
            "\t Val. Loss: 0.799 |  Val. Acc: 64.04%\n"
          ]
        },
        {
          "output_type": "display_data",
          "data": {
            "image/png": "[encoded data removed]",
            "text/plain": [
              "<Figure size 432x288 with 1 Axes>"
            ]
          },
          "metadata": {
            "needs_background": "light"
          }
        },
        {
          "output_type": "display_data",
          "data": {
            "image/png": "[encoded data removed]",
            "text/plain": [
              "<Figure size 432x288 with 1 Axes>"
            ]
          },
          "metadata": {
            "needs_background": "light"
          }
        },
        {
          "output_type": "stream",
          "name": "stdout",
          "text": [
            "\n",
            "Calculating metrics...\n",
            "Accuracy: 0.6492842535787321\n",
            "Precision: [0.74678899 0.63570336 0.56292683]\n",
            "Recall: [0.71340929 0.72874671 0.50569676]\n",
            "F1 score: [0.72971762 0.67905267 0.53277932]\n",
            "Support: [2282 2282 2282]\n",
            "              precision    recall  f1-score   support\n",
            "\n",
            "         0.0       0.75      0.71      0.73      2282\n",
            "         1.0       0.64      0.73      0.68      2282\n",
            "         2.0       0.56      0.51      0.53      2282\n",
            "\n",
            "    accuracy                           0.65      6846\n",
            "   macro avg       0.65      0.65      0.65      6846\n",
            "weighted avg       0.65      0.65      0.65      6846\n",
            "\n"
          ]
        },
        {
          "output_type": "display_data",
          "data": {
            "image/png": "[encoded data removed]",
            "text/plain": [
              "<Figure size 432x288 with 1 Axes>"
            ]
          },
          "metadata": {
            "needs_background": "light"
          }
        }
      ]
    },
    {
      "cell_type": "markdown",
      "source": [
        "**BIDIRECTIONAL STACKED RNN WITH GRU**"
      ],
      "metadata": {
        "id": "jrgrDcWj18iK"
      }
    },
    {
      "cell_type": "code",
      "source": [
        "train_evaluate_bidirectional_RNN_model_GRU(TEXT, train_data, valid_data)"
      ],
      "metadata": {
        "id": "aAQd_nO02Cer",
        "colab": {
          "base_uri": "https://localhost:8080/",
          "height": 1000
        },
        "outputId": "9639c389-d071-445a-cd73-9f3f529d7baa"
      },
      "execution_count": 53,
      "outputs": [
        {
          "output_type": "stream",
          "name": "stdout",
          "text": [
            "BIDIRECTIONAL_RNN_LSTM_GRU(\n",
            "  (word_embeddings): Embedding(20872, 25, padding_idx=1)\n",
            "  (rnn): GRU(25, 20, num_layers=2, batch_first=True, dropout=0.5, bidirectional=True)\n",
            "  (predictor): Linear(in_features=40, out_features=3, bias=True)\n",
            "  (dropout): Dropout(p=0.5, inplace=False)\n",
            "  (relu): ReLU()\n",
            ")\n",
            "The model has 535,003 trainable parameters\n"
          ]
        },
        {
          "output_type": "stream",
          "name": "stderr",
          "text": [
            "100%|██████████| 188/188 [00:07<00:00, 26.05it/s]\n",
            "100%|██████████| 27/27 [00:00<00:00, 85.87it/s] \n"
          ]
        },
        {
          "output_type": "stream",
          "name": "stdout",
          "text": [
            "Epoch: 01 | Epoch Time: 0m 7s\n",
            "\tTrain Loss: 1.108 | Train Acc: 33.29%\n",
            "\t Val. Loss: 1.095 |  Val. Acc: 33.06%\n"
          ]
        },
        {
          "output_type": "stream",
          "name": "stderr",
          "text": [
            "100%|██████████| 188/188 [00:08<00:00, 22.09it/s]\n",
            "100%|██████████| 27/27 [00:00<00:00, 83.66it/s]\n"
          ]
        },
        {
          "output_type": "stream",
          "name": "stdout",
          "text": [
            "Epoch: 02 | Epoch Time: 0m 8s\n",
            "\tTrain Loss: 1.099 | Train Acc: 33.33%\n",
            "\t Val. Loss: 1.088 |  Val. Acc: 33.06%\n"
          ]
        },
        {
          "output_type": "stream",
          "name": "stderr",
          "text": [
            "100%|██████████| 188/188 [00:07<00:00, 23.61it/s]\n",
            "100%|██████████| 27/27 [00:00<00:00, 90.02it/s] \n"
          ]
        },
        {
          "output_type": "stream",
          "name": "stdout",
          "text": [
            "Epoch: 03 | Epoch Time: 0m 8s\n",
            "\tTrain Loss: 1.093 | Train Acc: 33.35%\n",
            "\t Val. Loss: 1.081 |  Val. Acc: 33.06%\n"
          ]
        },
        {
          "output_type": "stream",
          "name": "stderr",
          "text": [
            "100%|██████████| 188/188 [00:07<00:00, 23.72it/s]\n",
            "100%|██████████| 27/27 [00:00<00:00, 78.10it/s]\n"
          ]
        },
        {
          "output_type": "stream",
          "name": "stdout",
          "text": [
            "Epoch: 04 | Epoch Time: 0m 8s\n",
            "\tTrain Loss: 1.087 | Train Acc: 33.36%\n",
            "\t Val. Loss: 1.071 |  Val. Acc: 33.06%\n"
          ]
        },
        {
          "output_type": "stream",
          "name": "stderr",
          "text": [
            "100%|██████████| 188/188 [00:07<00:00, 25.16it/s]\n",
            "100%|██████████| 27/27 [00:00<00:00, 87.76it/s] \n"
          ]
        },
        {
          "output_type": "stream",
          "name": "stdout",
          "text": [
            "Epoch: 05 | Epoch Time: 0m 7s\n",
            "\tTrain Loss: 1.077 | Train Acc: 33.62%\n",
            "\t Val. Loss: 1.053 |  Val. Acc: 33.06%\n"
          ]
        },
        {
          "output_type": "stream",
          "name": "stderr",
          "text": [
            "100%|██████████| 188/188 [00:07<00:00, 26.47it/s]\n",
            "100%|██████████| 27/27 [00:00<00:00, 89.58it/s] \n"
          ]
        },
        {
          "output_type": "stream",
          "name": "stdout",
          "text": [
            "Epoch: 06 | Epoch Time: 0m 7s\n",
            "\tTrain Loss: 1.061 | Train Acc: 34.87%\n",
            "\t Val. Loss: 1.022 |  Val. Acc: 35.40%\n"
          ]
        },
        {
          "output_type": "stream",
          "name": "stderr",
          "text": [
            "100%|██████████| 188/188 [00:07<00:00, 25.91it/s]\n",
            "100%|██████████| 27/27 [00:00<00:00, 89.72it/s] \n"
          ]
        },
        {
          "output_type": "stream",
          "name": "stdout",
          "text": [
            "Epoch: 07 | Epoch Time: 0m 7s\n",
            "\tTrain Loss: 1.039 | Train Acc: 37.72%\n",
            "\t Val. Loss: 0.990 |  Val. Acc: 45.81%\n"
          ]
        },
        {
          "output_type": "stream",
          "name": "stderr",
          "text": [
            "100%|██████████| 188/188 [00:07<00:00, 25.99it/s]\n",
            "100%|██████████| 27/27 [00:00<00:00, 87.80it/s] \n"
          ]
        },
        {
          "output_type": "stream",
          "name": "stdout",
          "text": [
            "Epoch: 08 | Epoch Time: 0m 7s\n",
            "\tTrain Loss: 1.016 | Train Acc: 41.30%\n",
            "\t Val. Loss: 0.956 |  Val. Acc: 49.50%\n"
          ]
        },
        {
          "output_type": "stream",
          "name": "stderr",
          "text": [
            "100%|██████████| 188/188 [00:07<00:00, 26.39it/s]\n",
            "100%|██████████| 27/27 [00:00<00:00, 87.38it/s] \n"
          ]
        },
        {
          "output_type": "stream",
          "name": "stdout",
          "text": [
            "Epoch: 09 | Epoch Time: 0m 7s\n",
            "\tTrain Loss: 0.999 | Train Acc: 43.59%\n",
            "\t Val. Loss: 0.942 |  Val. Acc: 52.87%\n"
          ]
        },
        {
          "output_type": "stream",
          "name": "stderr",
          "text": [
            "100%|██████████| 188/188 [00:07<00:00, 26.34it/s]\n",
            "100%|██████████| 27/27 [00:00<00:00, 87.66it/s] \n"
          ]
        },
        {
          "output_type": "stream",
          "name": "stdout",
          "text": [
            "Epoch: 10 | Epoch Time: 0m 7s\n",
            "\tTrain Loss: 0.984 | Train Acc: 45.43%\n",
            "\t Val. Loss: 0.920 |  Val. Acc: 53.96%\n"
          ]
        },
        {
          "output_type": "stream",
          "name": "stderr",
          "text": [
            "100%|██████████| 188/188 [00:07<00:00, 26.38it/s]\n",
            "100%|██████████| 27/27 [00:00<00:00, 86.96it/s] \n"
          ]
        },
        {
          "output_type": "stream",
          "name": "stdout",
          "text": [
            "Epoch: 11 | Epoch Time: 0m 7s\n",
            "\tTrain Loss: 0.973 | Train Acc: 46.45%\n",
            "\t Val. Loss: 0.908 |  Val. Acc: 54.44%\n"
          ]
        },
        {
          "output_type": "stream",
          "name": "stderr",
          "text": [
            "100%|██████████| 188/188 [00:07<00:00, 26.44it/s]\n",
            "100%|██████████| 27/27 [00:00<00:00, 89.69it/s] \n"
          ]
        },
        {
          "output_type": "stream",
          "name": "stdout",
          "text": [
            "Epoch: 12 | Epoch Time: 0m 7s\n",
            "\tTrain Loss: 0.962 | Train Acc: 47.51%\n",
            "\t Val. Loss: 0.907 |  Val. Acc: 54.40%\n"
          ]
        },
        {
          "output_type": "stream",
          "name": "stderr",
          "text": [
            "100%|██████████| 188/188 [00:07<00:00, 25.79it/s]\n",
            "100%|██████████| 27/27 [00:00<00:00, 87.83it/s] \n"
          ]
        },
        {
          "output_type": "stream",
          "name": "stdout",
          "text": [
            "Epoch: 13 | Epoch Time: 0m 7s\n",
            "\tTrain Loss: 0.953 | Train Acc: 48.25%\n",
            "\t Val. Loss: 0.901 |  Val. Acc: 54.68%\n"
          ]
        },
        {
          "output_type": "stream",
          "name": "stderr",
          "text": [
            "100%|██████████| 188/188 [00:07<00:00, 26.64it/s]\n",
            "100%|██████████| 27/27 [00:00<00:00, 89.05it/s] \n"
          ]
        },
        {
          "output_type": "stream",
          "name": "stdout",
          "text": [
            "Epoch: 14 | Epoch Time: 0m 7s\n",
            "\tTrain Loss: 0.946 | Train Acc: 48.97%\n",
            "\t Val. Loss: 0.892 |  Val. Acc: 54.69%\n"
          ]
        },
        {
          "output_type": "stream",
          "name": "stderr",
          "text": [
            "100%|██████████| 188/188 [00:07<00:00, 26.16it/s]\n",
            "100%|██████████| 27/27 [00:00<00:00, 90.27it/s] \n"
          ]
        },
        {
          "output_type": "stream",
          "name": "stdout",
          "text": [
            "Epoch: 15 | Epoch Time: 0m 7s\n",
            "\tTrain Loss: 0.939 | Train Acc: 49.37%\n",
            "\t Val. Loss: 0.887 |  Val. Acc: 54.82%\n"
          ]
        },
        {
          "output_type": "stream",
          "name": "stderr",
          "text": [
            "100%|██████████| 188/188 [00:07<00:00, 26.15it/s]\n",
            "100%|██████████| 27/27 [00:00<00:00, 88.62it/s] \n"
          ]
        },
        {
          "output_type": "stream",
          "name": "stdout",
          "text": [
            "Epoch: 16 | Epoch Time: 0m 7s\n",
            "\tTrain Loss: 0.930 | Train Acc: 49.95%\n",
            "\t Val. Loss: 0.883 |  Val. Acc: 55.10%\n"
          ]
        },
        {
          "output_type": "stream",
          "name": "stderr",
          "text": [
            "100%|██████████| 188/188 [00:07<00:00, 26.61it/s]\n",
            "100%|██████████| 27/27 [00:00<00:00, 87.66it/s] \n"
          ]
        },
        {
          "output_type": "stream",
          "name": "stdout",
          "text": [
            "Epoch: 17 | Epoch Time: 0m 7s\n",
            "\tTrain Loss: 0.926 | Train Acc: 50.25%\n",
            "\t Val. Loss: 0.880 |  Val. Acc: 55.14%\n"
          ]
        },
        {
          "output_type": "stream",
          "name": "stderr",
          "text": [
            "100%|██████████| 188/188 [00:07<00:00, 26.07it/s]\n",
            "100%|██████████| 27/27 [00:00<00:00, 87.36it/s] \n"
          ]
        },
        {
          "output_type": "stream",
          "name": "stdout",
          "text": [
            "Epoch: 18 | Epoch Time: 0m 7s\n",
            "\tTrain Loss: 0.918 | Train Acc: 50.84%\n",
            "\t Val. Loss: 0.874 |  Val. Acc: 55.37%\n"
          ]
        },
        {
          "output_type": "stream",
          "name": "stderr",
          "text": [
            "100%|██████████| 188/188 [00:07<00:00, 25.94it/s]\n",
            "100%|██████████| 27/27 [00:00<00:00, 87.54it/s] \n"
          ]
        },
        {
          "output_type": "stream",
          "name": "stdout",
          "text": [
            "Epoch: 19 | Epoch Time: 0m 7s\n",
            "\tTrain Loss: 0.918 | Train Acc: 50.91%\n",
            "\t Val. Loss: 0.872 |  Val. Acc: 55.62%\n"
          ]
        },
        {
          "output_type": "stream",
          "name": "stderr",
          "text": [
            "100%|██████████| 188/188 [00:07<00:00, 26.32it/s]\n",
            "100%|██████████| 27/27 [00:00<00:00, 87.72it/s] \n"
          ]
        },
        {
          "output_type": "stream",
          "name": "stdout",
          "text": [
            "Epoch: 20 | Epoch Time: 0m 7s\n",
            "\tTrain Loss: 0.909 | Train Acc: 51.44%\n",
            "\t Val. Loss: 0.867 |  Val. Acc: 55.99%\n"
          ]
        },
        {
          "output_type": "stream",
          "name": "stderr",
          "text": [
            "100%|██████████| 188/188 [00:07<00:00, 26.30it/s]\n",
            "100%|██████████| 27/27 [00:00<00:00, 86.06it/s] \n"
          ]
        },
        {
          "output_type": "stream",
          "name": "stdout",
          "text": [
            "Epoch: 21 | Epoch Time: 0m 7s\n",
            "\tTrain Loss: 0.908 | Train Acc: 51.45%\n",
            "\t Val. Loss: 0.863 |  Val. Acc: 56.08%\n"
          ]
        },
        {
          "output_type": "stream",
          "name": "stderr",
          "text": [
            "100%|██████████| 188/188 [00:07<00:00, 26.04it/s]\n",
            "100%|██████████| 27/27 [00:00<00:00, 88.14it/s] \n"
          ]
        },
        {
          "output_type": "stream",
          "name": "stdout",
          "text": [
            "Epoch: 22 | Epoch Time: 0m 7s\n",
            "\tTrain Loss: 0.901 | Train Acc: 51.75%\n",
            "\t Val. Loss: 0.861 |  Val. Acc: 56.25%\n"
          ]
        },
        {
          "output_type": "stream",
          "name": "stderr",
          "text": [
            "100%|██████████| 188/188 [00:07<00:00, 26.09it/s]\n",
            "100%|██████████| 27/27 [00:00<00:00, 87.79it/s] \n"
          ]
        },
        {
          "output_type": "stream",
          "name": "stdout",
          "text": [
            "Epoch: 23 | Epoch Time: 0m 7s\n",
            "\tTrain Loss: 0.895 | Train Acc: 52.08%\n",
            "\t Val. Loss: 0.857 |  Val. Acc: 56.49%\n"
          ]
        },
        {
          "output_type": "stream",
          "name": "stderr",
          "text": [
            "100%|██████████| 188/188 [00:07<00:00, 26.19it/s]\n",
            "100%|██████████| 27/27 [00:00<00:00, 87.33it/s] \n"
          ]
        },
        {
          "output_type": "stream",
          "name": "stdout",
          "text": [
            "Epoch: 24 | Epoch Time: 0m 7s\n",
            "\tTrain Loss: 0.893 | Train Acc: 52.44%\n",
            "\t Val. Loss: 0.852 |  Val. Acc: 56.76%\n"
          ]
        },
        {
          "output_type": "stream",
          "name": "stderr",
          "text": [
            "100%|██████████| 188/188 [00:07<00:00, 24.65it/s]\n",
            "100%|██████████| 27/27 [00:00<00:00, 37.86it/s]\n"
          ]
        },
        {
          "output_type": "stream",
          "name": "stdout",
          "text": [
            "Epoch: 25 | Epoch Time: 0m 8s\n",
            "\tTrain Loss: 0.886 | Train Acc: 52.84%\n",
            "\t Val. Loss: 0.848 |  Val. Acc: 56.89%\n"
          ]
        },
        {
          "output_type": "stream",
          "name": "stderr",
          "text": [
            "100%|██████████| 188/188 [00:08<00:00, 22.14it/s]\n",
            "100%|██████████| 27/27 [00:00<00:00, 72.44it/s]\n"
          ]
        },
        {
          "output_type": "stream",
          "name": "stdout",
          "text": [
            "Epoch: 26 | Epoch Time: 0m 8s\n",
            "\tTrain Loss: 0.880 | Train Acc: 53.05%\n",
            "\t Val. Loss: 0.845 |  Val. Acc: 57.48%\n"
          ]
        },
        {
          "output_type": "stream",
          "name": "stderr",
          "text": [
            "100%|██████████| 188/188 [00:08<00:00, 22.75it/s]\n",
            "100%|██████████| 27/27 [00:00<00:00, 78.12it/s]\n"
          ]
        },
        {
          "output_type": "stream",
          "name": "stdout",
          "text": [
            "Epoch: 27 | Epoch Time: 0m 8s\n",
            "\tTrain Loss: 0.880 | Train Acc: 53.08%\n",
            "\t Val. Loss: 0.842 |  Val. Acc: 57.22%\n"
          ]
        },
        {
          "output_type": "stream",
          "name": "stderr",
          "text": [
            "100%|██████████| 188/188 [00:08<00:00, 21.54it/s]\n",
            "100%|██████████| 27/27 [00:00<00:00, 81.99it/s] \n"
          ]
        },
        {
          "output_type": "stream",
          "name": "stdout",
          "text": [
            "Epoch: 28 | Epoch Time: 0m 9s\n",
            "\tTrain Loss: 0.875 | Train Acc: 53.64%\n",
            "\t Val. Loss: 0.836 |  Val. Acc: 57.63%\n"
          ]
        },
        {
          "output_type": "stream",
          "name": "stderr",
          "text": [
            "100%|██████████| 188/188 [00:07<00:00, 25.65it/s]\n",
            "100%|██████████| 27/27 [00:00<00:00, 87.85it/s] \n"
          ]
        },
        {
          "output_type": "stream",
          "name": "stdout",
          "text": [
            "Epoch: 29 | Epoch Time: 0m 7s\n",
            "\tTrain Loss: 0.869 | Train Acc: 54.00%\n",
            "\t Val. Loss: 0.833 |  Val. Acc: 58.02%\n"
          ]
        },
        {
          "output_type": "stream",
          "name": "stderr",
          "text": [
            "100%|██████████| 188/188 [00:07<00:00, 26.16it/s]\n",
            "100%|██████████| 27/27 [00:00<00:00, 87.87it/s] \n"
          ]
        },
        {
          "output_type": "stream",
          "name": "stdout",
          "text": [
            "Epoch: 30 | Epoch Time: 0m 7s\n",
            "\tTrain Loss: 0.863 | Train Acc: 54.64%\n",
            "\t Val. Loss: 0.828 |  Val. Acc: 58.60%\n"
          ]
        },
        {
          "output_type": "stream",
          "name": "stderr",
          "text": [
            "100%|██████████| 188/188 [00:07<00:00, 25.93it/s]\n",
            "100%|██████████| 27/27 [00:00<00:00, 90.57it/s] \n"
          ]
        },
        {
          "output_type": "stream",
          "name": "stdout",
          "text": [
            "Epoch: 31 | Epoch Time: 0m 7s\n",
            "\tTrain Loss: 0.860 | Train Acc: 55.01%\n",
            "\t Val. Loss: 0.826 |  Val. Acc: 59.16%\n"
          ]
        },
        {
          "output_type": "stream",
          "name": "stderr",
          "text": [
            "100%|██████████| 188/188 [00:07<00:00, 25.97it/s]\n",
            "100%|██████████| 27/27 [00:00<00:00, 87.48it/s] \n"
          ]
        },
        {
          "output_type": "stream",
          "name": "stdout",
          "text": [
            "Epoch: 32 | Epoch Time: 0m 7s\n",
            "\tTrain Loss: 0.857 | Train Acc: 54.85%\n",
            "\t Val. Loss: 0.822 |  Val. Acc: 59.42%\n"
          ]
        },
        {
          "output_type": "stream",
          "name": "stderr",
          "text": [
            "100%|██████████| 188/188 [00:07<00:00, 26.07it/s]\n",
            "100%|██████████| 27/27 [00:00<00:00, 88.38it/s] \n"
          ]
        },
        {
          "output_type": "stream",
          "name": "stdout",
          "text": [
            "Epoch: 33 | Epoch Time: 0m 7s\n",
            "\tTrain Loss: 0.850 | Train Acc: 55.78%\n",
            "\t Val. Loss: 0.817 |  Val. Acc: 60.09%\n"
          ]
        },
        {
          "output_type": "stream",
          "name": "stderr",
          "text": [
            "100%|██████████| 188/188 [00:07<00:00, 26.57it/s]\n",
            "100%|██████████| 27/27 [00:00<00:00, 91.55it/s] \n"
          ]
        },
        {
          "output_type": "stream",
          "name": "stdout",
          "text": [
            "Epoch: 34 | Epoch Time: 0m 7s\n",
            "\tTrain Loss: 0.843 | Train Acc: 56.24%\n",
            "\t Val. Loss: 0.813 |  Val. Acc: 60.71%\n"
          ]
        },
        {
          "output_type": "stream",
          "name": "stderr",
          "text": [
            "100%|██████████| 188/188 [00:07<00:00, 26.27it/s]\n",
            "100%|██████████| 27/27 [00:00<00:00, 86.85it/s] \n"
          ]
        },
        {
          "output_type": "stream",
          "name": "stdout",
          "text": [
            "Epoch: 35 | Epoch Time: 0m 7s\n",
            "\tTrain Loss: 0.843 | Train Acc: 56.52%\n",
            "\t Val. Loss: 0.813 |  Val. Acc: 60.59%\n"
          ]
        },
        {
          "output_type": "stream",
          "name": "stderr",
          "text": [
            "100%|██████████| 188/188 [00:07<00:00, 26.20it/s]\n",
            "100%|██████████| 27/27 [00:00<00:00, 88.54it/s] \n"
          ]
        },
        {
          "output_type": "stream",
          "name": "stdout",
          "text": [
            "Epoch: 36 | Epoch Time: 0m 7s\n",
            "\tTrain Loss: 0.837 | Train Acc: 57.19%\n",
            "\t Val. Loss: 0.807 |  Val. Acc: 61.01%\n"
          ]
        },
        {
          "output_type": "stream",
          "name": "stderr",
          "text": [
            "100%|██████████| 188/188 [00:07<00:00, 26.30it/s]\n",
            "100%|██████████| 27/27 [00:00<00:00, 87.25it/s] \n"
          ]
        },
        {
          "output_type": "stream",
          "name": "stdout",
          "text": [
            "Epoch: 37 | Epoch Time: 0m 7s\n",
            "\tTrain Loss: 0.829 | Train Acc: 57.93%\n",
            "\t Val. Loss: 0.804 |  Val. Acc: 61.11%\n"
          ]
        },
        {
          "output_type": "stream",
          "name": "stderr",
          "text": [
            "100%|██████████| 188/188 [00:07<00:00, 25.54it/s]\n",
            "100%|██████████| 27/27 [00:00<00:00, 88.23it/s] \n"
          ]
        },
        {
          "output_type": "stream",
          "name": "stdout",
          "text": [
            "Epoch: 38 | Epoch Time: 0m 7s\n",
            "\tTrain Loss: 0.823 | Train Acc: 58.28%\n",
            "\t Val. Loss: 0.800 |  Val. Acc: 61.49%\n"
          ]
        },
        {
          "output_type": "stream",
          "name": "stderr",
          "text": [
            "100%|██████████| 188/188 [00:07<00:00, 25.71it/s]\n",
            "100%|██████████| 27/27 [00:00<00:00, 88.01it/s] \n"
          ]
        },
        {
          "output_type": "stream",
          "name": "stdout",
          "text": [
            "Epoch: 39 | Epoch Time: 0m 7s\n",
            "\tTrain Loss: 0.817 | Train Acc: 58.88%\n",
            "\t Val. Loss: 0.795 |  Val. Acc: 61.62%\n"
          ]
        },
        {
          "output_type": "stream",
          "name": "stderr",
          "text": [
            "100%|██████████| 188/188 [00:07<00:00, 26.18it/s]\n",
            "100%|██████████| 27/27 [00:00<00:00, 87.03it/s] \n"
          ]
        },
        {
          "output_type": "stream",
          "name": "stdout",
          "text": [
            "Epoch: 40 | Epoch Time: 0m 7s\n",
            "\tTrain Loss: 0.816 | Train Acc: 59.21%\n",
            "\t Val. Loss: 0.789 |  Val. Acc: 62.63%\n"
          ]
        },
        {
          "output_type": "display_data",
          "data": {
            "image/png": "[encoded data removed]",
            "text/plain": [
              "<Figure size 432x288 with 1 Axes>"
            ]
          },
          "metadata": {
            "needs_background": "light"
          }
        },
        {
          "output_type": "display_data",
          "data": {
            "image/png": "[encoded data removed]",
            "text/plain": [
              "<Figure size 432x288 with 1 Axes>"
            ]
          },
          "metadata": {
            "needs_background": "light"
          }
        },
        {
          "output_type": "stream",
          "name": "stdout",
          "text": [
            "\n",
            "Calculating metrics...\n",
            "Accuracy: 0.6478235465965527\n",
            "Precision: [0.77860327 0.60431412 0.57526882]\n",
            "Recall: [0.68886941 0.78571429 0.46888694]\n",
            "F1 score: [0.73099279 0.68317775 0.51665862]\n",
            "Support: [2282 2282 2282]\n",
            "              precision    recall  f1-score   support\n",
            "\n",
            "         0.0       0.78      0.69      0.73      2282\n",
            "         1.0       0.60      0.79      0.68      2282\n",
            "         2.0       0.58      0.47      0.52      2282\n",
            "\n",
            "    accuracy                           0.65      6846\n",
            "   macro avg       0.65      0.65      0.64      6846\n",
            "weighted avg       0.65      0.65      0.64      6846\n",
            "\n"
          ]
        },
        {
          "output_type": "display_data",
          "data": {
            "image/png": "[encoded data removed]",
            "text/plain": [
              "<Figure size 432x288 with 1 Axes>"
            ]
          },
          "metadata": {
            "needs_background": "light"
          }
        }
      ]
    },
    {
      "cell_type": "markdown",
      "source": [
        "**2. ADDING ATTENTION TO THE BEST MODEL**"
      ],
      "metadata": {
        "id": "9--fomVG1aRE"
      }
    },
    {
      "cell_type": "code",
      "source": [
        "class BIDIRECTIONAL_RNN_LSTM_GRU_ATTENTION(nn.Module):\n",
        "  \n",
        "  def __init__(self, cell_type, input_size, embedding_size, hidden_size, output_size, embeddings, num_layers, dropout, pad_idx):\n",
        "    super(BIDIRECTIONAL_RNN_LSTM_GRU_ATTENTION, self).__init__()\n",
        "\n",
        "    cells = {'LSTM': nn.LSTM, 'GRU': nn.GRU}   \n",
        "\n",
        "    # Initializations\n",
        "    self.cell_type = cell_type\n",
        "    self.input_size = input_size\n",
        "    self.embedding_size = embedding_size\n",
        "    self.hidden_size = hidden_size\n",
        "    self.output_size = output_size  \n",
        "    self.num_layers = num_layers\n",
        "    self.dropout = dropout\n",
        "          \n",
        "    # Feed the tweets in the embedding layer\n",
        "    # padding_idx set to not learn the embedding for the <pad> token - irrelevant to determining sentiment \n",
        "    self.word_embeddings = nn.Embedding(input_size, embedding_size, padding_idx = pad_idx)\n",
        "    \n",
        "    \n",
        "    assert cell_type in cells, 'Use one of the following: {}'.format(str(cells))\n",
        "    rnn_cell = getattr(nn, cell_type) # It fetches the constructor from torch.nn\n",
        "    self.rnn = rnn_cell(\n",
        "        input_size = self.embedding_size,   # Number of features for each time step        \n",
        "        num_layers = self.num_layers,       # If the number of layers is bigger than 1, then it is a stacked RNN)\n",
        "        hidden_size = self.hidden_size,     # LSTM/GRU hidden embedding representation\n",
        "        batch_first = True,                 # Input and output's batch size: (batch, time_step, input_size) => 1st dimension\n",
        "        bidirectional = True,               # It is a bidirectional RNN\n",
        "        dropout = self.dropout)             # Dropout regularization  \n",
        "                \n",
        "    # Final hidden state has both a forward and a backward component concatenated together\n",
        "    # The size of the input to the nn.Linear layer is twice that of the hidden dimension size\n",
        "    self.predictor = nn.Linear(hidden_size*2, output_size)\n",
        "\n",
        "    # Initialize dropout layer for regularization\n",
        "    self.dropout = nn.Dropout(dropout)\n",
        "\n",
        "    # Initialize RELU activation function\n",
        "    self.relu = nn.ReLU()\n",
        "\n",
        "  def attention(self, output, final_state):\n",
        "    \n",
        "    # output : The final output of the RNN which contains hidden layer outputs for each sequence\n",
        "    # final_state : The final time-step hidden state (h_n) of the RNN\n",
        "\n",
        "    # It computes the weights for each sequence in the output \n",
        "    # and then computes the new hidden state\n",
        "\n",
        "    # Use torch.bmm for batch matrix multiplication\n",
        "    attn_weights = torch.bmm(output, final_state.unsqueeze(2)).squeeze(2)\n",
        "    soft_attn_weights = F.softmax(attn_weights, 1).unsqueeze(2)       \n",
        "    new_hidden_state = torch.bmm(output.transpose(1, 2), soft_attn_weights).squeeze(2)\n",
        "\n",
        "    return new_hidden_state      \n",
        "     \n",
        "  def forward(self, text, text_lengths):\n",
        "        \n",
        "    # Text - [tweet length, batch size]\n",
        "    # Text_lengths - lengths of tweet\n",
        "        \n",
        "    # Embedded = [sentence len, batch size, emb dim] with dropout \n",
        "    embedded = self.dropout(self.word_embeddings(text))    \n",
        "\n",
        "    # Pack the embeddings to only process non-padded elements, it speeds up computation\n",
        "    packed_embedded = nn.utils.rnn.pack_padded_sequence(embedded, text_lengths.to('cpu'))\n",
        "\n",
        "    if self.cell_type == 'LSTM':\n",
        "      packed_output, (hidden, cell) = self.rnn(packed_embedded)\n",
        "    if self.cell_type == 'GRU':\n",
        "      packed_output, hidden = self.rnn(packed_embedded)\n",
        "\n",
        "    # Unpack the sequence - transform packed sequence to a tensor\n",
        "    output, output_lengths = nn.utils.rnn.pad_packed_sequence(packed_output)\n",
        "\n",
        "    output = output.permute(1, 0, 2) \n",
        "   \n",
        "    # Get the final layer forward and backward hidden states  \n",
        "    # Concat the final forward and backward hidden layers and apply dropout\n",
        "    hidden = self.dropout(torch.cat((hidden[-2,:,:], hidden[-1,:,:]), dim = 1))\n",
        "    \n",
        "    # Add attention \n",
        "    attn_output = self.attention(output, hidden)\n",
        "  \n",
        "    # Output = [sentence len, batch size, hid dim * num directions]\n",
        "    # Output over padding tokens are zero tensors\n",
        "        \n",
        "    # Hidden = [num layers * num directions, batch size, hid dim]\n",
        "    # Cell = [num layers * num directions, batch size, hid dim]\n",
        " \n",
        "    return self.predictor(self.relu(attn_output))"
      ],
      "metadata": {
        "id": "EJ7SF9Ny6Lkj"
      },
      "execution_count": 55,
      "outputs": []
    },
    {
      "cell_type": "code",
      "source": [
        "# STACKED RNN + ATTENTION mechanism (Best model from the previous ones)\n",
        "def train_evaluate_bidirectional_RNN_model_ATTENTION(TEXT, data_train, data_val):\n",
        "  \n",
        "  # -----Initialize the model and its parameters-----\n",
        "  # The number of words in the vocabulary\n",
        "  input_dim = len(TEXT.vocab)\n",
        "  # The dimensions of each Glove vector              \n",
        "  embedding_dim = 25                       \n",
        "  # The number of hidden neurons\n",
        "  hidden_dim = 20                     \n",
        "  # The number of output layers\n",
        "  output_dim = 3                           \n",
        "  # The number of hidden layers\n",
        "  num_layers = 2                                           \n",
        "  # Cell type of model\n",
        "  cell_type = 'LSTM'                       \n",
        "  # Dropout\n",
        "  dropout = 0.5                \n",
        "  # The Glove pre-trained embeddings\n",
        "  embeddings = TEXT.vocab.vectors          \n",
        "  # Get pad token index from vocab\n",
        "  PAD_IDX = TEXT.vocab.stoi[TEXT.pad_token]\n",
        "\n",
        "  # Initialize the model parameters\n",
        "  num_epochs = 40\n",
        "  batch_size = 256\n",
        "  clip = 2\n",
        "    \n",
        "  # Instantiate the model \n",
        "  model = BIDIRECTIONAL_RNN_LSTM_GRU_ATTENTION(cell_type, input_dim, embedding_dim, hidden_dim, output_dim, embeddings, num_layers, dropout, PAD_IDX)\n",
        "  print(model)\n",
        "  model = model.to(device)\n",
        "  print(f'The model has {count_parameters(model):,} trainable parameters')\n",
        "\n",
        "  # Replace the initial weights of the embedding layer with the pre-trained embeddings\n",
        "  model.word_embeddings.weight.data.copy_(embeddings)\n",
        "  # Initialize <unk> and <pad> both to all zeros - irrelevant for sentiment analysis\n",
        "  UNK_IDX = TEXT.vocab.stoi[TEXT.unk_token]\n",
        "\n",
        "  # Setting row in the embedding weights matrix to zero using the token index\n",
        "  model.word_embeddings.weight.data[UNK_IDX] = torch.zeros(embedding_dim)\n",
        "  model.word_embeddings.weight.data[PAD_IDX] = torch.zeros(embedding_dim)\n",
        "  #print(model.embedding.weight.data)\n",
        "\n",
        "  # Define the optimizer\n",
        "  optimizer = torch.optim.Adam(model.parameters(), lr = 0.0001, weight_decay = 1e-4)   \n",
        "  \n",
        "  # Define loss function\n",
        "  loss_function = nn.CrossEntropyLoss()\n",
        "  loss_function = loss_function.to(device)\n",
        "\n",
        "  # Create the iterators used for training and evaluating the model\n",
        "  train_iterator, valid_iterator = create_iterators(data_train, data_val, batch_size)\n",
        "\n",
        "  best_valid_loss = float('inf')\n",
        "\n",
        "  # Initialize empty lists to store the values of loss and accuracy for each epoch\n",
        "  train_accuracies = []\n",
        "  train_losses = []\n",
        "  val_accuracies = []\n",
        "  val_losses = []\n",
        "  \n",
        "  for epoch in range(num_epochs):\n",
        "    \n",
        "    start_time = time.time()\n",
        "\n",
        "    train_loss, train_accuracy = train(model, train_iterator, optimizer, loss_function, clip)\n",
        "    validation_loss, validation_accuracy = evaluate(model, valid_iterator, loss_function)\n",
        "\n",
        "    end_time = time.time()\n",
        "\n",
        "    epoch_mins, epoch_secs = epoch_time(start_time, end_time)\n",
        "      \n",
        "    print(f'Epoch: {epoch+1:02} | Epoch Time: {epoch_mins}m {epoch_secs}s')\n",
        "    print(f'\\tTrain Loss: {train_loss:.3f} | Train Acc: {train_accuracy*100:.2f}%')\n",
        "    print(f'\\t Val. Loss: {validation_loss:.3f} |  Val. Acc: {validation_accuracy*100:.2f}%')\n",
        "      \n",
        "    if validation_loss < best_valid_loss:\n",
        "        best_valid_loss = validation_loss\n",
        "        torch.save(model.state_dict(), 'GRU_ATTENTION_model.pt')\n",
        "\n",
        "    # Fill the empty lists with the values of accuracy and loss for training and evaluation sets\n",
        "    train_losses.append(train_loss)\n",
        "    train_accuracies.append(train_accuracy)\n",
        "    val_losses.append(validation_loss)\n",
        "    val_accuracies.append(validation_accuracy)\n",
        "\n",
        "  # Plot the loss vs epochs \n",
        "  plt.plot(train_losses)\n",
        "  plt.plot(val_losses)\n",
        "  plt.title('Train vs Validation Model Loss')\n",
        "  plt.ylabel('Loss')\n",
        "  plt.xlabel('Epoch')\n",
        "  plt.legend(['Train', 'Validation'])\n",
        "  plt.show()\n",
        "\n",
        "  # Plot the accuracy vs epochs\n",
        "  plt.plot(train_accuracies)\n",
        "  plt.plot(val_accuracies)\n",
        "  plt.title('Train vs Validation Model Accuracy')\n",
        "  plt.ylabel('Accuracy')\n",
        "  plt.xlabel('Epoch')\n",
        "  plt.legend(['Train', 'Validation'])\n",
        "  plt.show()\n",
        "\n",
        "  # Evaluate model on the validation set\n",
        "  predictions, labels = testing(model, valid_iterator)\n",
        "\n",
        "  # Calculate the evaluation metrics on the testing set    \n",
        "  calculate_metrics(labels, predictions)                        \n",
        "\n",
        "  # Label binarization and store the number of classes\n",
        "  y_test = label_binarize(labels, classes=[0, 1, 2])\n",
        "  n_classes = y_test.shape[1]\n",
        "\n",
        "  # Label binarization and store the number of classes\n",
        "  y_score = label_binarize(predictions, classes=[0, 1, 2])\n",
        "\n",
        "  # Compute ROC curve and ROC area for each class\n",
        "  fpr = dict()\n",
        "  tpr = dict()\n",
        "  roc_auc = dict()\n",
        "  for i in range(n_classes):\n",
        "    fpr[i], tpr[i], _ = roc_curve(y_test[:, i], y_score[:, i])\n",
        "    roc_auc[i] = auc(fpr[i], tpr[i])\n",
        "\n",
        "  # Compute micro-average ROC curve and ROC area\n",
        "  fpr['micro'], tpr['micro'], _ = roc_curve(y_test.ravel(), y_score.ravel())\n",
        "  roc_auc['micro'] = auc(fpr['micro'], tpr['micro'])\n",
        "\n",
        "  # First aggregate all false positive rates\n",
        "  all_fpr = np.unique(np.concatenate([fpr[i] for i in range(n_classes)]))\n",
        "\n",
        "  # Then interpolate all ROC curves at this points\n",
        "  mean_tpr = np.zeros_like(all_fpr)\n",
        "  for i in range(n_classes):\n",
        "    mean_tpr += interp(all_fpr, fpr[i], tpr[i])\n",
        "\n",
        "  # Finally average it and compute AUC\n",
        "  mean_tpr /= n_classes\n",
        "\n",
        "  fpr['macro'] = all_fpr\n",
        "  tpr['macro'] = mean_tpr\n",
        "  roc_auc['macro'] = auc(fpr['macro'], tpr['macro'])\n",
        "  lw = 2\n",
        "\n",
        "  # Plot all ROC curves\n",
        "  plt.figure()\n",
        "  plt.plot(\n",
        "    fpr['micro'],\n",
        "    tpr['micro'],\n",
        "    label='micro-average ROC curve (area = {0:0.2f})'.format(roc_auc['micro']),\n",
        "    color='deeppink',\n",
        "    linestyle=':',\n",
        "    linewidth=4,)\n",
        "\n",
        "  plt.plot(\n",
        "    fpr['macro'],\n",
        "    tpr['macro'],\n",
        "    label='macro-average ROC curve (area = {0:0.2f})'.format(roc_auc['macro']),\n",
        "    color='navy',\n",
        "    linestyle=':',\n",
        "    linewidth=4,)\n",
        "\n",
        "  colors = cycle(['aqua', 'darkorange', 'cornflowerblue'])\n",
        "  for i, color in zip(range(n_classes), colors):\n",
        "    plt.plot(\n",
        "        fpr[i],\n",
        "        tpr[i],\n",
        "        color=color,\n",
        "        lw=lw,\n",
        "        label= 'ROC curve of class {0} (area = {1:0.2f})'.format(i, roc_auc[i]),)\n",
        "\n",
        "  plt.plot([0, 1], [0, 1], \"k--\", lw=lw)\n",
        "  plt.xlim([0.0, 1.0])\n",
        "  plt.ylim([0.0, 1.05])\n",
        "  plt.xlabel('False Positive Rate')\n",
        "  plt.ylabel('True Positive Rate')\n",
        "  plt.title('Roc curve for all classes')\n",
        "  plt.legend(loc='lower right')\n",
        "  plt.show()"
      ],
      "metadata": {
        "id": "i40MiDaEDAVO"
      },
      "execution_count": 56,
      "outputs": []
    },
    {
      "cell_type": "markdown",
      "source": [
        "**BIDIRECTIONAL STACKED RNN WITH GRU & ATTENTION**"
      ],
      "metadata": {
        "id": "_V_G1q1Q1lZM"
      }
    },
    {
      "cell_type": "code",
      "source": [
        "train_evaluate_bidirectional_RNN_model_ATTENTION(TEXT, train_data, valid_data)"
      ],
      "metadata": {
        "id": "I99DEEqtRbZw",
        "colab": {
          "base_uri": "https://localhost:8080/",
          "height": 1000
        },
        "outputId": "264607d5-aa38-4f00-c93d-6c50478142fe"
      },
      "execution_count": 57,
      "outputs": [
        {
          "output_type": "stream",
          "name": "stdout",
          "text": [
            "BIDIRECTIONAL_RNN_LSTM_GRU_ATTENTION(\n",
            "  (word_embeddings): Embedding(20872, 25, padding_idx=1)\n",
            "  (rnn): LSTM(25, 20, num_layers=2, batch_first=True, dropout=0.5, bidirectional=True)\n",
            "  (predictor): Linear(in_features=40, out_features=3, bias=True)\n",
            "  (dropout): Dropout(p=0.5, inplace=False)\n",
            "  (relu): ReLU()\n",
            ")\n",
            "The model has 539,363 trainable parameters\n"
          ]
        },
        {
          "output_type": "stream",
          "name": "stderr",
          "text": [
            "100%|██████████| 188/188 [00:06<00:00, 29.22it/s]\n",
            "100%|██████████| 27/27 [00:00<00:00, 83.67it/s] \n"
          ]
        },
        {
          "output_type": "stream",
          "name": "stdout",
          "text": [
            "Epoch: 01 | Epoch Time: 0m 6s\n",
            "\tTrain Loss: 1.098 | Train Acc: 33.22%\n",
            "\t Val. Loss: 1.095 |  Val. Acc: 33.06%\n"
          ]
        },
        {
          "output_type": "stream",
          "name": "stderr",
          "text": [
            "100%|██████████| 188/188 [00:06<00:00, 29.15it/s]\n",
            "100%|██████████| 27/27 [00:00<00:00, 86.08it/s] \n"
          ]
        },
        {
          "output_type": "stream",
          "name": "stdout",
          "text": [
            "Epoch: 02 | Epoch Time: 0m 6s\n",
            "\tTrain Loss: 1.094 | Train Acc: 33.25%\n",
            "\t Val. Loss: 1.089 |  Val. Acc: 33.06%\n"
          ]
        },
        {
          "output_type": "stream",
          "name": "stderr",
          "text": [
            "100%|██████████| 188/188 [00:06<00:00, 29.17it/s]\n",
            "100%|██████████| 27/27 [00:00<00:00, 86.83it/s] \n"
          ]
        },
        {
          "output_type": "stream",
          "name": "stdout",
          "text": [
            "Epoch: 03 | Epoch Time: 0m 6s\n",
            "\tTrain Loss: 1.087 | Train Acc: 33.22%\n",
            "\t Val. Loss: 1.071 |  Val. Acc: 33.06%\n"
          ]
        },
        {
          "output_type": "stream",
          "name": "stderr",
          "text": [
            "100%|██████████| 188/188 [00:06<00:00, 27.16it/s]\n",
            "100%|██████████| 27/27 [00:00<00:00, 85.16it/s] \n"
          ]
        },
        {
          "output_type": "stream",
          "name": "stdout",
          "text": [
            "Epoch: 04 | Epoch Time: 0m 7s\n",
            "\tTrain Loss: 1.062 | Train Acc: 33.23%\n",
            "\t Val. Loss: 1.015 |  Val. Acc: 33.34%\n"
          ]
        },
        {
          "output_type": "stream",
          "name": "stderr",
          "text": [
            "100%|██████████| 188/188 [00:06<00:00, 29.04it/s]\n",
            "100%|██████████| 27/27 [00:00<00:00, 85.32it/s] \n"
          ]
        },
        {
          "output_type": "stream",
          "name": "stdout",
          "text": [
            "Epoch: 05 | Epoch Time: 0m 6s\n",
            "\tTrain Loss: 1.025 | Train Acc: 35.81%\n",
            "\t Val. Loss: 0.971 |  Val. Acc: 47.34%\n"
          ]
        },
        {
          "output_type": "stream",
          "name": "stderr",
          "text": [
            "100%|██████████| 188/188 [00:06<00:00, 29.51it/s]\n",
            "100%|██████████| 27/27 [00:00<00:00, 84.91it/s] \n"
          ]
        },
        {
          "output_type": "stream",
          "name": "stdout",
          "text": [
            "Epoch: 06 | Epoch Time: 0m 6s\n",
            "\tTrain Loss: 0.997 | Train Acc: 43.10%\n",
            "\t Val. Loss: 0.941 |  Val. Acc: 50.83%\n"
          ]
        },
        {
          "output_type": "stream",
          "name": "stderr",
          "text": [
            "100%|██████████| 188/188 [00:06<00:00, 28.96it/s]\n",
            "100%|██████████| 27/27 [00:00<00:00, 85.59it/s] \n"
          ]
        },
        {
          "output_type": "stream",
          "name": "stdout",
          "text": [
            "Epoch: 07 | Epoch Time: 0m 6s\n",
            "\tTrain Loss: 0.978 | Train Acc: 46.06%\n",
            "\t Val. Loss: 0.926 |  Val. Acc: 54.36%\n"
          ]
        },
        {
          "output_type": "stream",
          "name": "stderr",
          "text": [
            "100%|██████████| 188/188 [00:06<00:00, 29.08it/s]\n",
            "100%|██████████| 27/27 [00:00<00:00, 84.22it/s] \n"
          ]
        },
        {
          "output_type": "stream",
          "name": "stdout",
          "text": [
            "Epoch: 08 | Epoch Time: 0m 6s\n",
            "\tTrain Loss: 0.963 | Train Acc: 48.02%\n",
            "\t Val. Loss: 0.907 |  Val. Acc: 56.15%\n"
          ]
        },
        {
          "output_type": "stream",
          "name": "stderr",
          "text": [
            "100%|██████████| 188/188 [00:06<00:00, 29.14it/s]\n",
            "100%|██████████| 27/27 [00:00<00:00, 86.31it/s] \n"
          ]
        },
        {
          "output_type": "stream",
          "name": "stdout",
          "text": [
            "Epoch: 09 | Epoch Time: 0m 6s\n",
            "\tTrain Loss: 0.951 | Train Acc: 49.47%\n",
            "\t Val. Loss: 0.898 |  Val. Acc: 57.84%\n"
          ]
        },
        {
          "output_type": "stream",
          "name": "stderr",
          "text": [
            "100%|██████████| 188/188 [00:06<00:00, 29.21it/s]\n",
            "100%|██████████| 27/27 [00:00<00:00, 82.14it/s]\n"
          ]
        },
        {
          "output_type": "stream",
          "name": "stdout",
          "text": [
            "Epoch: 10 | Epoch Time: 0m 6s\n",
            "\tTrain Loss: 0.940 | Train Acc: 51.14%\n",
            "\t Val. Loss: 0.890 |  Val. Acc: 58.53%\n"
          ]
        },
        {
          "output_type": "stream",
          "name": "stderr",
          "text": [
            "100%|██████████| 188/188 [00:06<00:00, 29.34it/s]\n",
            "100%|██████████| 27/27 [00:00<00:00, 85.66it/s] \n"
          ]
        },
        {
          "output_type": "stream",
          "name": "stdout",
          "text": [
            "Epoch: 11 | Epoch Time: 0m 6s\n",
            "\tTrain Loss: 0.929 | Train Acc: 52.18%\n",
            "\t Val. Loss: 0.879 |  Val. Acc: 58.92%\n"
          ]
        },
        {
          "output_type": "stream",
          "name": "stderr",
          "text": [
            "100%|██████████| 188/188 [00:06<00:00, 29.23it/s]\n",
            "100%|██████████| 27/27 [00:00<00:00, 83.62it/s] \n"
          ]
        },
        {
          "output_type": "stream",
          "name": "stdout",
          "text": [
            "Epoch: 12 | Epoch Time: 0m 6s\n",
            "\tTrain Loss: 0.921 | Train Acc: 52.67%\n",
            "\t Val. Loss: 0.876 |  Val. Acc: 59.89%\n"
          ]
        },
        {
          "output_type": "stream",
          "name": "stderr",
          "text": [
            "100%|██████████| 188/188 [00:06<00:00, 29.06it/s]\n",
            "100%|██████████| 27/27 [00:00<00:00, 85.15it/s] \n"
          ]
        },
        {
          "output_type": "stream",
          "name": "stdout",
          "text": [
            "Epoch: 13 | Epoch Time: 0m 6s\n",
            "\tTrain Loss: 0.912 | Train Acc: 53.82%\n",
            "\t Val. Loss: 0.871 |  Val. Acc: 59.95%\n"
          ]
        },
        {
          "output_type": "stream",
          "name": "stderr",
          "text": [
            "100%|██████████| 188/188 [00:06<00:00, 29.62it/s]\n",
            "100%|██████████| 27/27 [00:00<00:00, 85.78it/s] \n"
          ]
        },
        {
          "output_type": "stream",
          "name": "stdout",
          "text": [
            "Epoch: 14 | Epoch Time: 0m 6s\n",
            "\tTrain Loss: 0.901 | Train Acc: 54.71%\n",
            "\t Val. Loss: 0.861 |  Val. Acc: 60.62%\n"
          ]
        },
        {
          "output_type": "stream",
          "name": "stderr",
          "text": [
            "100%|██████████| 188/188 [00:06<00:00, 29.16it/s]\n",
            "100%|██████████| 27/27 [00:00<00:00, 86.91it/s] \n"
          ]
        },
        {
          "output_type": "stream",
          "name": "stdout",
          "text": [
            "Epoch: 15 | Epoch Time: 0m 6s\n",
            "\tTrain Loss: 0.897 | Train Acc: 55.32%\n",
            "\t Val. Loss: 0.856 |  Val. Acc: 61.08%\n"
          ]
        },
        {
          "output_type": "stream",
          "name": "stderr",
          "text": [
            "100%|██████████| 188/188 [00:06<00:00, 28.84it/s]\n",
            "100%|██████████| 27/27 [00:00<00:00, 86.97it/s] \n"
          ]
        },
        {
          "output_type": "stream",
          "name": "stdout",
          "text": [
            "Epoch: 16 | Epoch Time: 0m 6s\n",
            "\tTrain Loss: 0.888 | Train Acc: 55.75%\n",
            "\t Val. Loss: 0.845 |  Val. Acc: 60.72%\n"
          ]
        },
        {
          "output_type": "stream",
          "name": "stderr",
          "text": [
            "100%|██████████| 188/188 [00:06<00:00, 29.17it/s]\n",
            "100%|██████████| 27/27 [00:00<00:00, 85.48it/s] \n"
          ]
        },
        {
          "output_type": "stream",
          "name": "stdout",
          "text": [
            "Epoch: 17 | Epoch Time: 0m 6s\n",
            "\tTrain Loss: 0.881 | Train Acc: 56.53%\n",
            "\t Val. Loss: 0.842 |  Val. Acc: 61.39%\n"
          ]
        },
        {
          "output_type": "stream",
          "name": "stderr",
          "text": [
            "100%|██████████| 188/188 [00:06<00:00, 29.01it/s]\n",
            "100%|██████████| 27/27 [00:00<00:00, 84.19it/s] \n"
          ]
        },
        {
          "output_type": "stream",
          "name": "stdout",
          "text": [
            "Epoch: 18 | Epoch Time: 0m 6s\n",
            "\tTrain Loss: 0.876 | Train Acc: 56.63%\n",
            "\t Val. Loss: 0.838 |  Val. Acc: 61.62%\n"
          ]
        },
        {
          "output_type": "stream",
          "name": "stderr",
          "text": [
            "100%|██████████| 188/188 [00:06<00:00, 28.86it/s]\n",
            "100%|██████████| 27/27 [00:00<00:00, 84.61it/s] \n"
          ]
        },
        {
          "output_type": "stream",
          "name": "stdout",
          "text": [
            "Epoch: 19 | Epoch Time: 0m 6s\n",
            "\tTrain Loss: 0.865 | Train Acc: 57.45%\n",
            "\t Val. Loss: 0.832 |  Val. Acc: 61.85%\n"
          ]
        },
        {
          "output_type": "stream",
          "name": "stderr",
          "text": [
            "100%|██████████| 188/188 [00:06<00:00, 28.76it/s]\n",
            "100%|██████████| 27/27 [00:00<00:00, 82.45it/s] \n"
          ]
        },
        {
          "output_type": "stream",
          "name": "stdout",
          "text": [
            "Epoch: 20 | Epoch Time: 0m 6s\n",
            "\tTrain Loss: 0.863 | Train Acc: 57.71%\n",
            "\t Val. Loss: 0.826 |  Val. Acc: 62.16%\n"
          ]
        },
        {
          "output_type": "stream",
          "name": "stderr",
          "text": [
            "100%|██████████| 188/188 [00:06<00:00, 29.21it/s]\n",
            "100%|██████████| 27/27 [00:00<00:00, 85.13it/s] \n"
          ]
        },
        {
          "output_type": "stream",
          "name": "stdout",
          "text": [
            "Epoch: 21 | Epoch Time: 0m 6s\n",
            "\tTrain Loss: 0.854 | Train Acc: 58.33%\n",
            "\t Val. Loss: 0.823 |  Val. Acc: 62.59%\n"
          ]
        },
        {
          "output_type": "stream",
          "name": "stderr",
          "text": [
            "100%|██████████| 188/188 [00:06<00:00, 28.95it/s]\n",
            "100%|██████████| 27/27 [00:00<00:00, 84.07it/s] \n"
          ]
        },
        {
          "output_type": "stream",
          "name": "stdout",
          "text": [
            "Epoch: 22 | Epoch Time: 0m 6s\n",
            "\tTrain Loss: 0.848 | Train Acc: 58.93%\n",
            "\t Val. Loss: 0.819 |  Val. Acc: 62.84%\n"
          ]
        },
        {
          "output_type": "stream",
          "name": "stderr",
          "text": [
            "100%|██████████| 188/188 [00:06<00:00, 29.01it/s]\n",
            "100%|██████████| 27/27 [00:00<00:00, 83.00it/s]\n"
          ]
        },
        {
          "output_type": "stream",
          "name": "stdout",
          "text": [
            "Epoch: 23 | Epoch Time: 0m 6s\n",
            "\tTrain Loss: 0.841 | Train Acc: 59.40%\n",
            "\t Val. Loss: 0.814 |  Val. Acc: 62.81%\n"
          ]
        },
        {
          "output_type": "stream",
          "name": "stderr",
          "text": [
            "100%|██████████| 188/188 [00:06<00:00, 29.11it/s]\n",
            "100%|██████████| 27/27 [00:00<00:00, 84.83it/s] \n"
          ]
        },
        {
          "output_type": "stream",
          "name": "stdout",
          "text": [
            "Epoch: 24 | Epoch Time: 0m 6s\n",
            "\tTrain Loss: 0.835 | Train Acc: 59.81%\n",
            "\t Val. Loss: 0.810 |  Val. Acc: 63.84%\n"
          ]
        },
        {
          "output_type": "stream",
          "name": "stderr",
          "text": [
            "100%|██████████| 188/188 [00:06<00:00, 28.90it/s]\n",
            "100%|██████████| 27/27 [00:00<00:00, 83.31it/s] \n"
          ]
        },
        {
          "output_type": "stream",
          "name": "stdout",
          "text": [
            "Epoch: 25 | Epoch Time: 0m 6s\n",
            "\tTrain Loss: 0.830 | Train Acc: 60.47%\n",
            "\t Val. Loss: 0.806 |  Val. Acc: 64.14%\n"
          ]
        },
        {
          "output_type": "stream",
          "name": "stderr",
          "text": [
            "100%|██████████| 188/188 [00:06<00:00, 28.89it/s]\n",
            "100%|██████████| 27/27 [00:00<00:00, 85.00it/s] \n"
          ]
        },
        {
          "output_type": "stream",
          "name": "stdout",
          "text": [
            "Epoch: 26 | Epoch Time: 0m 6s\n",
            "\tTrain Loss: 0.824 | Train Acc: 60.68%\n",
            "\t Val. Loss: 0.802 |  Val. Acc: 64.48%\n"
          ]
        },
        {
          "output_type": "stream",
          "name": "stderr",
          "text": [
            "100%|██████████| 188/188 [00:06<00:00, 29.25it/s]\n",
            "100%|██████████| 27/27 [00:00<00:00, 83.73it/s] \n"
          ]
        },
        {
          "output_type": "stream",
          "name": "stdout",
          "text": [
            "Epoch: 27 | Epoch Time: 0m 6s\n",
            "\tTrain Loss: 0.817 | Train Acc: 61.04%\n",
            "\t Val. Loss: 0.803 |  Val. Acc: 64.30%\n"
          ]
        },
        {
          "output_type": "stream",
          "name": "stderr",
          "text": [
            "100%|██████████| 188/188 [00:06<00:00, 29.26it/s]\n",
            "100%|██████████| 27/27 [00:00<00:00, 83.61it/s] \n"
          ]
        },
        {
          "output_type": "stream",
          "name": "stdout",
          "text": [
            "Epoch: 28 | Epoch Time: 0m 6s\n",
            "\tTrain Loss: 0.815 | Train Acc: 61.21%\n",
            "\t Val. Loss: 0.799 |  Val. Acc: 64.25%\n"
          ]
        },
        {
          "output_type": "stream",
          "name": "stderr",
          "text": [
            "100%|██████████| 188/188 [00:06<00:00, 29.02it/s]\n",
            "100%|██████████| 27/27 [00:00<00:00, 85.10it/s] \n"
          ]
        },
        {
          "output_type": "stream",
          "name": "stdout",
          "text": [
            "Epoch: 29 | Epoch Time: 0m 6s\n",
            "\tTrain Loss: 0.810 | Train Acc: 61.46%\n",
            "\t Val. Loss: 0.796 |  Val. Acc: 64.30%\n"
          ]
        },
        {
          "output_type": "stream",
          "name": "stderr",
          "text": [
            "100%|██████████| 188/188 [00:06<00:00, 29.21it/s]\n",
            "100%|██████████| 27/27 [00:00<00:00, 85.19it/s] \n"
          ]
        },
        {
          "output_type": "stream",
          "name": "stdout",
          "text": [
            "Epoch: 30 | Epoch Time: 0m 6s\n",
            "\tTrain Loss: 0.802 | Train Acc: 62.21%\n",
            "\t Val. Loss: 0.796 |  Val. Acc: 63.58%\n"
          ]
        },
        {
          "output_type": "stream",
          "name": "stderr",
          "text": [
            "100%|██████████| 188/188 [00:06<00:00, 28.95it/s]\n",
            "100%|██████████| 27/27 [00:00<00:00, 82.73it/s]\n"
          ]
        },
        {
          "output_type": "stream",
          "name": "stdout",
          "text": [
            "Epoch: 31 | Epoch Time: 0m 6s\n",
            "\tTrain Loss: 0.798 | Train Acc: 62.29%\n",
            "\t Val. Loss: 0.791 |  Val. Acc: 65.14%\n"
          ]
        },
        {
          "output_type": "stream",
          "name": "stderr",
          "text": [
            "100%|██████████| 188/188 [00:06<00:00, 28.80it/s]\n",
            "100%|██████████| 27/27 [00:00<00:00, 84.26it/s] \n"
          ]
        },
        {
          "output_type": "stream",
          "name": "stdout",
          "text": [
            "Epoch: 32 | Epoch Time: 0m 6s\n",
            "\tTrain Loss: 0.792 | Train Acc: 62.77%\n",
            "\t Val. Loss: 0.790 |  Val. Acc: 65.44%\n"
          ]
        },
        {
          "output_type": "stream",
          "name": "stderr",
          "text": [
            "100%|██████████| 188/188 [00:06<00:00, 29.24it/s]\n",
            "100%|██████████| 27/27 [00:00<00:00, 85.69it/s] \n"
          ]
        },
        {
          "output_type": "stream",
          "name": "stdout",
          "text": [
            "Epoch: 33 | Epoch Time: 0m 6s\n",
            "\tTrain Loss: 0.790 | Train Acc: 63.22%\n",
            "\t Val. Loss: 0.786 |  Val. Acc: 65.35%\n"
          ]
        },
        {
          "output_type": "stream",
          "name": "stderr",
          "text": [
            "100%|██████████| 188/188 [00:06<00:00, 29.14it/s]\n",
            "100%|██████████| 27/27 [00:00<00:00, 86.40it/s] \n"
          ]
        },
        {
          "output_type": "stream",
          "name": "stdout",
          "text": [
            "Epoch: 34 | Epoch Time: 0m 6s\n",
            "\tTrain Loss: 0.783 | Train Acc: 63.45%\n",
            "\t Val. Loss: 0.784 |  Val. Acc: 65.35%\n"
          ]
        },
        {
          "output_type": "stream",
          "name": "stderr",
          "text": [
            "100%|██████████| 188/188 [00:06<00:00, 29.31it/s]\n",
            "100%|██████████| 27/27 [00:00<00:00, 85.79it/s] \n"
          ]
        },
        {
          "output_type": "stream",
          "name": "stdout",
          "text": [
            "Epoch: 35 | Epoch Time: 0m 6s\n",
            "\tTrain Loss: 0.780 | Train Acc: 63.73%\n",
            "\t Val. Loss: 0.785 |  Val. Acc: 65.69%\n"
          ]
        },
        {
          "output_type": "stream",
          "name": "stderr",
          "text": [
            "100%|██████████| 188/188 [00:06<00:00, 28.78it/s]\n",
            "100%|██████████| 27/27 [00:00<00:00, 83.88it/s] \n"
          ]
        },
        {
          "output_type": "stream",
          "name": "stdout",
          "text": [
            "Epoch: 36 | Epoch Time: 0m 6s\n",
            "\tTrain Loss: 0.774 | Train Acc: 64.03%\n",
            "\t Val. Loss: 0.778 |  Val. Acc: 65.48%\n"
          ]
        },
        {
          "output_type": "stream",
          "name": "stderr",
          "text": [
            "100%|██████████| 188/188 [00:06<00:00, 29.52it/s]\n",
            "100%|██████████| 27/27 [00:00<00:00, 86.57it/s] \n"
          ]
        },
        {
          "output_type": "stream",
          "name": "stdout",
          "text": [
            "Epoch: 37 | Epoch Time: 0m 6s\n",
            "\tTrain Loss: 0.768 | Train Acc: 64.65%\n",
            "\t Val. Loss: 0.779 |  Val. Acc: 65.55%\n"
          ]
        },
        {
          "output_type": "stream",
          "name": "stderr",
          "text": [
            "100%|██████████| 188/188 [00:06<00:00, 28.59it/s]\n",
            "100%|██████████| 27/27 [00:00<00:00, 83.60it/s] \n"
          ]
        },
        {
          "output_type": "stream",
          "name": "stdout",
          "text": [
            "Epoch: 38 | Epoch Time: 0m 6s\n",
            "\tTrain Loss: 0.764 | Train Acc: 64.53%\n",
            "\t Val. Loss: 0.773 |  Val. Acc: 65.68%\n"
          ]
        },
        {
          "output_type": "stream",
          "name": "stderr",
          "text": [
            "100%|██████████| 188/188 [00:06<00:00, 28.96it/s]\n",
            "100%|██████████| 27/27 [00:00<00:00, 84.77it/s] \n"
          ]
        },
        {
          "output_type": "stream",
          "name": "stdout",
          "text": [
            "Epoch: 39 | Epoch Time: 0m 6s\n",
            "\tTrain Loss: 0.756 | Train Acc: 65.10%\n",
            "\t Val. Loss: 0.774 |  Val. Acc: 65.67%\n"
          ]
        },
        {
          "output_type": "stream",
          "name": "stderr",
          "text": [
            "100%|██████████| 188/188 [00:06<00:00, 29.25it/s]\n",
            "100%|██████████| 27/27 [00:00<00:00, 85.76it/s] \n"
          ]
        },
        {
          "output_type": "stream",
          "name": "stdout",
          "text": [
            "Epoch: 40 | Epoch Time: 0m 6s\n",
            "\tTrain Loss: 0.752 | Train Acc: 65.72%\n",
            "\t Val. Loss: 0.770 |  Val. Acc: 65.41%\n"
          ]
        },
        {
          "output_type": "display_data",
          "data": {
            "image/png": "[encoded data removed]",
            "text/plain": [
              "<Figure size 432x288 with 1 Axes>"
            ]
          },
          "metadata": {
            "needs_background": "light"
          }
        },
        {
          "output_type": "display_data",
          "data": {
            "image/png": "[encoded data removed]",
            "text/plain": [
              "<Figure size 432x288 with 1 Axes>"
            ]
          },
          "metadata": {
            "needs_background": "light"
          }
        },
        {
          "output_type": "stream",
          "name": "stdout",
          "text": [
            "\n",
            "Calculating metrics...\n",
            "Accuracy: 0.6545427987145779\n",
            "Precision: [0.76441597 0.65323618 0.56602254]\n",
            "Recall: [0.67966696 0.66783523 0.61612621]\n",
            "F1 score: [0.71955463 0.66045504 0.59001259]\n",
            "Support: [2282 2282 2282]\n",
            "              precision    recall  f1-score   support\n",
            "\n",
            "         0.0       0.76      0.68      0.72      2282\n",
            "         1.0       0.65      0.67      0.66      2282\n",
            "         2.0       0.57      0.62      0.59      2282\n",
            "\n",
            "    accuracy                           0.65      6846\n",
            "   macro avg       0.66      0.65      0.66      6846\n",
            "weighted avg       0.66      0.65      0.66      6846\n",
            "\n"
          ]
        },
        {
          "output_type": "display_data",
          "data": {
            "image/png": "[encoded data removed]",
            "text/plain": [
              "<Figure size 432x288 with 1 Axes>"
            ]
          },
          "metadata": {
            "needs_background": "light"
          }
        }
      ]
    }
  ]
}
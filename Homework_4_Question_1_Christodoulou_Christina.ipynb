{
  "nbformat": 4,
  "nbformat_minor": 0,
  "metadata": {
    "colab": {
      "name": "Homework_4_Question_1_Christodoulou_Christina.ipynb",
      "provenance": [],
      "collapsed_sections": []
    },
    "kernelspec": {
      "name": "python3",
      "display_name": "Python 3"
    },
    "language_info": {
      "name": "python"
    },
    "accelerator": "GPU",
    "widgets": {
      "application/vnd.jupyter.widget-state+json": {
        "efe67933645e4f1e8ef645d01d69e2b9": {
          "model_module": "@jupyter-widgets/controls",
          "model_name": "HBoxModel",
          "model_module_version": "1.5.0",
          "state": {
            "_view_name": "HBoxView",
            "_dom_classes": [],
            "_model_name": "HBoxModel",
            "_view_module": "@jupyter-widgets/controls",
            "_model_module_version": "1.5.0",
            "_view_count": null,
            "_view_module_version": "1.5.0",
            "box_style": "",
            "layout": "IPY_MODEL_50d6655d2a36440e9a45b13f033d3630",
            "_model_module": "@jupyter-widgets/controls",
            "children": [
              "IPY_MODEL_c61673ada2fb4f3cb6952b4f77132382",
              "IPY_MODEL_f10ea79c780741ff86329d2c9bce977f",
              "IPY_MODEL_5cb8b39376774ee4ba567b07265d732f"
            ]
          }
        },
        "50d6655d2a36440e9a45b13f033d3630": {
          "model_module": "@jupyter-widgets/base",
          "model_name": "LayoutModel",
          "model_module_version": "1.2.0",
          "state": {
            "_view_name": "LayoutView",
            "grid_template_rows": null,
            "right": null,
            "justify_content": null,
            "_view_module": "@jupyter-widgets/base",
            "overflow": null,
            "_model_module_version": "1.2.0",
            "_view_count": null,
            "flex_flow": null,
            "width": null,
            "min_width": null,
            "border": null,
            "align_items": null,
            "bottom": null,
            "_model_module": "@jupyter-widgets/base",
            "top": null,
            "grid_column": null,
            "overflow_y": null,
            "overflow_x": null,
            "grid_auto_flow": null,
            "grid_area": null,
            "grid_template_columns": null,
            "flex": null,
            "_model_name": "LayoutModel",
            "justify_items": null,
            "grid_row": null,
            "max_height": null,
            "align_content": null,
            "visibility": null,
            "align_self": null,
            "height": null,
            "min_height": null,
            "padding": null,
            "grid_auto_rows": null,
            "grid_gap": null,
            "max_width": null,
            "order": null,
            "_view_module_version": "1.2.0",
            "grid_template_areas": null,
            "object_position": null,
            "object_fit": null,
            "grid_auto_columns": null,
            "margin": null,
            "display": null,
            "left": null
          }
        },
        "c61673ada2fb4f3cb6952b4f77132382": {
          "model_module": "@jupyter-widgets/controls",
          "model_name": "HTMLModel",
          "model_module_version": "1.5.0",
          "state": {
            "_view_name": "HTMLView",
            "style": "IPY_MODEL_f8c94f189cf24e62b5583a4f04a5ced9",
            "_dom_classes": [],
            "description": "",
            "_model_name": "HTMLModel",
            "placeholder": "​",
            "_view_module": "@jupyter-widgets/controls",
            "_model_module_version": "1.5.0",
            "value": "Downloading: 100%",
            "_view_count": null,
            "_view_module_version": "1.5.0",
            "description_tooltip": null,
            "_model_module": "@jupyter-widgets/controls",
            "layout": "IPY_MODEL_49584b60bdbc4463a0e83cf61a91a2a8"
          }
        },
        "f10ea79c780741ff86329d2c9bce977f": {
          "model_module": "@jupyter-widgets/controls",
          "model_name": "FloatProgressModel",
          "model_module_version": "1.5.0",
          "state": {
            "_view_name": "ProgressView",
            "style": "IPY_MODEL_08cc849f289441b19f2e5bdac8c101a5",
            "_dom_classes": [],
            "description": "",
            "_model_name": "FloatProgressModel",
            "bar_style": "success",
            "max": 28,
            "_view_module": "@jupyter-widgets/controls",
            "_model_module_version": "1.5.0",
            "value": 28,
            "_view_count": null,
            "_view_module_version": "1.5.0",
            "orientation": "horizontal",
            "min": 0,
            "description_tooltip": null,
            "_model_module": "@jupyter-widgets/controls",
            "layout": "IPY_MODEL_3de1ffc616884e9bb37a4ff445aa679b"
          }
        },
        "5cb8b39376774ee4ba567b07265d732f": {
          "model_module": "@jupyter-widgets/controls",
          "model_name": "HTMLModel",
          "model_module_version": "1.5.0",
          "state": {
            "_view_name": "HTMLView",
            "style": "IPY_MODEL_3a28624713104bbaa30957cd0646063f",
            "_dom_classes": [],
            "description": "",
            "_model_name": "HTMLModel",
            "placeholder": "​",
            "_view_module": "@jupyter-widgets/controls",
            "_model_module_version": "1.5.0",
            "value": " 28.0/28.0 [00:00&lt;00:00, 184B/s]",
            "_view_count": null,
            "_view_module_version": "1.5.0",
            "description_tooltip": null,
            "_model_module": "@jupyter-widgets/controls",
            "layout": "IPY_MODEL_8d3842d494a243b6a31b755c0ae3aea3"
          }
        },
        "f8c94f189cf24e62b5583a4f04a5ced9": {
          "model_module": "@jupyter-widgets/controls",
          "model_name": "DescriptionStyleModel",
          "model_module_version": "1.5.0",
          "state": {
            "_view_name": "StyleView",
            "_model_name": "DescriptionStyleModel",
            "description_width": "",
            "_view_module": "@jupyter-widgets/base",
            "_model_module_version": "1.5.0",
            "_view_count": null,
            "_view_module_version": "1.2.0",
            "_model_module": "@jupyter-widgets/controls"
          }
        },
        "49584b60bdbc4463a0e83cf61a91a2a8": {
          "model_module": "@jupyter-widgets/base",
          "model_name": "LayoutModel",
          "model_module_version": "1.2.0",
          "state": {
            "_view_name": "LayoutView",
            "grid_template_rows": null,
            "right": null,
            "justify_content": null,
            "_view_module": "@jupyter-widgets/base",
            "overflow": null,
            "_model_module_version": "1.2.0",
            "_view_count": null,
            "flex_flow": null,
            "width": null,
            "min_width": null,
            "border": null,
            "align_items": null,
            "bottom": null,
            "_model_module": "@jupyter-widgets/base",
            "top": null,
            "grid_column": null,
            "overflow_y": null,
            "overflow_x": null,
            "grid_auto_flow": null,
            "grid_area": null,
            "grid_template_columns": null,
            "flex": null,
            "_model_name": "LayoutModel",
            "justify_items": null,
            "grid_row": null,
            "max_height": null,
            "align_content": null,
            "visibility": null,
            "align_self": null,
            "height": null,
            "min_height": null,
            "padding": null,
            "grid_auto_rows": null,
            "grid_gap": null,
            "max_width": null,
            "order": null,
            "_view_module_version": "1.2.0",
            "grid_template_areas": null,
            "object_position": null,
            "object_fit": null,
            "grid_auto_columns": null,
            "margin": null,
            "display": null,
            "left": null
          }
        },
        "08cc849f289441b19f2e5bdac8c101a5": {
          "model_module": "@jupyter-widgets/controls",
          "model_name": "ProgressStyleModel",
          "model_module_version": "1.5.0",
          "state": {
            "_view_name": "StyleView",
            "_model_name": "ProgressStyleModel",
            "description_width": "",
            "_view_module": "@jupyter-widgets/base",
            "_model_module_version": "1.5.0",
            "_view_count": null,
            "_view_module_version": "1.2.0",
            "bar_color": null,
            "_model_module": "@jupyter-widgets/controls"
          }
        },
        "3de1ffc616884e9bb37a4ff445aa679b": {
          "model_module": "@jupyter-widgets/base",
          "model_name": "LayoutModel",
          "model_module_version": "1.2.0",
          "state": {
            "_view_name": "LayoutView",
            "grid_template_rows": null,
            "right": null,
            "justify_content": null,
            "_view_module": "@jupyter-widgets/base",
            "overflow": null,
            "_model_module_version": "1.2.0",
            "_view_count": null,
            "flex_flow": null,
            "width": null,
            "min_width": null,
            "border": null,
            "align_items": null,
            "bottom": null,
            "_model_module": "@jupyter-widgets/base",
            "top": null,
            "grid_column": null,
            "overflow_y": null,
            "overflow_x": null,
            "grid_auto_flow": null,
            "grid_area": null,
            "grid_template_columns": null,
            "flex": null,
            "_model_name": "LayoutModel",
            "justify_items": null,
            "grid_row": null,
            "max_height": null,
            "align_content": null,
            "visibility": null,
            "align_self": null,
            "height": null,
            "min_height": null,
            "padding": null,
            "grid_auto_rows": null,
            "grid_gap": null,
            "max_width": null,
            "order": null,
            "_view_module_version": "1.2.0",
            "grid_template_areas": null,
            "object_position": null,
            "object_fit": null,
            "grid_auto_columns": null,
            "margin": null,
            "display": null,
            "left": null
          }
        },
        "3a28624713104bbaa30957cd0646063f": {
          "model_module": "@jupyter-widgets/controls",
          "model_name": "DescriptionStyleModel",
          "model_module_version": "1.5.0",
          "state": {
            "_view_name": "StyleView",
            "_model_name": "DescriptionStyleModel",
            "description_width": "",
            "_view_module": "@jupyter-widgets/base",
            "_model_module_version": "1.5.0",
            "_view_count": null,
            "_view_module_version": "1.2.0",
            "_model_module": "@jupyter-widgets/controls"
          }
        },
        "8d3842d494a243b6a31b755c0ae3aea3": {
          "model_module": "@jupyter-widgets/base",
          "model_name": "LayoutModel",
          "model_module_version": "1.2.0",
          "state": {
            "_view_name": "LayoutView",
            "grid_template_rows": null,
            "right": null,
            "justify_content": null,
            "_view_module": "@jupyter-widgets/base",
            "overflow": null,
            "_model_module_version": "1.2.0",
            "_view_count": null,
            "flex_flow": null,
            "width": null,
            "min_width": null,
            "border": null,
            "align_items": null,
            "bottom": null,
            "_model_module": "@jupyter-widgets/base",
            "top": null,
            "grid_column": null,
            "overflow_y": null,
            "overflow_x": null,
            "grid_auto_flow": null,
            "grid_area": null,
            "grid_template_columns": null,
            "flex": null,
            "_model_name": "LayoutModel",
            "justify_items": null,
            "grid_row": null,
            "max_height": null,
            "align_content": null,
            "visibility": null,
            "align_self": null,
            "height": null,
            "min_height": null,
            "padding": null,
            "grid_auto_rows": null,
            "grid_gap": null,
            "max_width": null,
            "order": null,
            "_view_module_version": "1.2.0",
            "grid_template_areas": null,
            "object_position": null,
            "object_fit": null,
            "grid_auto_columns": null,
            "margin": null,
            "display": null,
            "left": null
          }
        },
        "185b1f0eaeef4313a056eb5534cb46b1": {
          "model_module": "@jupyter-widgets/controls",
          "model_name": "HBoxModel",
          "model_module_version": "1.5.0",
          "state": {
            "_view_name": "HBoxView",
            "_dom_classes": [],
            "_model_name": "HBoxModel",
            "_view_module": "@jupyter-widgets/controls",
            "_model_module_version": "1.5.0",
            "_view_count": null,
            "_view_module_version": "1.5.0",
            "box_style": "",
            "layout": "IPY_MODEL_61307d159b884e70bd5b139a9aca5f42",
            "_model_module": "@jupyter-widgets/controls",
            "children": [
              "IPY_MODEL_1002d1d0e2b14d5a870e58f070994661",
              "IPY_MODEL_0c44c66d682748f0bfcb4dd116f72641",
              "IPY_MODEL_810fe053a45a4bc0a28af0f50d5d6d4e"
            ]
          }
        },
        "61307d159b884e70bd5b139a9aca5f42": {
          "model_module": "@jupyter-widgets/base",
          "model_name": "LayoutModel",
          "model_module_version": "1.2.0",
          "state": {
            "_view_name": "LayoutView",
            "grid_template_rows": null,
            "right": null,
            "justify_content": null,
            "_view_module": "@jupyter-widgets/base",
            "overflow": null,
            "_model_module_version": "1.2.0",
            "_view_count": null,
            "flex_flow": null,
            "width": null,
            "min_width": null,
            "border": null,
            "align_items": null,
            "bottom": null,
            "_model_module": "@jupyter-widgets/base",
            "top": null,
            "grid_column": null,
            "overflow_y": null,
            "overflow_x": null,
            "grid_auto_flow": null,
            "grid_area": null,
            "grid_template_columns": null,
            "flex": null,
            "_model_name": "LayoutModel",
            "justify_items": null,
            "grid_row": null,
            "max_height": null,
            "align_content": null,
            "visibility": null,
            "align_self": null,
            "height": null,
            "min_height": null,
            "padding": null,
            "grid_auto_rows": null,
            "grid_gap": null,
            "max_width": null,
            "order": null,
            "_view_module_version": "1.2.0",
            "grid_template_areas": null,
            "object_position": null,
            "object_fit": null,
            "grid_auto_columns": null,
            "margin": null,
            "display": null,
            "left": null
          }
        },
        "1002d1d0e2b14d5a870e58f070994661": {
          "model_module": "@jupyter-widgets/controls",
          "model_name": "HTMLModel",
          "model_module_version": "1.5.0",
          "state": {
            "_view_name": "HTMLView",
            "style": "IPY_MODEL_875508a91ea44721bf01e19588dc4b17",
            "_dom_classes": [],
            "description": "",
            "_model_name": "HTMLModel",
            "placeholder": "​",
            "_view_module": "@jupyter-widgets/controls",
            "_model_module_version": "1.5.0",
            "value": "Downloading: 100%",
            "_view_count": null,
            "_view_module_version": "1.5.0",
            "description_tooltip": null,
            "_model_module": "@jupyter-widgets/controls",
            "layout": "IPY_MODEL_3a3511237d1e464f8db94a49f86bbf71"
          }
        },
        "0c44c66d682748f0bfcb4dd116f72641": {
          "model_module": "@jupyter-widgets/controls",
          "model_name": "FloatProgressModel",
          "model_module_version": "1.5.0",
          "state": {
            "_view_name": "ProgressView",
            "style": "IPY_MODEL_30fca9e097ab4ea2a99e43487385f743",
            "_dom_classes": [],
            "description": "",
            "_model_name": "FloatProgressModel",
            "bar_style": "success",
            "max": 231508,
            "_view_module": "@jupyter-widgets/controls",
            "_model_module_version": "1.5.0",
            "value": 231508,
            "_view_count": null,
            "_view_module_version": "1.5.0",
            "orientation": "horizontal",
            "min": 0,
            "description_tooltip": null,
            "_model_module": "@jupyter-widgets/controls",
            "layout": "IPY_MODEL_9c7511415dba498ebd70e91d09c25b37"
          }
        },
        "810fe053a45a4bc0a28af0f50d5d6d4e": {
          "model_module": "@jupyter-widgets/controls",
          "model_name": "HTMLModel",
          "model_module_version": "1.5.0",
          "state": {
            "_view_name": "HTMLView",
            "style": "IPY_MODEL_cd01bf92ec54402fb3ff93e2ef90ffa7",
            "_dom_classes": [],
            "description": "",
            "_model_name": "HTMLModel",
            "placeholder": "​",
            "_view_module": "@jupyter-widgets/controls",
            "_model_module_version": "1.5.0",
            "value": " 226k/226k [00:00&lt;00:00, 1.72MB/s]",
            "_view_count": null,
            "_view_module_version": "1.5.0",
            "description_tooltip": null,
            "_model_module": "@jupyter-widgets/controls",
            "layout": "IPY_MODEL_6fa544d080534772b09bb76a73a0039a"
          }
        },
        "875508a91ea44721bf01e19588dc4b17": {
          "model_module": "@jupyter-widgets/controls",
          "model_name": "DescriptionStyleModel",
          "model_module_version": "1.5.0",
          "state": {
            "_view_name": "StyleView",
            "_model_name": "DescriptionStyleModel",
            "description_width": "",
            "_view_module": "@jupyter-widgets/base",
            "_model_module_version": "1.5.0",
            "_view_count": null,
            "_view_module_version": "1.2.0",
            "_model_module": "@jupyter-widgets/controls"
          }
        },
        "3a3511237d1e464f8db94a49f86bbf71": {
          "model_module": "@jupyter-widgets/base",
          "model_name": "LayoutModel",
          "model_module_version": "1.2.0",
          "state": {
            "_view_name": "LayoutView",
            "grid_template_rows": null,
            "right": null,
            "justify_content": null,
            "_view_module": "@jupyter-widgets/base",
            "overflow": null,
            "_model_module_version": "1.2.0",
            "_view_count": null,
            "flex_flow": null,
            "width": null,
            "min_width": null,
            "border": null,
            "align_items": null,
            "bottom": null,
            "_model_module": "@jupyter-widgets/base",
            "top": null,
            "grid_column": null,
            "overflow_y": null,
            "overflow_x": null,
            "grid_auto_flow": null,
            "grid_area": null,
            "grid_template_columns": null,
            "flex": null,
            "_model_name": "LayoutModel",
            "justify_items": null,
            "grid_row": null,
            "max_height": null,
            "align_content": null,
            "visibility": null,
            "align_self": null,
            "height": null,
            "min_height": null,
            "padding": null,
            "grid_auto_rows": null,
            "grid_gap": null,
            "max_width": null,
            "order": null,
            "_view_module_version": "1.2.0",
            "grid_template_areas": null,
            "object_position": null,
            "object_fit": null,
            "grid_auto_columns": null,
            "margin": null,
            "display": null,
            "left": null
          }
        },
        "30fca9e097ab4ea2a99e43487385f743": {
          "model_module": "@jupyter-widgets/controls",
          "model_name": "ProgressStyleModel",
          "model_module_version": "1.5.0",
          "state": {
            "_view_name": "StyleView",
            "_model_name": "ProgressStyleModel",
            "description_width": "",
            "_view_module": "@jupyter-widgets/base",
            "_model_module_version": "1.5.0",
            "_view_count": null,
            "_view_module_version": "1.2.0",
            "bar_color": null,
            "_model_module": "@jupyter-widgets/controls"
          }
        },
        "9c7511415dba498ebd70e91d09c25b37": {
          "model_module": "@jupyter-widgets/base",
          "model_name": "LayoutModel",
          "model_module_version": "1.2.0",
          "state": {
            "_view_name": "LayoutView",
            "grid_template_rows": null,
            "right": null,
            "justify_content": null,
            "_view_module": "@jupyter-widgets/base",
            "overflow": null,
            "_model_module_version": "1.2.0",
            "_view_count": null,
            "flex_flow": null,
            "width": null,
            "min_width": null,
            "border": null,
            "align_items": null,
            "bottom": null,
            "_model_module": "@jupyter-widgets/base",
            "top": null,
            "grid_column": null,
            "overflow_y": null,
            "overflow_x": null,
            "grid_auto_flow": null,
            "grid_area": null,
            "grid_template_columns": null,
            "flex": null,
            "_model_name": "LayoutModel",
            "justify_items": null,
            "grid_row": null,
            "max_height": null,
            "align_content": null,
            "visibility": null,
            "align_self": null,
            "height": null,
            "min_height": null,
            "padding": null,
            "grid_auto_rows": null,
            "grid_gap": null,
            "max_width": null,
            "order": null,
            "_view_module_version": "1.2.0",
            "grid_template_areas": null,
            "object_position": null,
            "object_fit": null,
            "grid_auto_columns": null,
            "margin": null,
            "display": null,
            "left": null
          }
        },
        "cd01bf92ec54402fb3ff93e2ef90ffa7": {
          "model_module": "@jupyter-widgets/controls",
          "model_name": "DescriptionStyleModel",
          "model_module_version": "1.5.0",
          "state": {
            "_view_name": "StyleView",
            "_model_name": "DescriptionStyleModel",
            "description_width": "",
            "_view_module": "@jupyter-widgets/base",
            "_model_module_version": "1.5.0",
            "_view_count": null,
            "_view_module_version": "1.2.0",
            "_model_module": "@jupyter-widgets/controls"
          }
        },
        "6fa544d080534772b09bb76a73a0039a": {
          "model_module": "@jupyter-widgets/base",
          "model_name": "LayoutModel",
          "model_module_version": "1.2.0",
          "state": {
            "_view_name": "LayoutView",
            "grid_template_rows": null,
            "right": null,
            "justify_content": null,
            "_view_module": "@jupyter-widgets/base",
            "overflow": null,
            "_model_module_version": "1.2.0",
            "_view_count": null,
            "flex_flow": null,
            "width": null,
            "min_width": null,
            "border": null,
            "align_items": null,
            "bottom": null,
            "_model_module": "@jupyter-widgets/base",
            "top": null,
            "grid_column": null,
            "overflow_y": null,
            "overflow_x": null,
            "grid_auto_flow": null,
            "grid_area": null,
            "grid_template_columns": null,
            "flex": null,
            "_model_name": "LayoutModel",
            "justify_items": null,
            "grid_row": null,
            "max_height": null,
            "align_content": null,
            "visibility": null,
            "align_self": null,
            "height": null,
            "min_height": null,
            "padding": null,
            "grid_auto_rows": null,
            "grid_gap": null,
            "max_width": null,
            "order": null,
            "_view_module_version": "1.2.0",
            "grid_template_areas": null,
            "object_position": null,
            "object_fit": null,
            "grid_auto_columns": null,
            "margin": null,
            "display": null,
            "left": null
          }
        },
        "20ae02ecfe1a4c07bb0c2d931d21a389": {
          "model_module": "@jupyter-widgets/controls",
          "model_name": "HBoxModel",
          "model_module_version": "1.5.0",
          "state": {
            "_view_name": "HBoxView",
            "_dom_classes": [],
            "_model_name": "HBoxModel",
            "_view_module": "@jupyter-widgets/controls",
            "_model_module_version": "1.5.0",
            "_view_count": null,
            "_view_module_version": "1.5.0",
            "box_style": "",
            "layout": "IPY_MODEL_52dc12986739482989b1a3237726b41e",
            "_model_module": "@jupyter-widgets/controls",
            "children": [
              "IPY_MODEL_2fe5488e217d4c21a8dcda5d66644cc2",
              "IPY_MODEL_91d8aecf4440483ba99864403f31cb40",
              "IPY_MODEL_e43950e9325b4572b2e12a5768439c73"
            ]
          }
        },
        "52dc12986739482989b1a3237726b41e": {
          "model_module": "@jupyter-widgets/base",
          "model_name": "LayoutModel",
          "model_module_version": "1.2.0",
          "state": {
            "_view_name": "LayoutView",
            "grid_template_rows": null,
            "right": null,
            "justify_content": null,
            "_view_module": "@jupyter-widgets/base",
            "overflow": null,
            "_model_module_version": "1.2.0",
            "_view_count": null,
            "flex_flow": null,
            "width": null,
            "min_width": null,
            "border": null,
            "align_items": null,
            "bottom": null,
            "_model_module": "@jupyter-widgets/base",
            "top": null,
            "grid_column": null,
            "overflow_y": null,
            "overflow_x": null,
            "grid_auto_flow": null,
            "grid_area": null,
            "grid_template_columns": null,
            "flex": null,
            "_model_name": "LayoutModel",
            "justify_items": null,
            "grid_row": null,
            "max_height": null,
            "align_content": null,
            "visibility": null,
            "align_self": null,
            "height": null,
            "min_height": null,
            "padding": null,
            "grid_auto_rows": null,
            "grid_gap": null,
            "max_width": null,
            "order": null,
            "_view_module_version": "1.2.0",
            "grid_template_areas": null,
            "object_position": null,
            "object_fit": null,
            "grid_auto_columns": null,
            "margin": null,
            "display": null,
            "left": null
          }
        },
        "2fe5488e217d4c21a8dcda5d66644cc2": {
          "model_module": "@jupyter-widgets/controls",
          "model_name": "HTMLModel",
          "model_module_version": "1.5.0",
          "state": {
            "_view_name": "HTMLView",
            "style": "IPY_MODEL_b573890b77a64f83aaa94cb043194efa",
            "_dom_classes": [],
            "description": "",
            "_model_name": "HTMLModel",
            "placeholder": "​",
            "_view_module": "@jupyter-widgets/controls",
            "_model_module_version": "1.5.0",
            "value": "Downloading: 100%",
            "_view_count": null,
            "_view_module_version": "1.5.0",
            "description_tooltip": null,
            "_model_module": "@jupyter-widgets/controls",
            "layout": "IPY_MODEL_31f4af80691d4b42b0b571caf5a3e3c6"
          }
        },
        "91d8aecf4440483ba99864403f31cb40": {
          "model_module": "@jupyter-widgets/controls",
          "model_name": "FloatProgressModel",
          "model_module_version": "1.5.0",
          "state": {
            "_view_name": "ProgressView",
            "style": "IPY_MODEL_2e9a15dfdcc3410c932e6b2f07a4b2e9",
            "_dom_classes": [],
            "description": "",
            "_model_name": "FloatProgressModel",
            "bar_style": "success",
            "max": 466062,
            "_view_module": "@jupyter-widgets/controls",
            "_model_module_version": "1.5.0",
            "value": 466062,
            "_view_count": null,
            "_view_module_version": "1.5.0",
            "orientation": "horizontal",
            "min": 0,
            "description_tooltip": null,
            "_model_module": "@jupyter-widgets/controls",
            "layout": "IPY_MODEL_a59a2bbec8f246f48843432615788a39"
          }
        },
        "e43950e9325b4572b2e12a5768439c73": {
          "model_module": "@jupyter-widgets/controls",
          "model_name": "HTMLModel",
          "model_module_version": "1.5.0",
          "state": {
            "_view_name": "HTMLView",
            "style": "IPY_MODEL_afc9fc23c50b4868afa62aee2f2e9726",
            "_dom_classes": [],
            "description": "",
            "_model_name": "HTMLModel",
            "placeholder": "​",
            "_view_module": "@jupyter-widgets/controls",
            "_model_module_version": "1.5.0",
            "value": " 455k/455k [00:00&lt;00:00, 1.17MB/s]",
            "_view_count": null,
            "_view_module_version": "1.5.0",
            "description_tooltip": null,
            "_model_module": "@jupyter-widgets/controls",
            "layout": "IPY_MODEL_8ffac5e2705a46a0bae16fd1eba62cb7"
          }
        },
        "b573890b77a64f83aaa94cb043194efa": {
          "model_module": "@jupyter-widgets/controls",
          "model_name": "DescriptionStyleModel",
          "model_module_version": "1.5.0",
          "state": {
            "_view_name": "StyleView",
            "_model_name": "DescriptionStyleModel",
            "description_width": "",
            "_view_module": "@jupyter-widgets/base",
            "_model_module_version": "1.5.0",
            "_view_count": null,
            "_view_module_version": "1.2.0",
            "_model_module": "@jupyter-widgets/controls"
          }
        },
        "31f4af80691d4b42b0b571caf5a3e3c6": {
          "model_module": "@jupyter-widgets/base",
          "model_name": "LayoutModel",
          "model_module_version": "1.2.0",
          "state": {
            "_view_name": "LayoutView",
            "grid_template_rows": null,
            "right": null,
            "justify_content": null,
            "_view_module": "@jupyter-widgets/base",
            "overflow": null,
            "_model_module_version": "1.2.0",
            "_view_count": null,
            "flex_flow": null,
            "width": null,
            "min_width": null,
            "border": null,
            "align_items": null,
            "bottom": null,
            "_model_module": "@jupyter-widgets/base",
            "top": null,
            "grid_column": null,
            "overflow_y": null,
            "overflow_x": null,
            "grid_auto_flow": null,
            "grid_area": null,
            "grid_template_columns": null,
            "flex": null,
            "_model_name": "LayoutModel",
            "justify_items": null,
            "grid_row": null,
            "max_height": null,
            "align_content": null,
            "visibility": null,
            "align_self": null,
            "height": null,
            "min_height": null,
            "padding": null,
            "grid_auto_rows": null,
            "grid_gap": null,
            "max_width": null,
            "order": null,
            "_view_module_version": "1.2.0",
            "grid_template_areas": null,
            "object_position": null,
            "object_fit": null,
            "grid_auto_columns": null,
            "margin": null,
            "display": null,
            "left": null
          }
        },
        "2e9a15dfdcc3410c932e6b2f07a4b2e9": {
          "model_module": "@jupyter-widgets/controls",
          "model_name": "ProgressStyleModel",
          "model_module_version": "1.5.0",
          "state": {
            "_view_name": "StyleView",
            "_model_name": "ProgressStyleModel",
            "description_width": "",
            "_view_module": "@jupyter-widgets/base",
            "_model_module_version": "1.5.0",
            "_view_count": null,
            "_view_module_version": "1.2.0",
            "bar_color": null,
            "_model_module": "@jupyter-widgets/controls"
          }
        },
        "a59a2bbec8f246f48843432615788a39": {
          "model_module": "@jupyter-widgets/base",
          "model_name": "LayoutModel",
          "model_module_version": "1.2.0",
          "state": {
            "_view_name": "LayoutView",
            "grid_template_rows": null,
            "right": null,
            "justify_content": null,
            "_view_module": "@jupyter-widgets/base",
            "overflow": null,
            "_model_module_version": "1.2.0",
            "_view_count": null,
            "flex_flow": null,
            "width": null,
            "min_width": null,
            "border": null,
            "align_items": null,
            "bottom": null,
            "_model_module": "@jupyter-widgets/base",
            "top": null,
            "grid_column": null,
            "overflow_y": null,
            "overflow_x": null,
            "grid_auto_flow": null,
            "grid_area": null,
            "grid_template_columns": null,
            "flex": null,
            "_model_name": "LayoutModel",
            "justify_items": null,
            "grid_row": null,
            "max_height": null,
            "align_content": null,
            "visibility": null,
            "align_self": null,
            "height": null,
            "min_height": null,
            "padding": null,
            "grid_auto_rows": null,
            "grid_gap": null,
            "max_width": null,
            "order": null,
            "_view_module_version": "1.2.0",
            "grid_template_areas": null,
            "object_position": null,
            "object_fit": null,
            "grid_auto_columns": null,
            "margin": null,
            "display": null,
            "left": null
          }
        },
        "afc9fc23c50b4868afa62aee2f2e9726": {
          "model_module": "@jupyter-widgets/controls",
          "model_name": "DescriptionStyleModel",
          "model_module_version": "1.5.0",
          "state": {
            "_view_name": "StyleView",
            "_model_name": "DescriptionStyleModel",
            "description_width": "",
            "_view_module": "@jupyter-widgets/base",
            "_model_module_version": "1.5.0",
            "_view_count": null,
            "_view_module_version": "1.2.0",
            "_model_module": "@jupyter-widgets/controls"
          }
        },
        "8ffac5e2705a46a0bae16fd1eba62cb7": {
          "model_module": "@jupyter-widgets/base",
          "model_name": "LayoutModel",
          "model_module_version": "1.2.0",
          "state": {
            "_view_name": "LayoutView",
            "grid_template_rows": null,
            "right": null,
            "justify_content": null,
            "_view_module": "@jupyter-widgets/base",
            "overflow": null,
            "_model_module_version": "1.2.0",
            "_view_count": null,
            "flex_flow": null,
            "width": null,
            "min_width": null,
            "border": null,
            "align_items": null,
            "bottom": null,
            "_model_module": "@jupyter-widgets/base",
            "top": null,
            "grid_column": null,
            "overflow_y": null,
            "overflow_x": null,
            "grid_auto_flow": null,
            "grid_area": null,
            "grid_template_columns": null,
            "flex": null,
            "_model_name": "LayoutModel",
            "justify_items": null,
            "grid_row": null,
            "max_height": null,
            "align_content": null,
            "visibility": null,
            "align_self": null,
            "height": null,
            "min_height": null,
            "padding": null,
            "grid_auto_rows": null,
            "grid_gap": null,
            "max_width": null,
            "order": null,
            "_view_module_version": "1.2.0",
            "grid_template_areas": null,
            "object_position": null,
            "object_fit": null,
            "grid_auto_columns": null,
            "margin": null,
            "display": null,
            "left": null
          }
        },
        "fc6ef7715eaf40e490ded875d150c212": {
          "model_module": "@jupyter-widgets/controls",
          "model_name": "HBoxModel",
          "model_module_version": "1.5.0",
          "state": {
            "_view_name": "HBoxView",
            "_dom_classes": [],
            "_model_name": "HBoxModel",
            "_view_module": "@jupyter-widgets/controls",
            "_model_module_version": "1.5.0",
            "_view_count": null,
            "_view_module_version": "1.5.0",
            "box_style": "",
            "layout": "IPY_MODEL_5aabd951da2949cf927877dbd8e19148",
            "_model_module": "@jupyter-widgets/controls",
            "children": [
              "IPY_MODEL_89167a9e82494d0685a053e6e05ba5da",
              "IPY_MODEL_2c45d63cabbb4526a9bfdede43de520f",
              "IPY_MODEL_f38dfc49af7a4f70a3d2ff38311afe16"
            ]
          }
        },
        "5aabd951da2949cf927877dbd8e19148": {
          "model_module": "@jupyter-widgets/base",
          "model_name": "LayoutModel",
          "model_module_version": "1.2.0",
          "state": {
            "_view_name": "LayoutView",
            "grid_template_rows": null,
            "right": null,
            "justify_content": null,
            "_view_module": "@jupyter-widgets/base",
            "overflow": null,
            "_model_module_version": "1.2.0",
            "_view_count": null,
            "flex_flow": null,
            "width": null,
            "min_width": null,
            "border": null,
            "align_items": null,
            "bottom": null,
            "_model_module": "@jupyter-widgets/base",
            "top": null,
            "grid_column": null,
            "overflow_y": null,
            "overflow_x": null,
            "grid_auto_flow": null,
            "grid_area": null,
            "grid_template_columns": null,
            "flex": null,
            "_model_name": "LayoutModel",
            "justify_items": null,
            "grid_row": null,
            "max_height": null,
            "align_content": null,
            "visibility": null,
            "align_self": null,
            "height": null,
            "min_height": null,
            "padding": null,
            "grid_auto_rows": null,
            "grid_gap": null,
            "max_width": null,
            "order": null,
            "_view_module_version": "1.2.0",
            "grid_template_areas": null,
            "object_position": null,
            "object_fit": null,
            "grid_auto_columns": null,
            "margin": null,
            "display": null,
            "left": null
          }
        },
        "89167a9e82494d0685a053e6e05ba5da": {
          "model_module": "@jupyter-widgets/controls",
          "model_name": "HTMLModel",
          "model_module_version": "1.5.0",
          "state": {
            "_view_name": "HTMLView",
            "style": "IPY_MODEL_a3c7d51065e24a55b0b40851e1ec5f21",
            "_dom_classes": [],
            "description": "",
            "_model_name": "HTMLModel",
            "placeholder": "​",
            "_view_module": "@jupyter-widgets/controls",
            "_model_module_version": "1.5.0",
            "value": "Downloading: 100%",
            "_view_count": null,
            "_view_module_version": "1.5.0",
            "description_tooltip": null,
            "_model_module": "@jupyter-widgets/controls",
            "layout": "IPY_MODEL_50f294b06ff3442eb926e2dbf1c579fc"
          }
        },
        "2c45d63cabbb4526a9bfdede43de520f": {
          "model_module": "@jupyter-widgets/controls",
          "model_name": "FloatProgressModel",
          "model_module_version": "1.5.0",
          "state": {
            "_view_name": "ProgressView",
            "style": "IPY_MODEL_c521038db978452aafbe16d8f1b2f55b",
            "_dom_classes": [],
            "description": "",
            "_model_name": "FloatProgressModel",
            "bar_style": "success",
            "max": 570,
            "_view_module": "@jupyter-widgets/controls",
            "_model_module_version": "1.5.0",
            "value": 570,
            "_view_count": null,
            "_view_module_version": "1.5.0",
            "orientation": "horizontal",
            "min": 0,
            "description_tooltip": null,
            "_model_module": "@jupyter-widgets/controls",
            "layout": "IPY_MODEL_b24decbb68244d3b94833ebba355c4ce"
          }
        },
        "f38dfc49af7a4f70a3d2ff38311afe16": {
          "model_module": "@jupyter-widgets/controls",
          "model_name": "HTMLModel",
          "model_module_version": "1.5.0",
          "state": {
            "_view_name": "HTMLView",
            "style": "IPY_MODEL_88d63099552e402abcead9c618994bbb",
            "_dom_classes": [],
            "description": "",
            "_model_name": "HTMLModel",
            "placeholder": "​",
            "_view_module": "@jupyter-widgets/controls",
            "_model_module_version": "1.5.0",
            "value": " 570/570 [00:00&lt;00:00, 13.7kB/s]",
            "_view_count": null,
            "_view_module_version": "1.5.0",
            "description_tooltip": null,
            "_model_module": "@jupyter-widgets/controls",
            "layout": "IPY_MODEL_a71d9d24e2974a99aae3bc77c9519732"
          }
        },
        "a3c7d51065e24a55b0b40851e1ec5f21": {
          "model_module": "@jupyter-widgets/controls",
          "model_name": "DescriptionStyleModel",
          "model_module_version": "1.5.0",
          "state": {
            "_view_name": "StyleView",
            "_model_name": "DescriptionStyleModel",
            "description_width": "",
            "_view_module": "@jupyter-widgets/base",
            "_model_module_version": "1.5.0",
            "_view_count": null,
            "_view_module_version": "1.2.0",
            "_model_module": "@jupyter-widgets/controls"
          }
        },
        "50f294b06ff3442eb926e2dbf1c579fc": {
          "model_module": "@jupyter-widgets/base",
          "model_name": "LayoutModel",
          "model_module_version": "1.2.0",
          "state": {
            "_view_name": "LayoutView",
            "grid_template_rows": null,
            "right": null,
            "justify_content": null,
            "_view_module": "@jupyter-widgets/base",
            "overflow": null,
            "_model_module_version": "1.2.0",
            "_view_count": null,
            "flex_flow": null,
            "width": null,
            "min_width": null,
            "border": null,
            "align_items": null,
            "bottom": null,
            "_model_module": "@jupyter-widgets/base",
            "top": null,
            "grid_column": null,
            "overflow_y": null,
            "overflow_x": null,
            "grid_auto_flow": null,
            "grid_area": null,
            "grid_template_columns": null,
            "flex": null,
            "_model_name": "LayoutModel",
            "justify_items": null,
            "grid_row": null,
            "max_height": null,
            "align_content": null,
            "visibility": null,
            "align_self": null,
            "height": null,
            "min_height": null,
            "padding": null,
            "grid_auto_rows": null,
            "grid_gap": null,
            "max_width": null,
            "order": null,
            "_view_module_version": "1.2.0",
            "grid_template_areas": null,
            "object_position": null,
            "object_fit": null,
            "grid_auto_columns": null,
            "margin": null,
            "display": null,
            "left": null
          }
        },
        "c521038db978452aafbe16d8f1b2f55b": {
          "model_module": "@jupyter-widgets/controls",
          "model_name": "ProgressStyleModel",
          "model_module_version": "1.5.0",
          "state": {
            "_view_name": "StyleView",
            "_model_name": "ProgressStyleModel",
            "description_width": "",
            "_view_module": "@jupyter-widgets/base",
            "_model_module_version": "1.5.0",
            "_view_count": null,
            "_view_module_version": "1.2.0",
            "bar_color": null,
            "_model_module": "@jupyter-widgets/controls"
          }
        },
        "b24decbb68244d3b94833ebba355c4ce": {
          "model_module": "@jupyter-widgets/base",
          "model_name": "LayoutModel",
          "model_module_version": "1.2.0",
          "state": {
            "_view_name": "LayoutView",
            "grid_template_rows": null,
            "right": null,
            "justify_content": null,
            "_view_module": "@jupyter-widgets/base",
            "overflow": null,
            "_model_module_version": "1.2.0",
            "_view_count": null,
            "flex_flow": null,
            "width": null,
            "min_width": null,
            "border": null,
            "align_items": null,
            "bottom": null,
            "_model_module": "@jupyter-widgets/base",
            "top": null,
            "grid_column": null,
            "overflow_y": null,
            "overflow_x": null,
            "grid_auto_flow": null,
            "grid_area": null,
            "grid_template_columns": null,
            "flex": null,
            "_model_name": "LayoutModel",
            "justify_items": null,
            "grid_row": null,
            "max_height": null,
            "align_content": null,
            "visibility": null,
            "align_self": null,
            "height": null,
            "min_height": null,
            "padding": null,
            "grid_auto_rows": null,
            "grid_gap": null,
            "max_width": null,
            "order": null,
            "_view_module_version": "1.2.0",
            "grid_template_areas": null,
            "object_position": null,
            "object_fit": null,
            "grid_auto_columns": null,
            "margin": null,
            "display": null,
            "left": null
          }
        },
        "88d63099552e402abcead9c618994bbb": {
          "model_module": "@jupyter-widgets/controls",
          "model_name": "DescriptionStyleModel",
          "model_module_version": "1.5.0",
          "state": {
            "_view_name": "StyleView",
            "_model_name": "DescriptionStyleModel",
            "description_width": "",
            "_view_module": "@jupyter-widgets/base",
            "_model_module_version": "1.5.0",
            "_view_count": null,
            "_view_module_version": "1.2.0",
            "_model_module": "@jupyter-widgets/controls"
          }
        },
        "a71d9d24e2974a99aae3bc77c9519732": {
          "model_module": "@jupyter-widgets/base",
          "model_name": "LayoutModel",
          "model_module_version": "1.2.0",
          "state": {
            "_view_name": "LayoutView",
            "grid_template_rows": null,
            "right": null,
            "justify_content": null,
            "_view_module": "@jupyter-widgets/base",
            "overflow": null,
            "_model_module_version": "1.2.0",
            "_view_count": null,
            "flex_flow": null,
            "width": null,
            "min_width": null,
            "border": null,
            "align_items": null,
            "bottom": null,
            "_model_module": "@jupyter-widgets/base",
            "top": null,
            "grid_column": null,
            "overflow_y": null,
            "overflow_x": null,
            "grid_auto_flow": null,
            "grid_area": null,
            "grid_template_columns": null,
            "flex": null,
            "_model_name": "LayoutModel",
            "justify_items": null,
            "grid_row": null,
            "max_height": null,
            "align_content": null,
            "visibility": null,
            "align_self": null,
            "height": null,
            "min_height": null,
            "padding": null,
            "grid_auto_rows": null,
            "grid_gap": null,
            "max_width": null,
            "order": null,
            "_view_module_version": "1.2.0",
            "grid_template_areas": null,
            "object_position": null,
            "object_fit": null,
            "grid_auto_columns": null,
            "margin": null,
            "display": null,
            "left": null
          }
        },
        "bd3e235144b74ff69a5f6ae976c215b1": {
          "model_module": "@jupyter-widgets/controls",
          "model_name": "HBoxModel",
          "model_module_version": "1.5.0",
          "state": {
            "_view_name": "HBoxView",
            "_dom_classes": [],
            "_model_name": "HBoxModel",
            "_view_module": "@jupyter-widgets/controls",
            "_model_module_version": "1.5.0",
            "_view_count": null,
            "_view_module_version": "1.5.0",
            "box_style": "",
            "layout": "IPY_MODEL_6d5d4c8b4e6f4cba8aff4f0fbd3fc7e2",
            "_model_module": "@jupyter-widgets/controls",
            "children": [
              "IPY_MODEL_9972f528edcb4a3f864bc7f63d85be21",
              "IPY_MODEL_62e0a4c340a94051bab9fb056be8a4b3",
              "IPY_MODEL_a17c8b2532d241de9ab2a4b6139b0fd6"
            ]
          }
        },
        "6d5d4c8b4e6f4cba8aff4f0fbd3fc7e2": {
          "model_module": "@jupyter-widgets/base",
          "model_name": "LayoutModel",
          "model_module_version": "1.2.0",
          "state": {
            "_view_name": "LayoutView",
            "grid_template_rows": null,
            "right": null,
            "justify_content": null,
            "_view_module": "@jupyter-widgets/base",
            "overflow": null,
            "_model_module_version": "1.2.0",
            "_view_count": null,
            "flex_flow": null,
            "width": null,
            "min_width": null,
            "border": null,
            "align_items": null,
            "bottom": null,
            "_model_module": "@jupyter-widgets/base",
            "top": null,
            "grid_column": null,
            "overflow_y": null,
            "overflow_x": null,
            "grid_auto_flow": null,
            "grid_area": null,
            "grid_template_columns": null,
            "flex": null,
            "_model_name": "LayoutModel",
            "justify_items": null,
            "grid_row": null,
            "max_height": null,
            "align_content": null,
            "visibility": null,
            "align_self": null,
            "height": null,
            "min_height": null,
            "padding": null,
            "grid_auto_rows": null,
            "grid_gap": null,
            "max_width": null,
            "order": null,
            "_view_module_version": "1.2.0",
            "grid_template_areas": null,
            "object_position": null,
            "object_fit": null,
            "grid_auto_columns": null,
            "margin": null,
            "display": null,
            "left": null
          }
        },
        "9972f528edcb4a3f864bc7f63d85be21": {
          "model_module": "@jupyter-widgets/controls",
          "model_name": "HTMLModel",
          "model_module_version": "1.5.0",
          "state": {
            "_view_name": "HTMLView",
            "style": "IPY_MODEL_230eff5a05d7432c9969e7758792b234",
            "_dom_classes": [],
            "description": "",
            "_model_name": "HTMLModel",
            "placeholder": "​",
            "_view_module": "@jupyter-widgets/controls",
            "_model_module_version": "1.5.0",
            "value": "Downloading: 100%",
            "_view_count": null,
            "_view_module_version": "1.5.0",
            "description_tooltip": null,
            "_model_module": "@jupyter-widgets/controls",
            "layout": "IPY_MODEL_41105deb40e142b499454a8b0932402c"
          }
        },
        "62e0a4c340a94051bab9fb056be8a4b3": {
          "model_module": "@jupyter-widgets/controls",
          "model_name": "FloatProgressModel",
          "model_module_version": "1.5.0",
          "state": {
            "_view_name": "ProgressView",
            "style": "IPY_MODEL_bff5b89561e042c291ad18230e23d900",
            "_dom_classes": [],
            "description": "",
            "_model_name": "FloatProgressModel",
            "bar_style": "success",
            "max": 440473133,
            "_view_module": "@jupyter-widgets/controls",
            "_model_module_version": "1.5.0",
            "value": 440473133,
            "_view_count": null,
            "_view_module_version": "1.5.0",
            "orientation": "horizontal",
            "min": 0,
            "description_tooltip": null,
            "_model_module": "@jupyter-widgets/controls",
            "layout": "IPY_MODEL_42880612bda64934ace0dcd796b5c446"
          }
        },
        "a17c8b2532d241de9ab2a4b6139b0fd6": {
          "model_module": "@jupyter-widgets/controls",
          "model_name": "HTMLModel",
          "model_module_version": "1.5.0",
          "state": {
            "_view_name": "HTMLView",
            "style": "IPY_MODEL_8fd7fabb7db54a7cbce919cd9cbd5c47",
            "_dom_classes": [],
            "description": "",
            "_model_name": "HTMLModel",
            "placeholder": "​",
            "_view_module": "@jupyter-widgets/controls",
            "_model_module_version": "1.5.0",
            "value": " 420M/420M [00:12&lt;00:00, 37.1MB/s]",
            "_view_count": null,
            "_view_module_version": "1.5.0",
            "description_tooltip": null,
            "_model_module": "@jupyter-widgets/controls",
            "layout": "IPY_MODEL_1a576b3a65194b18b80d34396cea24d4"
          }
        },
        "230eff5a05d7432c9969e7758792b234": {
          "model_module": "@jupyter-widgets/controls",
          "model_name": "DescriptionStyleModel",
          "model_module_version": "1.5.0",
          "state": {
            "_view_name": "StyleView",
            "_model_name": "DescriptionStyleModel",
            "description_width": "",
            "_view_module": "@jupyter-widgets/base",
            "_model_module_version": "1.5.0",
            "_view_count": null,
            "_view_module_version": "1.2.0",
            "_model_module": "@jupyter-widgets/controls"
          }
        },
        "41105deb40e142b499454a8b0932402c": {
          "model_module": "@jupyter-widgets/base",
          "model_name": "LayoutModel",
          "model_module_version": "1.2.0",
          "state": {
            "_view_name": "LayoutView",
            "grid_template_rows": null,
            "right": null,
            "justify_content": null,
            "_view_module": "@jupyter-widgets/base",
            "overflow": null,
            "_model_module_version": "1.2.0",
            "_view_count": null,
            "flex_flow": null,
            "width": null,
            "min_width": null,
            "border": null,
            "align_items": null,
            "bottom": null,
            "_model_module": "@jupyter-widgets/base",
            "top": null,
            "grid_column": null,
            "overflow_y": null,
            "overflow_x": null,
            "grid_auto_flow": null,
            "grid_area": null,
            "grid_template_columns": null,
            "flex": null,
            "_model_name": "LayoutModel",
            "justify_items": null,
            "grid_row": null,
            "max_height": null,
            "align_content": null,
            "visibility": null,
            "align_self": null,
            "height": null,
            "min_height": null,
            "padding": null,
            "grid_auto_rows": null,
            "grid_gap": null,
            "max_width": null,
            "order": null,
            "_view_module_version": "1.2.0",
            "grid_template_areas": null,
            "object_position": null,
            "object_fit": null,
            "grid_auto_columns": null,
            "margin": null,
            "display": null,
            "left": null
          }
        },
        "bff5b89561e042c291ad18230e23d900": {
          "model_module": "@jupyter-widgets/controls",
          "model_name": "ProgressStyleModel",
          "model_module_version": "1.5.0",
          "state": {
            "_view_name": "StyleView",
            "_model_name": "ProgressStyleModel",
            "description_width": "",
            "_view_module": "@jupyter-widgets/base",
            "_model_module_version": "1.5.0",
            "_view_count": null,
            "_view_module_version": "1.2.0",
            "bar_color": null,
            "_model_module": "@jupyter-widgets/controls"
          }
        },
        "42880612bda64934ace0dcd796b5c446": {
          "model_module": "@jupyter-widgets/base",
          "model_name": "LayoutModel",
          "model_module_version": "1.2.0",
          "state": {
            "_view_name": "LayoutView",
            "grid_template_rows": null,
            "right": null,
            "justify_content": null,
            "_view_module": "@jupyter-widgets/base",
            "overflow": null,
            "_model_module_version": "1.2.0",
            "_view_count": null,
            "flex_flow": null,
            "width": null,
            "min_width": null,
            "border": null,
            "align_items": null,
            "bottom": null,
            "_model_module": "@jupyter-widgets/base",
            "top": null,
            "grid_column": null,
            "overflow_y": null,
            "overflow_x": null,
            "grid_auto_flow": null,
            "grid_area": null,
            "grid_template_columns": null,
            "flex": null,
            "_model_name": "LayoutModel",
            "justify_items": null,
            "grid_row": null,
            "max_height": null,
            "align_content": null,
            "visibility": null,
            "align_self": null,
            "height": null,
            "min_height": null,
            "padding": null,
            "grid_auto_rows": null,
            "grid_gap": null,
            "max_width": null,
            "order": null,
            "_view_module_version": "1.2.0",
            "grid_template_areas": null,
            "object_position": null,
            "object_fit": null,
            "grid_auto_columns": null,
            "margin": null,
            "display": null,
            "left": null
          }
        },
        "8fd7fabb7db54a7cbce919cd9cbd5c47": {
          "model_module": "@jupyter-widgets/controls",
          "model_name": "DescriptionStyleModel",
          "model_module_version": "1.5.0",
          "state": {
            "_view_name": "StyleView",
            "_model_name": "DescriptionStyleModel",
            "description_width": "",
            "_view_module": "@jupyter-widgets/base",
            "_model_module_version": "1.5.0",
            "_view_count": null,
            "_view_module_version": "1.2.0",
            "_model_module": "@jupyter-widgets/controls"
          }
        },
        "1a576b3a65194b18b80d34396cea24d4": {
          "model_module": "@jupyter-widgets/base",
          "model_name": "LayoutModel",
          "model_module_version": "1.2.0",
          "state": {
            "_view_name": "LayoutView",
            "grid_template_rows": null,
            "right": null,
            "justify_content": null,
            "_view_module": "@jupyter-widgets/base",
            "overflow": null,
            "_model_module_version": "1.2.0",
            "_view_count": null,
            "flex_flow": null,
            "width": null,
            "min_width": null,
            "border": null,
            "align_items": null,
            "bottom": null,
            "_model_module": "@jupyter-widgets/base",
            "top": null,
            "grid_column": null,
            "overflow_y": null,
            "overflow_x": null,
            "grid_auto_flow": null,
            "grid_area": null,
            "grid_template_columns": null,
            "flex": null,
            "_model_name": "LayoutModel",
            "justify_items": null,
            "grid_row": null,
            "max_height": null,
            "align_content": null,
            "visibility": null,
            "align_self": null,
            "height": null,
            "min_height": null,
            "padding": null,
            "grid_auto_rows": null,
            "grid_gap": null,
            "max_width": null,
            "order": null,
            "_view_module_version": "1.2.0",
            "grid_template_areas": null,
            "object_position": null,
            "object_fit": null,
            "grid_auto_columns": null,
            "margin": null,
            "display": null,
            "left": null
          }
        }
      }
    }
  },
  "cells": [
    {
      "cell_type": "markdown",
      "metadata": {
        "id": "QZuMKqDSGeDO"
      },
      "source": [
        "**Lesson: M931LT1 Artificial Intelligence II**\n",
        "\n",
        "**Student's name: Christina Christodoulou**\n",
        "\n",
        "**I.D Number: LT1200027**\n",
        "\n",
        "**Field of Studies: Language Technology**\n",
        "\n",
        "**Homework 4**\n",
        "\n",
        "**Question 1**\n"
      ]
    },
    {
      "cell_type": "markdown",
      "source": [
        "**MULTICLASS VACCINE SENTIMENT CLASSIFIER BY FINE-TUNING BERT**"
      ],
      "metadata": {
        "id": "HAS_b2X3Qzxh"
      }
    },
    {
      "cell_type": "markdown",
      "metadata": {
        "id": "5llwu8GBuqMb"
      },
      "source": [
        "In the present assignment, the basic pretrained **BERT** (**B**idirectional **E**ncoder **R**epresentations from **T**ransformers) model from Hugging Face is fine-tuned for an NLP task, namely **text classification**. The solution is implemented in Pytorch. More specifically, a vaccine sentiment classifier is developed including texts categorized in 3 classes (neutral, anti-vax, pro-vax). The training and validation datasets were provided in csv form containing tweets and their labels, 0 for neutral, 1 for anti-vax and 2 for pro-vax. The validation dataset was copied, renamed as 'vaccine_test _set.csv' and used as the test dataset as well. For the development of the model, I experimented with: \n",
        "\n",
        "* the maximum sequence length\n",
        "\n",
        "* the dropout probability\n",
        "\n",
        "* the learning rate\n",
        "\n",
        "* the batch size\n",
        "\n",
        "* the number of epochs\n",
        "\n",
        "The precision, recall and F1 score for each class as well as the accuracy of the model is calculated. I also plotted the loss vs epochs and accuracy vs epochs as well as the confusion matrix to check the model’s performance. \n",
        "\n",
        "But, why fine-tune a pretrained Bert model and not build another deep learning model? \n",
        "\n",
        "**1. Faster model development**\n",
        "\n",
        "The BERT model was already trained on a huge amount of unlabeled data extracted from BooksCorpus (800 million words) and Wikipedia (2,500 million words), thus it takes much less time (less training epochs) to fine-tune a pretrained model. By adding a simple one-hidden-layer neural network classifier on top of BERT and fine-tuning BERT, state-of-the-art performance can be achieved. \n",
        "\n",
        "**2. Bidirectionality**\n",
        "\n",
        "BERT utilizes the bidirectional nature of the encoder stacks, since it consists of several Transformer encoders stacked together. Each Transformer encoder encapsulates two sub-layers: a self-attention layer and a feed-forward layer. This means that BERT learns information from a sequence of words from both directions. \n",
        "\n",
        "**3. Less training data**\n",
        "\n",
        "Due to its pre-trained weights, the model can be fine-tuned on a much smaller dataset compared to one that would be required in a model that is built from scratch. By fine-tuning BERT, good performance on a smaller training dataset can be achieved. \n",
        "\n",
        "**4. Better results**\n",
        "\n",
        "The fine-tuning procedure offers impressive results on a small dataset for a few training epochs for various NLP tasks. "
      ]
    },
    {
      "cell_type": "markdown",
      "source": [
        "**BERT MODEL INPUT AND OUTPUT**\n",
        "\n",
        "**1.** BERT model input: a sequence of tokens. 2 special tokens for Bert:\n",
        "\n",
        " * [CLS] : The first token of every sequence, which stands for classification token.\n",
        "\n",
        " * [SEP] : The token that makes BERT know which token belongs to which sequence. This is important for a next sentence prediction task or a question-answering task. In case of one sequence, this token is appended to the end of the sequence. \n",
        "\n",
        " * An input sentence is easily transformed into a sequence of tokens appropriate for BERT by using its tokenizer (BertTokenizer). \n",
        "\n",
        " * Maximum size of tokens: 512. In case the tokens in a sequence are less than 512, padding is used to fill the empty token slots with the [PAD] token. In case the tokens in a sequence are longer than 512, truncation is used.\n",
        "\n",
        "**2.** BERT model output: an embedding vector of size 768 in each of the tokens. These vectors can be used as an input for different kinds of NLP tasks, like text classification and question-answering that are applied in this assignment.\n",
        "\n",
        " * For text classification, the focus is on the embedding vector output from the special [CLS] token. In other words, the embedding vector of size 768 from [CLS] token is used in this assignment as an input for the vaccine classifier, which will output a vector of size 3, which is the number of the classes."
      ],
      "metadata": {
        "id": "T9fUal84hSFQ"
      }
    },
    {
      "cell_type": "markdown",
      "source": [
        "**DOWNLOAD AND IMPORT NECESSARY LIBRARIES AND PACKAGES**"
      ],
      "metadata": {
        "id": "aBVQ-serfBun"
      }
    },
    {
      "cell_type": "code",
      "execution_count": 1,
      "metadata": {
        "colab": {
          "base_uri": "https://localhost:8080/"
        },
        "id": "nDwCNkY9Xl4V",
        "outputId": "7f9efcf8-2ff0-44ec-ebdb-53e1107a66c8"
      },
      "outputs": [
        {
          "output_type": "stream",
          "name": "stdout",
          "text": [
            "Collecting transformers\n",
            "  Downloading transformers-4.16.2-py3-none-any.whl (3.5 MB)\n",
            "\u001b[K     |████████████████████████████████| 3.5 MB 5.4 MB/s \n",
            "\u001b[?25hRequirement already satisfied: requests in /usr/local/lib/python3.7/dist-packages (from transformers) (2.23.0)\n",
            "Requirement already satisfied: importlib-metadata in /usr/local/lib/python3.7/dist-packages (from transformers) (4.11.1)\n",
            "Collecting huggingface-hub<1.0,>=0.1.0\n",
            "  Downloading huggingface_hub-0.4.0-py3-none-any.whl (67 kB)\n",
            "\u001b[K     |████████████████████████████████| 67 kB 4.5 MB/s \n",
            "\u001b[?25hCollecting sacremoses\n",
            "  Downloading sacremoses-0.0.47-py2.py3-none-any.whl (895 kB)\n",
            "\u001b[K     |████████████████████████████████| 895 kB 49.2 MB/s \n",
            "\u001b[?25hRequirement already satisfied: regex!=2019.12.17 in /usr/local/lib/python3.7/dist-packages (from transformers) (2019.12.20)\n",
            "Collecting pyyaml>=5.1\n",
            "  Downloading PyYAML-6.0-cp37-cp37m-manylinux_2_5_x86_64.manylinux1_x86_64.manylinux_2_12_x86_64.manylinux2010_x86_64.whl (596 kB)\n",
            "\u001b[K     |████████████████████████████████| 596 kB 43.2 MB/s \n",
            "\u001b[?25hRequirement already satisfied: filelock in /usr/local/lib/python3.7/dist-packages (from transformers) (3.6.0)\n",
            "Requirement already satisfied: numpy>=1.17 in /usr/local/lib/python3.7/dist-packages (from transformers) (1.21.5)\n",
            "Collecting tokenizers!=0.11.3,>=0.10.1\n",
            "  Downloading tokenizers-0.11.5-cp37-cp37m-manylinux_2_12_x86_64.manylinux2010_x86_64.whl (6.8 MB)\n",
            "\u001b[K     |████████████████████████████████| 6.8 MB 27.4 MB/s \n",
            "\u001b[?25hRequirement already satisfied: tqdm>=4.27 in /usr/local/lib/python3.7/dist-packages (from transformers) (4.62.3)\n",
            "Requirement already satisfied: packaging>=20.0 in /usr/local/lib/python3.7/dist-packages (from transformers) (21.3)\n",
            "Requirement already satisfied: typing-extensions>=3.7.4.3 in /usr/local/lib/python3.7/dist-packages (from huggingface-hub<1.0,>=0.1.0->transformers) (3.10.0.2)\n",
            "Requirement already satisfied: pyparsing!=3.0.5,>=2.0.2 in /usr/local/lib/python3.7/dist-packages (from packaging>=20.0->transformers) (3.0.7)\n",
            "Requirement already satisfied: zipp>=0.5 in /usr/local/lib/python3.7/dist-packages (from importlib-metadata->transformers) (3.7.0)\n",
            "Requirement already satisfied: urllib3!=1.25.0,!=1.25.1,<1.26,>=1.21.1 in /usr/local/lib/python3.7/dist-packages (from requests->transformers) (1.24.3)\n",
            "Requirement already satisfied: chardet<4,>=3.0.2 in /usr/local/lib/python3.7/dist-packages (from requests->transformers) (3.0.4)\n",
            "Requirement already satisfied: certifi>=2017.4.17 in /usr/local/lib/python3.7/dist-packages (from requests->transformers) (2021.10.8)\n",
            "Requirement already satisfied: idna<3,>=2.5 in /usr/local/lib/python3.7/dist-packages (from requests->transformers) (2.10)\n",
            "Requirement already satisfied: six in /usr/local/lib/python3.7/dist-packages (from sacremoses->transformers) (1.15.0)\n",
            "Requirement already satisfied: joblib in /usr/local/lib/python3.7/dist-packages (from sacremoses->transformers) (1.1.0)\n",
            "Requirement already satisfied: click in /usr/local/lib/python3.7/dist-packages (from sacremoses->transformers) (7.1.2)\n",
            "Installing collected packages: pyyaml, tokenizers, sacremoses, huggingface-hub, transformers\n",
            "  Attempting uninstall: pyyaml\n",
            "    Found existing installation: PyYAML 3.13\n",
            "    Uninstalling PyYAML-3.13:\n",
            "      Successfully uninstalled PyYAML-3.13\n",
            "Successfully installed huggingface-hub-0.4.0 pyyaml-6.0 sacremoses-0.0.47 tokenizers-0.11.5 transformers-4.16.2\n"
          ]
        }
      ],
      "source": [
        "!pip install transformers"
      ]
    },
    {
      "cell_type": "code",
      "execution_count": 2,
      "metadata": {
        "colab": {
          "base_uri": "https://localhost:8080/"
        },
        "id": "1mt2qbky3X5C",
        "outputId": "8918ba33-43e5-4b97-ce82-da7be00dff63"
      },
      "outputs": [
        {
          "output_type": "stream",
          "name": "stdout",
          "text": [
            "[nltk_data] Downloading package stopwords to /root/nltk_data...\n",
            "[nltk_data]   Unzipping corpora/stopwords.zip.\n",
            "[nltk_data] Downloading package punkt to /root/nltk_data...\n",
            "[nltk_data]   Unzipping tokenizers/punkt.zip.\n",
            "[nltk_data] Downloading package wordnet to /root/nltk_data...\n",
            "[nltk_data]   Unzipping corpora/wordnet.zip.\n"
          ]
        }
      ],
      "source": [
        "# Import necessary libraries\n",
        "import torch\n",
        "import random\n",
        "import re \n",
        "import time\n",
        "import datetime\n",
        "import pandas as pd  \n",
        "import numpy as np\n",
        "import nltk\n",
        "import seaborn as sns\n",
        "import numpy as np\n",
        "from tqdm import tqdm\n",
        "import torch.nn as nn\n",
        "import torchtext\n",
        "import torchtext.legacy\n",
        "import torch.nn.functional as F\n",
        "import matplotlib.pyplot as plt \n",
        "from nltk.corpus import stopwords\n",
        "from sklearn.utils import resample\n",
        "from nltk.tokenize import word_tokenize\n",
        "from nltk.stem import WordNetLemmatizer\n",
        "from sklearn.metrics import accuracy_score\n",
        "from sklearn.metrics import precision_recall_fscore_support as score\n",
        "from sklearn.metrics import classification_report, confusion_matrix\n",
        "from torch.utils.data import Dataset, TensorDataset, DataLoader, RandomSampler, SequentialSampler\n",
        "from transformers import AdamW, get_linear_schedule_with_warmup, BertTokenizer, BertModel\n",
        "\n",
        "# Download necessary packages\n",
        "nltk.download('stopwords')\n",
        "nltk.download('punkt')\n",
        "nltk.download('wordnet')\n",
        "stop_words_set = set(stopwords.words('english'))"
      ]
    },
    {
      "cell_type": "markdown",
      "source": [
        "**SET UP GPU FOR TRAINING**"
      ],
      "metadata": {
        "id": "v6vZTldxgOZ2"
      }
    },
    {
      "cell_type": "code",
      "source": [
        "if torch.cuda.is_available():       \n",
        "    device = torch.device(\"cuda\")\n",
        "    print(f'There are {torch.cuda.device_count()} GPU(s) available.')\n",
        "    print('Device name:', torch.cuda.get_device_name(0))\n",
        "\n",
        "else:\n",
        "    print('No GPU available, using the CPU instead.')\n",
        "    device = torch.device('cpu')"
      ],
      "metadata": {
        "colab": {
          "base_uri": "https://localhost:8080/"
        },
        "id": "iben0f1_F5mB",
        "outputId": "9b2d82d4-30c3-4c4f-9c05-7bbdc0972f57"
      },
      "execution_count": 3,
      "outputs": [
        {
          "output_type": "stream",
          "name": "stdout",
          "text": [
            "There are 1 GPU(s) available.\n",
            "Device name: Tesla K80\n"
          ]
        }
      ]
    },
    {
      "cell_type": "markdown",
      "source": [
        "**FUNCTIONS USED**"
      ],
      "metadata": {
        "id": "Fobn2LhigTOD"
      }
    },
    {
      "cell_type": "code",
      "source": [
        "# A function that sets seed for reproducibility\n",
        "def set_seed(seed_value): \n",
        "    random.seed(seed_value)\n",
        "    np.random.seed(seed_value)\n",
        "    torch.manual_seed(seed_value)\n",
        "    torch.cuda.manual_seed_all(seed_value)"
      ],
      "metadata": {
        "id": "wplE0dqjbgn1"
      },
      "execution_count": 4,
      "outputs": []
    },
    {
      "cell_type": "code",
      "source": [
        "# A function that calculates time in seconds and returns a string in the form hh:mm:ss\n",
        "def calculate_time(elapsed_time):\n",
        "   \n",
        "    # Round to the nearest second\n",
        "    elapsed_rounded = int(round((elapsed_time)))\n",
        "    \n",
        "    # Format as hh:mm:ss\n",
        "    return str(datetime.timedelta(seconds=elapsed_rounded))"
      ],
      "metadata": {
        "id": "ZP8yJndlXHwe"
      },
      "execution_count": 5,
      "outputs": []
    },
    {
      "cell_type": "code",
      "execution_count": 6,
      "metadata": {
        "id": "OMBQkCTU0Juv"
      },
      "outputs": [],
      "source": [
        "# A function that opens, reads a file in csv with utf-8 encoding, gets the values, checks and fills empty values and checks for duplicates\n",
        "def read_explore_dataframe(csv_file):\n",
        "  \n",
        "  # Open and read the csv file with utf-8 encoding\n",
        "  dataframe = pd.read_csv(csv_file, encoding='utf-8')\n",
        "  \n",
        "  # Get the keys and their corresponding number of values\n",
        "  keys = dataframe.keys() \n",
        "  for key in keys:\n",
        "    df_len = len(dataframe[key].unique()) # the length of the unique values of each column\n",
        "    print('{0:25}{1:10}'.format(key,df_len))\n",
        "\n",
        "  # Remove missing values and keep the dataFrame with valid entries in the same variable\n",
        "  dataframe.dropna(inplace=True)\n",
        "  # Remove the index\n",
        "  dataframe.reset_index(inplace=True,drop=True)\n",
        "\n",
        "  dataframe.duplicated() # check for duplicates\n",
        "  print('Number of duplicates in the dataframe:', dataframe.duplicated().sum())\n",
        "  # Remove duplicate rows\n",
        "  dataframe.drop_duplicates()\n",
        "  print('Dataframe checked for NaN values and duplicates!')\n",
        "  \n",
        "  return dataframe "
      ]
    },
    {
      "cell_type": "code",
      "execution_count": 7,
      "metadata": {
        "id": "S6ezrsdr0MJ2"
      },
      "outputs": [],
      "source": [
        "# A function that takes as parameter a text and applies pre-processing steps to clean it\n",
        "def text_preprocessing(text):\n",
        "  \n",
        "  # Remove tags\n",
        "  TAG_RE = re.compile(r'<[^>]+>')\n",
        "  no_tags = TAG_RE.sub('',text)  \n",
        "                \n",
        "  # Remove unusual characters\n",
        "  text = re.sub('<[^>]*>', '', no_tags)\n",
        "\n",
        "  # Remove urls\n",
        "  text = re.sub(r'http\\S+','', text)\n",
        "    \n",
        "  # Remove emoticons\n",
        "  emoticons = re.findall('(?::|;|=)(?:-)?(?:\\)|\\(|D|P)', text)\n",
        "\n",
        "  # Convert all words to lowercase\n",
        "  text = re.sub('[\\W]+', ' ', text.lower()) + \" \".join(emoticons).replace('-', '')\n",
        "  \n",
        "  # Remove numbers\n",
        "  no_numbers_txt = re.sub(r'\\d+', '', text)\n",
        "  \n",
        "  # Tokenize\n",
        "  tokens = nltk.word_tokenize(no_numbers_txt)\n",
        "\n",
        "  # Remove punctuation\n",
        "  no_punct = [word for word in tokens if word.isalpha()]\n",
        "\n",
        "  # Remove stopwords\n",
        "  words = [w for w in no_punct if not w in stop_words_set]\n",
        "                \n",
        "  # Lemmatize\n",
        "  lemmatizer = WordNetLemmatizer()\n",
        "  lemmas = \" \".join([lemmatizer.lemmatize(word) for word in words])\n",
        "  \n",
        "  return lemmas"
      ]
    },
    {
      "cell_type": "code",
      "execution_count": 8,
      "metadata": {
        "id": "NO62UEP30QBn"
      },
      "outputs": [],
      "source": [
        "# A function that gets as input the dataframe and gets the necessary values from the columns after resampling and pre-processing\n",
        "def get_columns(dataframe, feature, label):\n",
        "  \n",
        "  # Get only the columns we are interested in\n",
        "  dataset = dataframe[[feature,label]]\n",
        "  \n",
        "  # Check the distribution of classes\n",
        "  distribution = dataset[label].value_counts()/dataset.shape[0]\n",
        "  print('Distribution of data in classes:')\n",
        "  print(distribution)\n",
        "\n",
        "  # Separate the different labels and create a combined dataset\n",
        "  neutral = dataset[dataset[label] == 0]\n",
        "  antivax = dataset[dataset[label] == 1]\n",
        "  provax = dataset[dataset[label] == 2]\n",
        "\n",
        "  # Combine the classes with the greater number of values\n",
        "  class_majorities = pd.concat([neutral,provax])\n",
        "  classes = pd.concat([neutral,antivax,provax])\n",
        "\n",
        "  # Upsampling: take samples with replacement from the minority class until the class is almost the same size as the majorities\n",
        "  train_minority_upsampled = resample(antivax, replace = True, n_samples = len(classes), random_state = 123)\n",
        "  train_minority_upsampled2 = resample(neutral, replace = True, n_samples = len(classes), random_state = 123)\n",
        "  train_minority_upsampled3 = resample(provax, replace = True, n_samples = len(classes), random_state = 123)\n",
        "  \n",
        "  # Combine in a new dataframe the new resampled classes \n",
        "  dataset = pd.concat([train_minority_upsampled,train_minority_upsampled2,train_minority_upsampled3]) \n",
        "  print('Distribution of data in classes after resampling:')\n",
        "  print(dataset[label].value_counts())\n",
        "  \n",
        "  # Apply the pre-processing function to the dataframe containing the text (feature column)\n",
        "  dataset[feature] = dataset[feature].apply(text_preprocessing)\n",
        "  print('\\nText done pre-processing!')\n",
        "\n",
        "  # Divide the X and y values\n",
        "  X = dataset[feature]\n",
        "  y = dataset[label]\n",
        "\n",
        "  # Concatenate the X,Y data\n",
        "  new_dataframe = pd.concat([X, y], axis=1)\n",
        "     \n",
        "  return new_dataframe"
      ]
    },
    {
      "cell_type": "code",
      "source": [
        "class Data_Preparation(Dataset):\n",
        "  \n",
        "  def __init__(self, tweet, label, tokenizer, max_len):\n",
        "    \n",
        "    self.tweet = tweet\n",
        "    self.label = label\n",
        "    self.tokenizer = tokenizer\n",
        "    self.max_len = max_len\n",
        "        \n",
        "  def __len__(self):\n",
        "    \n",
        "    return len(self.tweet)\n",
        "    \n",
        "  def __getitem__(self,index):\n",
        "   \n",
        "    tweet = self.tweet[index]\n",
        "    encoding = self.tokenizer.encode_plus(\n",
        "        tweet,\n",
        "        add_special_tokens = True,      # Add [CLS] and [SEP]\n",
        "        max_length = self.max_len,      # Max length to pad\n",
        "        padding = 'max_length',         # Pad sentence according to max length\n",
        "        truncation = True,              # Truncate the sentences\n",
        "        return_token_type_ids = False,  # Do not return the ids of type tokens\n",
        "        return_attention_mask = True,   # Return attention mask\n",
        "        return_tensors = 'pt')          # Return PyTorch tensor\n",
        "\n",
        "    return {'input_id': encoding['input_ids'].flatten(),\n",
        "            'attention_mask': encoding['attention_mask'].flatten(),\n",
        "            'label': torch.tensor(self.label[index], dtype = torch.long)}"
      ],
      "metadata": {
        "id": "kHgdAIFo-K3m"
      },
      "execution_count": 9,
      "outputs": []
    },
    {
      "cell_type": "code",
      "source": [
        "# Calculates the accuracy per batch, used in the train_model and evaluate_model functions \n",
        "def accuracy(preds, y_true):\n",
        " \n",
        "  pred_flat = np.argmax(preds, axis=1).flatten()\n",
        "  labels_flat = y_true.flatten()\n",
        "  acc = np.sum(pred_flat == labels_flat) / len(labels_flat)\n",
        "  \n",
        "  return acc"
      ],
      "metadata": {
        "id": "NBVj-NwXjPAS"
      },
      "execution_count": 10,
      "outputs": []
    },
    {
      "cell_type": "code",
      "source": [
        "# A function that plots the confusion matrix with colors and titles \n",
        "def show_confusion_matrix(confusion_matrix):\n",
        "  \n",
        "  hmap = sns.heatmap(confusion_matrix, annot=True, fmt=\"d\", cmap=\"Blues\")\n",
        "  hmap.yaxis.set_ticklabels(hmap.yaxis.get_ticklabels(), rotation=0, ha='right')\n",
        "  hmap.xaxis.set_ticklabels(hmap.xaxis.get_ticklabels(), rotation=30, ha='right')\n",
        "  plt.ylabel('True Labels')\n",
        "  plt.xlabel('Predicted Labels')"
      ],
      "metadata": {
        "id": "dI4REToDHDXG"
      },
      "execution_count": 11,
      "outputs": []
    },
    {
      "cell_type": "code",
      "source": [
        "# A function that calculates all the metrics using the validation/test set\n",
        "def calculate_metrics(y_true, preds):  \n",
        "  \n",
        "  print('\\nCalculating metrics...')\n",
        "\n",
        "  preds = preds.detach().cpu().numpy()\n",
        "  y_true = y_true.to('cpu').numpy()\n",
        "  \n",
        "  # Calculate the accuracy of the model \n",
        "  acc = accuracy_score(y_true, preds)\n",
        "  \n",
        "  # Calculate general precision, recall, F1 score of the model and of each class\n",
        "  precision, recall, fscore, support = score(y_true, preds)\n",
        "  print('Accuracy: {}'.format(acc))\n",
        "  print('Precision: {}'.format(precision))\n",
        "  print('Recall: {}'.format(recall))\n",
        "  print('F1 score: {}'.format(fscore))\n",
        "  print('Support: {}'.format(support))\n",
        " \n",
        "  # Print classification report\n",
        "  class_names = ['neutral', 'anti-vax', 'pro-vax']\n",
        "  print(classification_report(y_true, preds, target_names=class_names))\n",
        "\n",
        "  cm = confusion_matrix(y_true, preds)\n",
        "  df_cm = pd.DataFrame(cm, index = class_names, columns = class_names)\n",
        "  show_confusion_matrix(df_cm)"
      ],
      "metadata": {
        "id": "ko3OJqSqtezh"
      },
      "execution_count": 12,
      "outputs": []
    },
    {
      "cell_type": "markdown",
      "source": [
        "**SET UP THE BERT PRETRAINED MODEL AND ITS TOKENIZER**"
      ],
      "metadata": {
        "id": "1MaF-C7Pd9sh"
      }
    },
    {
      "cell_type": "code",
      "source": [
        "# Define the pre-trained model from Hugging Face and its tokenizer\n",
        "model_name = 'bert-base-uncased'\n",
        "tokenizer = BertTokenizer.from_pretrained(model_name, do_lower_case = True)"
      ],
      "metadata": {
        "id": "UmlpwwPF4s5r",
        "colab": {
          "base_uri": "https://localhost:8080/",
          "height": 145,
          "referenced_widgets": [
            "efe67933645e4f1e8ef645d01d69e2b9",
            "50d6655d2a36440e9a45b13f033d3630",
            "c61673ada2fb4f3cb6952b4f77132382",
            "f10ea79c780741ff86329d2c9bce977f",
            "5cb8b39376774ee4ba567b07265d732f",
            "f8c94f189cf24e62b5583a4f04a5ced9",
            "49584b60bdbc4463a0e83cf61a91a2a8",
            "08cc849f289441b19f2e5bdac8c101a5",
            "3de1ffc616884e9bb37a4ff445aa679b",
            "3a28624713104bbaa30957cd0646063f",
            "8d3842d494a243b6a31b755c0ae3aea3",
            "185b1f0eaeef4313a056eb5534cb46b1",
            "61307d159b884e70bd5b139a9aca5f42",
            "1002d1d0e2b14d5a870e58f070994661",
            "0c44c66d682748f0bfcb4dd116f72641",
            "810fe053a45a4bc0a28af0f50d5d6d4e",
            "875508a91ea44721bf01e19588dc4b17",
            "3a3511237d1e464f8db94a49f86bbf71",
            "30fca9e097ab4ea2a99e43487385f743",
            "9c7511415dba498ebd70e91d09c25b37",
            "cd01bf92ec54402fb3ff93e2ef90ffa7",
            "6fa544d080534772b09bb76a73a0039a",
            "20ae02ecfe1a4c07bb0c2d931d21a389",
            "52dc12986739482989b1a3237726b41e",
            "2fe5488e217d4c21a8dcda5d66644cc2",
            "91d8aecf4440483ba99864403f31cb40",
            "e43950e9325b4572b2e12a5768439c73",
            "b573890b77a64f83aaa94cb043194efa",
            "31f4af80691d4b42b0b571caf5a3e3c6",
            "2e9a15dfdcc3410c932e6b2f07a4b2e9",
            "a59a2bbec8f246f48843432615788a39",
            "afc9fc23c50b4868afa62aee2f2e9726",
            "8ffac5e2705a46a0bae16fd1eba62cb7",
            "fc6ef7715eaf40e490ded875d150c212",
            "5aabd951da2949cf927877dbd8e19148",
            "89167a9e82494d0685a053e6e05ba5da",
            "2c45d63cabbb4526a9bfdede43de520f",
            "f38dfc49af7a4f70a3d2ff38311afe16",
            "a3c7d51065e24a55b0b40851e1ec5f21",
            "50f294b06ff3442eb926e2dbf1c579fc",
            "c521038db978452aafbe16d8f1b2f55b",
            "b24decbb68244d3b94833ebba355c4ce",
            "88d63099552e402abcead9c618994bbb",
            "a71d9d24e2974a99aae3bc77c9519732"
          ]
        },
        "outputId": "58b3b200-89c7-48f6-e3cc-f73966ae9ff5"
      },
      "execution_count": 13,
      "outputs": [
        {
          "output_type": "display_data",
          "data": {
            "application/vnd.jupyter.widget-view+json": {
              "model_id": "efe67933645e4f1e8ef645d01d69e2b9",
              "version_minor": 0,
              "version_major": 2
            },
            "text/plain": [
              "Downloading:   0%|          | 0.00/28.0 [00:00<?, ?B/s]"
            ]
          },
          "metadata": {}
        },
        {
          "output_type": "display_data",
          "data": {
            "application/vnd.jupyter.widget-view+json": {
              "model_id": "185b1f0eaeef4313a056eb5534cb46b1",
              "version_minor": 0,
              "version_major": 2
            },
            "text/plain": [
              "Downloading:   0%|          | 0.00/226k [00:00<?, ?B/s]"
            ]
          },
          "metadata": {}
        },
        {
          "output_type": "display_data",
          "data": {
            "application/vnd.jupyter.widget-view+json": {
              "model_id": "20ae02ecfe1a4c07bb0c2d931d21a389",
              "version_minor": 0,
              "version_major": 2
            },
            "text/plain": [
              "Downloading:   0%|          | 0.00/455k [00:00<?, ?B/s]"
            ]
          },
          "metadata": {}
        },
        {
          "output_type": "display_data",
          "data": {
            "application/vnd.jupyter.widget-view+json": {
              "model_id": "fc6ef7715eaf40e490ded875d150c212",
              "version_minor": 0,
              "version_major": 2
            },
            "text/plain": [
              "Downloading:   0%|          | 0.00/570 [00:00<?, ?B/s]"
            ]
          },
          "metadata": {}
        }
      ]
    },
    {
      "cell_type": "markdown",
      "source": [
        "* 'bert-base-uncased': the basic pretrained Bert model version will be used. It is a smaller version and it is computationally efficient. It has 12 layers, 768 hidden states, 12 heads, total 110M parameters.\n",
        "* 'do_lower_case': Convert everything to lower-case.\n",
        "\n",
        "\n"
      ],
      "metadata": {
        "id": "_ySD2CYjAl4r"
      }
    },
    {
      "cell_type": "code",
      "source": [
        "class BertClassifier(nn.Module):\n",
        "  \n",
        "  def __init__(self, bert_model_name, num_classes, dropout):\n",
        "    super(BertClassifier, self).__init__()\n",
        "    \n",
        "    self.config = {'bert_model_path': bert_model_name,\n",
        "                    'number of classes': num_classes,\n",
        "                    'dropout': dropout}\n",
        "        \n",
        "    self.bert = BertModel.from_pretrained(bert_model_name)\n",
        "          \n",
        "    # Dropout layer\n",
        "    self.dropout = nn.Dropout(dropout)\n",
        "\n",
        "     # relu activation function\n",
        "    self.relu =  nn.ReLU()\n",
        "\n",
        "    # dense layer 1\n",
        "    self.linear = nn.Linear(768, 512)\n",
        "\n",
        "     # dense layer 2 (Output layer)\n",
        "    self.linear_out = nn.Linear(512, num_classes)\n",
        "          \n",
        "    # Dense layer \n",
        "    #self.linear = nn.Linear(768, num_classes)\n",
        "    \n",
        "    # Softmax activation function\n",
        "    self.softmax = nn.Softmax(dim = 1)\n",
        "           \n",
        "  def forward(self, input_ids, attention_mask):\n",
        "  \n",
        "    # pooled_output: the embedding vector of [CLS] token, _: the embedding vectors of all of the tokens in a sequence  \n",
        "    _, pooled_output = self.bert(input_ids, attention_mask,  return_dict = False) \n",
        "    x = self.linear(pooled_output)\n",
        "    relu_output = self.relu(x)\n",
        "    dropout_output = self.dropout(relu_output)\n",
        "    out = self.linear_out(dropout_output)\n",
        "    output = self.softmax(out)\n",
        "        \n",
        "    return output"
      ],
      "metadata": {
        "id": "wQILX1lm9QN-"
      },
      "execution_count": 14,
      "outputs": []
    },
    {
      "cell_type": "markdown",
      "source": [
        "This is a class initializing a Bert-base model with an additional linear layer on top of it, a dropout layer and the softmax activation function. The additional layer uses the embedding vector of size 768 from the [CLS] token (pooled_output) and first passes it through a dropout layer (dropout_out). Then it generates as output the number of the classes through a linear layer (out). At the end of the linear layer, the output is a vector of size 3 passed from the softmax activation function (output), which corresponds to the three labels (neutral, anti-vax, pro-vax). This is an alternative solution instead of using BertForSequenceClassification.from_pretrained('bert-base-uncased', num_labels = 3).                                       "
      ],
      "metadata": {
        "id": "cq9FFrR8G28j"
      }
    },
    {
      "cell_type": "markdown",
      "source": [
        "**DATA PREPARATION (TRAIN & VALIDATION SETS)**"
      ],
      "metadata": {
        "id": "zlpcYcjy2TIx"
      }
    },
    {
      "cell_type": "code",
      "source": [
        "# Prepare the training dataset\n",
        "print('------ Preparing the training dataset... ------')\n",
        "\n",
        "# Opens, reads, checks for duplicates and removes missing values\n",
        "df_train  = read_explore_dataframe('vaccine_train_set.csv')\n",
        "\n",
        "# Preprocess and resample dataset and return a new cleaned one \n",
        "train_df = get_columns(df_train, 'tweet', 'label')\n",
        "  \n",
        "# Save the testing data into csv format \n",
        "train_df.to_csv('/content/train.csv', index = False, header = True, sep ='\\t')\n",
        "print('The training dataset is ready and saved into csv format!')\n",
        "\n",
        "# Prepare the validation dataset\n",
        "print('\\n------ Preparing the validation dataset... ------')\n",
        "\n",
        "# Opens, reads, checks for duplicates and removes missing values\n",
        "df_val = read_explore_dataframe('vaccine_validation_set.csv')\n",
        "\n",
        "# Preprocess and resample dataset and return a new cleaned one \n",
        "valid_df = get_columns(df_val, 'tweet', 'label')\n",
        "  \n",
        "# Save the testing data into csv format \n",
        "valid_df.to_csv('/content/validation.csv', index = False, header = True, sep ='\\t')\n",
        "print('The validation dataset is ready and saved into csv format!')"
      ],
      "metadata": {
        "colab": {
          "base_uri": "https://localhost:8080/"
        },
        "id": "ASg7wZ_u5G8x",
        "outputId": "b97cc59b-c79b-451f-a4a9-37a6878c5307"
      },
      "execution_count": 15,
      "outputs": [
        {
          "output_type": "stream",
          "name": "stdout",
          "text": [
            "------ Preparing the training dataset... ------\n",
            "Unnamed: 0                    15976\n",
            "tweet                         15881\n",
            "label                             3\n",
            "Number of duplicates in the dataframe: 0\n",
            "Dataframe checked for NaN values and duplicates!\n",
            "Distribution of data in classes:\n",
            "0    0.466825\n",
            "2    0.403418\n",
            "1    0.129757\n",
            "Name: label, dtype: float64\n",
            "Distribution of data in classes after resampling:\n",
            "1    15976\n",
            "0    15976\n",
            "2    15976\n",
            "Name: label, dtype: int64\n",
            "\n",
            "Text done pre-processing!\n",
            "The training dataset is ready and saved into csv format!\n",
            "\n",
            "------ Preparing the validation dataset... ------\n",
            "Unnamed: 0                     2282\n",
            "tweet                          2276\n",
            "label                             3\n",
            "Number of duplicates in the dataframe: 0\n",
            "Dataframe checked for NaN values and duplicates!\n",
            "Distribution of data in classes:\n",
            "0    0.466696\n",
            "2    0.403593\n",
            "1    0.129711\n",
            "Name: label, dtype: float64\n",
            "Distribution of data in classes after resampling:\n",
            "1    2282\n",
            "0    2282\n",
            "2    2282\n",
            "Name: label, dtype: int64\n",
            "\n",
            "Text done pre-processing!\n",
            "The validation dataset is ready and saved into csv format!\n"
          ]
        }
      ]
    },
    {
      "cell_type": "code",
      "source": [
        "# Open and read the new cleaned dataframes \n",
        "train_dataframe = pd.read_csv('train.csv', sep ='\\t')\n",
        "valid_dataframe = pd.read_csv('validation.csv', sep ='\\t')\n",
        "\n",
        "# Concatenate the train and validation data\n",
        "all_tweets = np.concatenate([train_dataframe.tweet.values, valid_dataframe.tweet.values])\n",
        "\n",
        "# Encode the concatenated data\n",
        "encoded_tweets = [tokenizer.encode(sent, add_special_tokens=True) for sent in all_tweets]\n",
        "\n",
        "# Find the maximum length\n",
        "max_len = max([len(sent) for sent in encoded_tweets])\n",
        "print('Max length: ', max_len)"
      ],
      "metadata": {
        "colab": {
          "base_uri": "https://localhost:8080/"
        },
        "id": "9Qe-JC8wGAtR",
        "outputId": "cebb0434-94a0-45f7-b528-5950059df457"
      },
      "execution_count": 16,
      "outputs": [
        {
          "output_type": "stream",
          "name": "stdout",
          "text": [
            "Max length:  186\n"
          ]
        }
      ]
    },
    {
      "cell_type": "code",
      "source": [
        "max_length = 186\n",
        "\n",
        "# Get the texts and their labels from the training and validation data\n",
        "X_train = train_dataframe.tweet.values\n",
        "y_train = train_dataframe.label.values\n",
        "\n",
        "X_val = valid_dataframe.tweet.values\n",
        "y_val = valid_dataframe.label.values\n",
        "\n",
        "# Encode the datasets\n",
        "train_data = Data_Preparation(tweet = X_train,\n",
        "                              label = y_train,\n",
        "                              tokenizer = tokenizer,\n",
        "                              max_len = max_length)\n",
        "\n",
        "val_data = Data_Preparation(tweet = X_val,\n",
        "                            label = y_val,\n",
        "                            tokenizer = tokenizer,\n",
        "                            max_len = max_length)\n",
        "\n",
        "# For fine-tuning BERT, the authors recommend a batch size of 16 or 32\n",
        "batch_size = 32\n",
        "\n",
        "train_dataloader = DataLoader(train_data, sampler = RandomSampler(train_data), batch_size = batch_size)  # Select random batches\n",
        "val_dataloader = DataLoader(val_data, sampler = SequentialSampler(val_data), batch_size = batch_size) # Pull out batches sequentially\n",
        "\n",
        "print('Data ready for training and validation with Bert!')"
      ],
      "metadata": {
        "colab": {
          "base_uri": "https://localhost:8080/"
        },
        "id": "32cldzcDII4A",
        "outputId": "57c24aaf-c300-454f-e0bb-574c05152b4b"
      },
      "execution_count": 17,
      "outputs": [
        {
          "output_type": "stream",
          "name": "stdout",
          "text": [
            "Data ready for training and validation with Bert!\n"
          ]
        }
      ]
    },
    {
      "cell_type": "code",
      "source": [
        "def train_evaluate(model, train_dataloader, valid_dataloader, loss_function, optimizer, scheduler, epochs):\n",
        "  \n",
        "  print('Training model in {} sentences and evaluating model in {} sentences...'.format(len(train_dataloader), len(valid_dataloader)))\n",
        "  # Store losses and accuracies\n",
        "  training_stats = []\n",
        "\n",
        "  # Measure the total training and evaluation time\n",
        "  total_t0 = time.time()\n",
        "\n",
        "  for epoch in range(0, epochs):\n",
        "    print('\\n======== EPOCH {} / {} ========\\n'.format(epoch + 1, epochs))\n",
        "    print('TRAINING MODEL...') \n",
        "    \n",
        "    # Measure how long the training epoch takes\n",
        "    t0 = time.time()\n",
        "\n",
        "    training_loss = 0\n",
        "    training_acc = 0  \n",
        "    \n",
        "    model.train()\n",
        "    \n",
        "    for step, batch in enumerate(train_dataloader):\n",
        "\n",
        "      # Progress update every 214 batches \n",
        "      if step % 214 == 0 and not step == 0:\n",
        "        \n",
        "        # Calculate elapsed time in minutes\n",
        "        elapsed = calculate_time(time.time() - t0)\n",
        "              \n",
        "        # Report progress\n",
        "        print(f'Batch {step} of {len(train_dataloader)} | Elapsed time: {elapsed}') \n",
        "      \n",
        "      input_ids = batch['input_id'].to(device)\n",
        "      attention_masks = batch['attention_mask'].to(device)\n",
        "      labels = batch['label'].to(device)\n",
        "\n",
        "      # Zero the gradients\n",
        "      optimizer.zero_grad()\n",
        "      \n",
        "      # Perform forward propagation. Compute the predictions                            \n",
        "      predictions = model(input_ids, attention_masks)\n",
        "\n",
        "      # Compute the loss\n",
        "      loss = loss_function(predictions, labels)\n",
        "\n",
        "      # Move logits and labels to CPU\n",
        "      predictions = predictions.detach().cpu().numpy()\n",
        "      labels = labels.to('cpu').numpy()\n",
        "      \n",
        "      # Compute the accuracy\n",
        "      acc = accuracy(predictions, labels)\n",
        "\n",
        "       # Perform backward propagation\n",
        "      loss.backward()\n",
        "           \n",
        "      # Clip the gradient value\n",
        "      nn.utils.clip_grad_norm_(model.parameters(), max_norm = 1.0) # Avoid exploding of gradients\n",
        "          \n",
        "      # Use optimizer to take gradient step\n",
        "      optimizer.step()\n",
        "      \n",
        "      # Update the learning rate\n",
        "      scheduler.step()\n",
        "          \n",
        "      training_loss += loss.item()\n",
        "      training_acc += acc.item()\n",
        "\n",
        "    train_loss_of_epoch = training_loss / len(train_dataloader)\n",
        "    train_accuracy_of_epoch = training_acc / len(train_dataloader)\n",
        "          \n",
        "    # Measure the epoch training time\n",
        "    training_time = calculate_time(time.time() - t0)\n",
        "    \n",
        "    print('Training epoch time: {} | Train Loss: {:.3f} | Train Acc: {:.2f}%'.format(training_time, train_loss_of_epoch, train_accuracy_of_epoch*100))\n",
        "    \n",
        "    print('\\nEVALUATING MODEL...')\n",
        "    \n",
        "    t0 = time.time()\n",
        "\n",
        "    model.eval()  \n",
        "\n",
        "    eval_loss = 0\n",
        "    eval_acc = 0\n",
        "    \n",
        "    # Calculation of gradient not required during evaluation \n",
        "    with torch.no_grad():  \n",
        "    \n",
        "      for batch in valid_dataloader:\n",
        "        ids_inputs = batch['input_id'].to(device)\n",
        "        att_masks = batch['attention_mask'].to(device)\n",
        "        targets = batch['label'].to(device)\n",
        "    \n",
        "        # Perform forward propagation\n",
        "        outputs = model(ids_inputs, att_masks)\n",
        "        \n",
        "        # Compute the loss\n",
        "        logits = loss_function(outputs, targets)\n",
        "\n",
        "        # Move logits and labels to CPU\n",
        "        outputs = outputs.detach().cpu().numpy()\n",
        "        targets = targets.to('cpu').numpy()\n",
        "\n",
        "        # Compute the accuracy\n",
        "        accur = accuracy(outputs, targets)\n",
        "            \n",
        "        eval_loss += logits.item()\n",
        "        eval_acc += accur.item()\n",
        "\n",
        "    loss_of_epoch_val = eval_loss / len(valid_dataloader)\n",
        "    accuracy_of_epoch_val = eval_acc / len(valid_dataloader)\n",
        "\n",
        "    # Measure the validating epoch time\n",
        "    validation_time = calculate_time(time.time() - t0)\n",
        "\n",
        "    print('Validation epoch time: {} | Validation Loss: {:.3f} | Validation Acc: {:.2f}%'.format(validation_time, loss_of_epoch_val, accuracy_of_epoch_val*100))\n",
        "\n",
        "    # Record all statistics from each epoch\n",
        "    training_stats.append({'Epoch': epoch + 1,\n",
        "                            'Training Loss': train_loss_of_epoch,\n",
        "                            'Validation Loss': loss_of_epoch_val,\n",
        "                            'Training Accuracy': train_accuracy_of_epoch,\n",
        "                            'Validation Accuracy': accuracy_of_epoch_val,\n",
        "                            'Training Time': training_time,\n",
        "                            'Validation Time': validation_time})\n",
        "  \n",
        "  print('Training and evaluation process complete!')\n",
        "\n",
        "  print('Total amount of time: {}'.format(calculate_time(time.time()-total_t0)))\n",
        "\n",
        "  return training_stats"
      ],
      "metadata": {
        "id": "mRg56bOdDRQw"
      },
      "execution_count": 18,
      "outputs": []
    },
    {
      "cell_type": "markdown",
      "source": [
        "**PREPARE THE NECESSARY PARAMETERS FOR TRAINING AND EVALUATION**"
      ],
      "metadata": {
        "id": "UJ4_VLoUeELx"
      }
    },
    {
      "cell_type": "code",
      "source": [
        "# Set seed for reproducibility\n",
        "set_seed(42)    \n",
        "\n",
        "# Define number of training epochs\n",
        "epochs = 3\n",
        "\n",
        "# Define parameters for the class that instantiates the Bert model\n",
        "num_classes = 3\n",
        "dropout = 0.5\n",
        "\n",
        "# Define the Bert pretrained model\n",
        "model = BertClassifier(model_name, num_classes, dropout).to(device)\n",
        "\n",
        "# Define the optimizer and its parameters\n",
        "optimizer = torch.optim.AdamW(model.parameters(), lr = 5e-5, eps = 1e-8)\n",
        "\n",
        "# Total number of training steps\n",
        "total_steps = len(train_dataloader) * epochs\n",
        "\n",
        "# Set up the learning rate scheduler\n",
        "scheduler = get_linear_schedule_with_warmup(optimizer, num_warmup_steps = 0, num_training_steps = total_steps)\n",
        "\n",
        "# Define the loss function\n",
        "loss_function = nn.CrossEntropyLoss().to(device)"
      ],
      "metadata": {
        "colab": {
          "base_uri": "https://localhost:8080/",
          "height": 121,
          "referenced_widgets": [
            "bd3e235144b74ff69a5f6ae976c215b1",
            "6d5d4c8b4e6f4cba8aff4f0fbd3fc7e2",
            "9972f528edcb4a3f864bc7f63d85be21",
            "62e0a4c340a94051bab9fb056be8a4b3",
            "a17c8b2532d241de9ab2a4b6139b0fd6",
            "230eff5a05d7432c9969e7758792b234",
            "41105deb40e142b499454a8b0932402c",
            "bff5b89561e042c291ad18230e23d900",
            "42880612bda64934ace0dcd796b5c446",
            "8fd7fabb7db54a7cbce919cd9cbd5c47",
            "1a576b3a65194b18b80d34396cea24d4"
          ]
        },
        "id": "IRCXUq9pfw9h",
        "outputId": "d2a279a2-c177-47fe-c7ed-e0b94b8ab9c3"
      },
      "execution_count": 19,
      "outputs": [
        {
          "output_type": "display_data",
          "data": {
            "application/vnd.jupyter.widget-view+json": {
              "model_id": "bd3e235144b74ff69a5f6ae976c215b1",
              "version_minor": 0,
              "version_major": 2
            },
            "text/plain": [
              "Downloading:   0%|          | 0.00/420M [00:00<?, ?B/s]"
            ]
          },
          "metadata": {}
        },
        {
          "output_type": "stream",
          "name": "stderr",
          "text": [
            "Some weights of the model checkpoint at bert-base-uncased were not used when initializing BertModel: ['cls.predictions.transform.dense.weight', 'cls.predictions.transform.dense.bias', 'cls.seq_relationship.weight', 'cls.predictions.decoder.weight', 'cls.predictions.bias', 'cls.seq_relationship.bias', 'cls.predictions.transform.LayerNorm.weight', 'cls.predictions.transform.LayerNorm.bias']\n",
            "- This IS expected if you are initializing BertModel from the checkpoint of a model trained on another task or with another architecture (e.g. initializing a BertForSequenceClassification model from a BertForPreTraining model).\n",
            "- This IS NOT expected if you are initializing BertModel from the checkpoint of a model that you expect to be exactly identical (initializing a BertForSequenceClassification model from a BertForSequenceClassification model).\n"
          ]
        }
      ]
    },
    {
      "cell_type": "markdown",
      "source": [
        "**TRAIN AND EVALUATE BERT MODEL (TRAIN & VALIDATION SETS)**"
      ],
      "metadata": {
        "id": "m4e5mokf1hfD"
      }
    },
    {
      "cell_type": "code",
      "source": [
        "training_statistics = train_evaluate(model, train_dataloader, val_dataloader, loss_function, optimizer, scheduler, epochs)   "
      ],
      "metadata": {
        "colab": {
          "base_uri": "https://localhost:8080/"
        },
        "id": "B7TQEdK6DUim",
        "outputId": "a320cb0d-4bcf-427b-d7ec-870fdc711012"
      },
      "execution_count": 20,
      "outputs": [
        {
          "output_type": "stream",
          "name": "stdout",
          "text": [
            "Training model in 1498 sentences and evaluating model in 214 sentences...\n",
            "\n",
            "======== EPOCH 1 / 3 ========\n",
            "\n",
            "TRAINING MODEL...\n",
            "Batch 214 of 1498 | Elapsed time: 0:08:21\n",
            "Batch 428 of 1498 | Elapsed time: 0:16:41\n",
            "Batch 642 of 1498 | Elapsed time: 0:25:02\n",
            "Batch 856 of 1498 | Elapsed time: 0:33:24\n",
            "Batch 1070 of 1498 | Elapsed time: 0:41:45\n",
            "Batch 1284 of 1498 | Elapsed time: 0:50:06\n",
            "Training epoch time: 0:58:27 | Train Loss: 0.859 | Train Acc: 68.40%\n",
            "\n",
            "EVALUATING MODEL...\n",
            "Validation epoch time: 0:03:09 | Validation Loss: 0.863 | Validation Acc: 68.58%\n",
            "\n",
            "======== EPOCH 2 / 3 ========\n",
            "\n",
            "TRAINING MODEL...\n",
            "Batch 214 of 1498 | Elapsed time: 0:08:23\n",
            "Batch 428 of 1498 | Elapsed time: 0:16:45\n",
            "Batch 642 of 1498 | Elapsed time: 0:25:08\n",
            "Batch 856 of 1498 | Elapsed time: 0:33:32\n",
            "Batch 1070 of 1498 | Elapsed time: 0:41:55\n",
            "Batch 1284 of 1498 | Elapsed time: 0:50:17\n",
            "Training epoch time: 0:58:39 | Train Loss: 0.741 | Train Acc: 80.86%\n",
            "\n",
            "EVALUATING MODEL...\n",
            "Validation epoch time: 0:03:10 | Validation Loss: 0.882 | Validation Acc: 66.11%\n",
            "\n",
            "======== EPOCH 3 / 3 ========\n",
            "\n",
            "TRAINING MODEL...\n",
            "Batch 214 of 1498 | Elapsed time: 0:08:22\n",
            "Batch 428 of 1498 | Elapsed time: 0:16:44\n",
            "Batch 642 of 1498 | Elapsed time: 0:25:05\n",
            "Batch 856 of 1498 | Elapsed time: 0:33:26\n",
            "Batch 1070 of 1498 | Elapsed time: 0:41:48\n",
            "Batch 1284 of 1498 | Elapsed time: 0:50:09\n",
            "Training epoch time: 0:58:31 | Train Loss: 0.693 | Train Acc: 85.80%\n",
            "\n",
            "EVALUATING MODEL...\n",
            "Validation epoch time: 0:03:10 | Validation Loss: 0.856 | Validation Acc: 69.31%\n",
            "Training and evaluation process complete!\n",
            "Total amount of time: 3:05:05\n"
          ]
        }
      ]
    },
    {
      "cell_type": "markdown",
      "source": [
        "**VIEW THE RESULTS FROM TRAINING AND VALIDATION**"
      ],
      "metadata": {
        "id": "6LU6HsyYgCaJ"
      }
    },
    {
      "cell_type": "code",
      "source": [
        "# Display floats with two decimal places\n",
        "pd.set_option('precision', 2)\n",
        "\n",
        "# Create a DataFrame from our training statistics\n",
        "df_stats = pd.DataFrame(data = training_statistics)\n",
        "\n",
        "# Use the 'epoch' as the row index\n",
        "df_stats = df_stats.set_index('Epoch')\n",
        "\n",
        "# Display the table\n",
        "df_stats"
      ],
      "metadata": {
        "id": "XxJoxEntesxU",
        "colab": {
          "base_uri": "https://localhost:8080/",
          "height": 174
        },
        "outputId": "47d7c80a-f8ca-4599-ad5b-3fb6ba91e9de"
      },
      "execution_count": 21,
      "outputs": [
        {
          "output_type": "execute_result",
          "data": {
            "text/html": [
              "\n",
              "  <div id=\"df-8d5362fe-4624-4e21-81aa-90b7b1a243a9\">\n",
              "    <div class=\"colab-df-container\">\n",
              "      <div>\n",
              "<style scoped>\n",
              "    .dataframe tbody tr th:only-of-type {\n",
              "        vertical-align: middle;\n",
              "    }\n",
              "\n",
              "    .dataframe tbody tr th {\n",
              "        vertical-align: top;\n",
              "    }\n",
              "\n",
              "    .dataframe thead th {\n",
              "        text-align: right;\n",
              "    }\n",
              "</style>\n",
              "<table border=\"1\" class=\"dataframe\">\n",
              "  <thead>\n",
              "    <tr style=\"text-align: right;\">\n",
              "      <th></th>\n",
              "      <th>Training Loss</th>\n",
              "      <th>Validation Loss</th>\n",
              "      <th>Training Accuracy</th>\n",
              "      <th>Validation Accuracy</th>\n",
              "      <th>Training Time</th>\n",
              "      <th>Validation Time</th>\n",
              "    </tr>\n",
              "    <tr>\n",
              "      <th>Epoch</th>\n",
              "      <th></th>\n",
              "      <th></th>\n",
              "      <th></th>\n",
              "      <th></th>\n",
              "      <th></th>\n",
              "      <th></th>\n",
              "    </tr>\n",
              "  </thead>\n",
              "  <tbody>\n",
              "    <tr>\n",
              "      <th>1</th>\n",
              "      <td>0.86</td>\n",
              "      <td>0.86</td>\n",
              "      <td>0.68</td>\n",
              "      <td>0.69</td>\n",
              "      <td>0:58:27</td>\n",
              "      <td>0:03:09</td>\n",
              "    </tr>\n",
              "    <tr>\n",
              "      <th>2</th>\n",
              "      <td>0.74</td>\n",
              "      <td>0.88</td>\n",
              "      <td>0.81</td>\n",
              "      <td>0.66</td>\n",
              "      <td>0:58:39</td>\n",
              "      <td>0:03:10</td>\n",
              "    </tr>\n",
              "    <tr>\n",
              "      <th>3</th>\n",
              "      <td>0.69</td>\n",
              "      <td>0.86</td>\n",
              "      <td>0.86</td>\n",
              "      <td>0.69</td>\n",
              "      <td>0:58:31</td>\n",
              "      <td>0:03:10</td>\n",
              "    </tr>\n",
              "  </tbody>\n",
              "</table>\n",
              "</div>\n",
              "      <button class=\"colab-df-convert\" onclick=\"convertToInteractive('df-8d5362fe-4624-4e21-81aa-90b7b1a243a9')\"\n",
              "              title=\"Convert this dataframe to an interactive table.\"\n",
              "              style=\"display:none;\">\n",
              "        \n",
              "  <svg xmlns=\"http://www.w3.org/2000/svg\" height=\"24px\"viewBox=\"0 0 24 24\"\n",
              "       width=\"24px\">\n",
              "    <path d=\"M0 0h24v24H0V0z\" fill=\"none\"/>\n",
              "    <path d=\"M18.56 5.44l.94 2.06.94-2.06 2.06-.94-2.06-.94-.94-2.06-.94 2.06-2.06.94zm-11 1L8.5 8.5l.94-2.06 2.06-.94-2.06-.94L8.5 2.5l-.94 2.06-2.06.94zm10 10l.94 2.06.94-2.06 2.06-.94-2.06-.94-.94-2.06-.94 2.06-2.06.94z\"/><path d=\"M17.41 7.96l-1.37-1.37c-.4-.4-.92-.59-1.43-.59-.52 0-1.04.2-1.43.59L10.3 9.45l-7.72 7.72c-.78.78-.78 2.05 0 2.83L4 21.41c.39.39.9.59 1.41.59.51 0 1.02-.2 1.41-.59l7.78-7.78 2.81-2.81c.8-.78.8-2.07 0-2.86zM5.41 20L4 18.59l7.72-7.72 1.47 1.35L5.41 20z\"/>\n",
              "  </svg>\n",
              "      </button>\n",
              "      \n",
              "  <style>\n",
              "    .colab-df-container {\n",
              "      display:flex;\n",
              "      flex-wrap:wrap;\n",
              "      gap: 12px;\n",
              "    }\n",
              "\n",
              "    .colab-df-convert {\n",
              "      background-color: #E8F0FE;\n",
              "      border: none;\n",
              "      border-radius: 50%;\n",
              "      cursor: pointer;\n",
              "      display: none;\n",
              "      fill: #1967D2;\n",
              "      height: 32px;\n",
              "      padding: 0 0 0 0;\n",
              "      width: 32px;\n",
              "    }\n",
              "\n",
              "    .colab-df-convert:hover {\n",
              "      background-color: #E2EBFA;\n",
              "      box-shadow: 0px 1px 2px rgba(60, 64, 67, 0.3), 0px 1px 3px 1px rgba(60, 64, 67, 0.15);\n",
              "      fill: #174EA6;\n",
              "    }\n",
              "\n",
              "    [theme=dark] .colab-df-convert {\n",
              "      background-color: #3B4455;\n",
              "      fill: #D2E3FC;\n",
              "    }\n",
              "\n",
              "    [theme=dark] .colab-df-convert:hover {\n",
              "      background-color: #434B5C;\n",
              "      box-shadow: 0px 1px 3px 1px rgba(0, 0, 0, 0.15);\n",
              "      filter: drop-shadow(0px 1px 2px rgba(0, 0, 0, 0.3));\n",
              "      fill: #FFFFFF;\n",
              "    }\n",
              "  </style>\n",
              "\n",
              "      <script>\n",
              "        const buttonEl =\n",
              "          document.querySelector('#df-8d5362fe-4624-4e21-81aa-90b7b1a243a9 button.colab-df-convert');\n",
              "        buttonEl.style.display =\n",
              "          google.colab.kernel.accessAllowed ? 'block' : 'none';\n",
              "\n",
              "        async function convertToInteractive(key) {\n",
              "          const element = document.querySelector('#df-8d5362fe-4624-4e21-81aa-90b7b1a243a9');\n",
              "          const dataTable =\n",
              "            await google.colab.kernel.invokeFunction('convertToInteractive',\n",
              "                                                     [key], {});\n",
              "          if (!dataTable) return;\n",
              "\n",
              "          const docLinkHtml = 'Like what you see? Visit the ' +\n",
              "            '<a target=\"_blank\" href=https://colab.research.google.com/notebooks/data_table.ipynb>data table notebook</a>'\n",
              "            + ' to learn more about interactive tables.';\n",
              "          element.innerHTML = '';\n",
              "          dataTable['output_type'] = 'display_data';\n",
              "          await google.colab.output.renderOutput(dataTable, element);\n",
              "          const docLink = document.createElement('div');\n",
              "          docLink.innerHTML = docLinkHtml;\n",
              "          element.appendChild(docLink);\n",
              "        }\n",
              "      </script>\n",
              "    </div>\n",
              "  </div>\n",
              "  "
            ],
            "text/plain": [
              "       Training Loss  Validation Loss  ...  Training Time  Validation Time\n",
              "Epoch                                  ...                                \n",
              "1               0.86             0.86  ...        0:58:27          0:03:09\n",
              "2               0.74             0.88  ...        0:58:39          0:03:10\n",
              "3               0.69             0.86  ...        0:58:31          0:03:10\n",
              "\n",
              "[3 rows x 6 columns]"
            ]
          },
          "metadata": {},
          "execution_count": 21
        }
      ]
    },
    {
      "cell_type": "code",
      "source": [
        "# Use plot styling from seaborn\n",
        "sns.set(style='darkgrid')\n",
        "\n",
        "# Increase the plot size and font size\n",
        "sns.set(font_scale=1.5)\n",
        "plt.rcParams['figure.figsize'] = (12,6)\n",
        "\n",
        "# Plot the learning curve of loss\n",
        "plt.plot(df_stats['Training Loss'], 'b-o', label='Training')\n",
        "plt.plot(df_stats['Validation Loss'], 'g-o', label='Validation')\n",
        "plt.title('Training & Validation Loss')\n",
        "plt.xlabel('Epoch')\n",
        "plt.ylabel('Loss')\n",
        "plt.legend()\n",
        "plt.xticks([1, 2, 3, 4])\n",
        "plt.show()\n",
        "\n",
        "# Plot the learning curve of accuracy\n",
        "plt.plot(df_stats['Training Accuracy'], 'b-o', label='Training')\n",
        "plt.plot(df_stats['Validation Accuracy'], 'g-o', label='Validation')\n",
        "plt.title('Training & Validation Accuracy')\n",
        "plt.xlabel('Epoch')\n",
        "plt.ylabel('Accuracy')\n",
        "plt.legend()\n",
        "plt.xticks([1, 2, 3, 4])\n",
        "plt.show()"
      ],
      "metadata": {
        "id": "1il8Se0k11Bv",
        "colab": {
          "base_uri": "https://localhost:8080/",
          "height": 837
        },
        "outputId": "8a8d6c1b-06fc-4e25-c17f-2b5246927fe3"
      },
      "execution_count": 22,
      "outputs": [
        {
          "output_type": "display_data",
          "data": {
            "image/png": "[encoded data removed]",
            "text/plain": [
              "<Figure size 864x432 with 1 Axes>"
            ]
          },
          "metadata": {}
        },
        {
          "output_type": "display_data",
          "data": {
            "image/png": "[encoded data removed]",
            "text/plain": [
              "<Figure size 864x432 with 1 Axes>"
            ]
          },
          "metadata": {}
        }
      ]
    },
    {
      "cell_type": "markdown",
      "source": [
        "**SAVE THE FINE-TUNED MODEL**"
      ],
      "metadata": {
        "id": "ykt1ZBGiior6"
      }
    },
    {
      "cell_type": "code",
      "source": [
        "torch.save(model, 'fine_tuned_BERT_model.pt')"
      ],
      "metadata": {
        "id": "IF3cDPeFim0s"
      },
      "execution_count": 23,
      "outputs": []
    },
    {
      "cell_type": "markdown",
      "source": [
        "**LOAD THE SAVED MODEL**"
      ],
      "metadata": {
        "id": "5zRrNnLwVgw_"
      }
    },
    {
      "cell_type": "code",
      "source": [
        "model = torch.load('fine_tuned_BERT_model.pt')"
      ],
      "metadata": {
        "id": "R9NQ-HidVVUn"
      },
      "execution_count": 24,
      "outputs": []
    },
    {
      "cell_type": "markdown",
      "source": [
        "**PREPARE THE TEST SET**"
      ],
      "metadata": {
        "id": "U4OFYXFk6Jv4"
      }
    },
    {
      "cell_type": "code",
      "source": [
        "# Prepare the testing dataset\n",
        "print('\\n------ Preparing the testing dataset... ------')\n",
        "\n",
        "# Opens, reads, checks for duplicates and removes missing values\n",
        "# HERE YOU CAN CHANGE THE NAME OF THE INPUT CSV \n",
        "df_test = read_explore_dataframe('vaccine_test_set.csv')\n",
        "\n",
        "# Preprocess and resample dataset and return a new cleaned one \n",
        "test_df = get_columns(df_test, 'tweet', 'label')\n",
        "  \n",
        "# Save the testing data into csv format \n",
        "test_df.to_csv('test.csv', index = False, header = True, sep ='\\t')\n",
        "print('The test dataset is ready and saved into csv format!')"
      ],
      "metadata": {
        "id": "ZJigetiw4AZH",
        "colab": {
          "base_uri": "https://localhost:8080/"
        },
        "outputId": "2c39496f-7dc6-4cbe-c98c-a4f0854719f4"
      },
      "execution_count": 25,
      "outputs": [
        {
          "output_type": "stream",
          "name": "stdout",
          "text": [
            "\n",
            "------ Preparing the testing dataset... ------\n",
            "Unnamed: 0                     2282\n",
            "tweet                          2276\n",
            "label                             3\n",
            "Number of duplicates in the dataframe: 0\n",
            "Dataframe checked for NaN values and duplicates!\n",
            "Distribution of data in classes:\n",
            "0    0.47\n",
            "2    0.40\n",
            "1    0.13\n",
            "Name: label, dtype: float64\n",
            "Distribution of data in classes after resampling:\n",
            "1    2282\n",
            "0    2282\n",
            "2    2282\n",
            "Name: label, dtype: int64\n",
            "\n",
            "Text done pre-processing!\n",
            "The test dataset is ready and saved into csv format!\n"
          ]
        }
      ]
    },
    {
      "cell_type": "code",
      "source": [
        "# Define the pre-trained model from Hugging Face and its tokenizer\n",
        "#tokenizer = BertTokenizer.from_pretrained('bert-base-uncased', do_lower_case = True)"
      ],
      "metadata": {
        "id": "J_oTOTWRwbjI"
      },
      "execution_count": 26,
      "outputs": []
    },
    {
      "cell_type": "code",
      "source": [
        "test_dataframe = pd.read_csv('test.csv', sep ='\\t')\n",
        "\n",
        "max_length = 186\n",
        "batch_size = 32\n",
        "\n",
        "X_test = test_dataframe.tweet.values\n",
        "y_test = test_dataframe.label.values\n",
        "\n",
        "test_data = Data_Preparation(tweet = X_test,\n",
        "                            label = y_test,\n",
        "                            tokenizer = tokenizer,\n",
        "                            max_len = max_length)\n",
        "\n",
        "test_dataloader = DataLoader(test_data, sampler = SequentialSampler(test_data), batch_size = batch_size) # Pull out batches sequentially\n",
        "print('Data ready for testing the Bert model!')"
      ],
      "metadata": {
        "id": "Cdcj4JfQ6UX2",
        "colab": {
          "base_uri": "https://localhost:8080/"
        },
        "outputId": "22c529e7-206b-4353-d6eb-b67b0824c12e"
      },
      "execution_count": 30,
      "outputs": [
        {
          "output_type": "stream",
          "name": "stdout",
          "text": [
            "Data ready for testing the Bert model!\n"
          ]
        }
      ]
    },
    {
      "cell_type": "markdown",
      "source": [
        "**MODEL EVALUATION ON THE TEST SET**"
      ],
      "metadata": {
        "id": "k94emOYi35yw"
      }
    },
    {
      "cell_type": "code",
      "source": [
        "def test(model, test_dataloader):\n",
        "    \n",
        "  print('Predicting labels for {} test sentences...'.format(len(test_dataloader)))\n",
        "  \n",
        "  # Initialize empty lists to store the true values and the predicted values\n",
        "  true_labels = []\n",
        "  predictions = []\n",
        "    \n",
        "  model.eval()\n",
        "\n",
        "  with torch.no_grad():\n",
        "    \n",
        "    for batch in tqdm(test_dataloader):\n",
        "      mask = batch['attention_mask'].to(device)\n",
        "      input_id = batch['input_id'].to(device)\n",
        "      label = batch['label'].to(device)\n",
        "      \n",
        "      # Get the predictions\n",
        "      output = model(input_id, mask)   \n",
        "      \n",
        "      # Change the predictions into one dimensional torch tensor\n",
        "      _, preds = torch.max(output, dim=1)\n",
        "\n",
        "      # Fill the empty lists with the true values and the predicted values\n",
        "      predictions.extend(preds)\n",
        "      true_labels.extend(label)\n",
        "\n",
        "  real_values = torch.stack(true_labels).cpu()\n",
        "  predictions = torch.stack(predictions).cpu()\n",
        "\n",
        "  # Calculate the metrics to evaluate model performance\n",
        "  calculate_metrics(real_values, predictions)\n",
        "\n",
        "  return true_labels, predictions"
      ],
      "metadata": {
        "id": "7Sg6loqu5VXD"
      },
      "execution_count": 28,
      "outputs": []
    },
    {
      "cell_type": "markdown",
      "source": [
        "**EVALUATE BERT MODEL (TEST SET)**"
      ],
      "metadata": {
        "id": "Pu5PtzAO6-Rb"
      }
    },
    {
      "cell_type": "code",
      "source": [
        "real_labels, predicted_labels = test(model, test_dataloader)"
      ],
      "metadata": {
        "id": "R5bhptfoyx7P",
        "colab": {
          "base_uri": "https://localhost:8080/",
          "height": 766
        },
        "outputId": "ec5b6354-3ef1-4595-a954-d571ae422787"
      },
      "execution_count": 31,
      "outputs": [
        {
          "output_type": "stream",
          "name": "stdout",
          "text": [
            "Predicting labels for 214 test sentences...\n"
          ]
        },
        {
          "output_type": "stream",
          "name": "stderr",
          "text": [
            "100%|██████████| 214/214 [03:03<00:00,  1.17it/s]\n"
          ]
        },
        {
          "output_type": "stream",
          "name": "stdout",
          "text": [
            "\n",
            "Calculating metrics...\n",
            "Accuracy: 0.6931054630441134\n",
            "Precision: [0.75515695 0.78973105 0.59362416]\n",
            "Recall: [0.73794917 0.56617003 0.7751972 ]\n",
            "F1 score: [0.7464539  0.65952016 0.67236792]\n",
            "Support: [2282 2282 2282]\n",
            "              precision    recall  f1-score   support\n",
            "\n",
            "     neutral       0.76      0.74      0.75      2282\n",
            "    anti-vax       0.79      0.57      0.66      2282\n",
            "     pro-vax       0.59      0.78      0.67      2282\n",
            "\n",
            "    accuracy                           0.69      6846\n",
            "   macro avg       0.71      0.69      0.69      6846\n",
            "weighted avg       0.71      0.69      0.69      6846\n",
            "\n"
          ]
        },
        {
          "output_type": "display_data",
          "data": {
            "image/png": "[encoded data removed]",
            "text/plain": [
              "<Figure size 864x432 with 2 Axes>"
            ]
          },
          "metadata": {}
        }
      ]
    }
  ]
}
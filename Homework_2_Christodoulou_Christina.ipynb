{
  "nbformat": 4,
  "nbformat_minor": 0,
  "metadata": {
    "colab": {
      "name": "Homework_2_new_Christodoulou_Christina.ipynb",
      "provenance": [],
      "collapsed_sections": []
    },
    "kernelspec": {
      "name": "python3",
      "display_name": "Python 3"
    },
    "language_info": {
      "name": "python"
    }
  },
  "cells": [
    {
      "cell_type": "markdown",
      "metadata": {
        "id": "QZuMKqDSGeDO"
      },
      "source": [
        "Lesson: M931LT1 Artificial Intelligence II\n",
        "\n",
        "Fall Semester 2021\n",
        "\n",
        "Student's name: Christina Christodoulou\n",
        "\n",
        "I.D Number: LT1200027\n",
        "\n",
        "Field of Studies: Language Technology\n",
        "\n",
        "Homework 2"
      ]
    },
    {
      "cell_type": "code",
      "metadata": {
        "id": "Gf2VVdSTGUuy",
        "colab": {
          "base_uri": "https://localhost:8080/"
        },
        "outputId": "983d4cc1-8a23-469f-8546-779cde86f2e4"
      },
      "source": [
        "# Import necessary libraries\n",
        "import re \n",
        "import torch\n",
        "import matplotlib.pyplot as plt \n",
        "import pandas as pd  \n",
        "import pickle\n",
        "import nltk\n",
        "import numpy as np\n",
        "from tqdm import tqdm\n",
        "from nltk.corpus import stopwords\n",
        "from nltk.tokenize import word_tokenize\n",
        "import collections\n",
        "from sklearn.utils import resample\n",
        "from sklearn import metrics\n",
        "from sklearn.model_selection import learning_curve\n",
        "from sklearn.metrics import precision_recall_fscore_support as score\n",
        "from sklearn.metrics import accuracy_score, f1_score, precision_score, recall_score\n",
        "from sklearn.preprocessing import label_binarize\n",
        "from numpy import interp\n",
        "from itertools import cycle\n",
        "from sklearn.metrics import roc_curve, auc, classification_report\n",
        "from torch.utils.data import TensorDataset, DataLoader\n",
        "import torch.nn as nn\n",
        "import torch.nn.functional as F\n",
        "import torch.optim as optim\n",
        "\n",
        "# Download necessary packages\n",
        "nltk.download('stopwords')\n",
        "nltk.download('punkt')\n",
        "stop_words_set = set(stopwords.words('english'))"
      ],
      "execution_count": 1,
      "outputs": [
        {
          "output_type": "stream",
          "name": "stdout",
          "text": [
            "[nltk_data] Downloading package stopwords to /root/nltk_data...\n",
            "[nltk_data]   Package stopwords is already up-to-date!\n",
            "[nltk_data] Downloading package punkt to /root/nltk_data...\n",
            "[nltk_data]   Package punkt is already up-to-date!\n"
          ]
        }
      ]
    },
    {
      "cell_type": "markdown",
      "source": [
        "**GENERAL AND NECESSARY FUNCTIONS USED**"
      ],
      "metadata": {
        "id": "fSk4TxM7dTOL"
      }
    },
    {
      "cell_type": "code",
      "metadata": {
        "id": "0UQE5vrKHSHN"
      },
      "source": [
        "# A function that opens, reads a file in csv with utf-8 encoding, gets the values, checks and fills empty values and checks for duplicates\n",
        "def read_explore_dataframe(csv_file):\n",
        "  \n",
        "  # Open and read the csv file with utf-8 encoding\n",
        "  dataframe = pd.read_csv(csv_file,encoding='utf-8')\n",
        "  \n",
        "  # Get the keys and their corresponding number of values\n",
        "  keys = dataframe.keys() \n",
        "  for key in keys:\n",
        "    df_len = len(dataframe[key].unique()) # the length of the unique values of each column\n",
        "    print('{0:25}{1:10}'.format(key,df_len))\n",
        "\n",
        "  dataframe.dropna(inplace=True) # remove missing values and keep the dataFrame with valid entries in the same variable\n",
        "  dataframe.reset_index(inplace=True,drop=True)\n",
        "\n",
        "  dataframe.duplicated() # check for duplicates\n",
        "  #print('Number of duplicates in the dataframe:', dataframe.duplicated().sum())\n",
        "  print('Dataframe checked for NaN values and duplicates!')\n",
        "  \n",
        "  return dataframe "
      ],
      "execution_count": 2,
      "outputs": []
    },
    {
      "cell_type": "code",
      "metadata": {
        "id": "GMAACD3QHbVc"
      },
      "source": [
        "# A function that takes as parameter a text and applies pre-processing steps to clean it\n",
        "def text_preprocessing(text):\n",
        "  \n",
        "  # Remove tags\n",
        "  TAG_RE = re.compile(r'<[^>]+>')\n",
        "  no_tags = TAG_RE.sub('',text)  \n",
        "                \n",
        "  # Remove unusual characters\n",
        "  text = re.sub('<[^>]*>', '', no_tags)\n",
        "\n",
        "  # Remove urls\n",
        "  text = re.sub(r'http\\S+','', text)\n",
        "    \n",
        "  # Remove emoticons\n",
        "  emoticons = re.findall('(?::|;|=)(?:-)?(?:\\)|\\(|D|P)', text)\n",
        "\n",
        "  # Remove punctuation\n",
        "  no_punct = [word for word in emoticons if word.isalpha()]\n",
        "                \n",
        "  # Convert all words to lowercase\n",
        "  text = re.sub('[\\W]+', ' ', text.lower()) + \" \".join(no_punct).replace('-', '')\n",
        "    \n",
        "  # Remove numbers\n",
        "  no_numbers_txt = re.sub(r'\\d+', '', text)\n",
        "\n",
        "  return no_numbers_txt"
      ],
      "execution_count": 3,
      "outputs": []
    },
    {
      "cell_type": "code",
      "metadata": {
        "id": "YJ0jiuDw5uGg"
      },
      "source": [
        "# A function that gets as input the dataframe and gets the necessary values from the columns after resampling and pre-processing\n",
        "def get_columns(dataframe, feature, label):\n",
        "  \n",
        "  # Get only the columns we are interested in\n",
        "  dataset = dataframe[[feature,label]]\n",
        "  \n",
        "  # Check the distribution of classes\n",
        "  distribution = dataset[label].value_counts()/dataset.shape[0]\n",
        "  print('Distribution of data in classes:')\n",
        "  print(distribution)\n",
        "\n",
        "  # Separate the different labels and create a combined dataset\n",
        "  neutral = dataset[dataset[label] == 0]\n",
        "  antivax = dataset[dataset[label] == 1]\n",
        "  provax = dataset[dataset[label] == 2]\n",
        "\n",
        "  # Combine the classes with the greater number of values\n",
        "  class_majorities = pd.concat([neutral,provax])\n",
        "  classes = pd.concat([neutral,antivax,provax])\n",
        "\n",
        "  # Upsampling: take samples with replacement from the minority class until the class is almost the same size as the majorities\n",
        "  train_minority_upsampled = resample(antivax, replace=True, n_samples=len(classes),random_state=123)\n",
        "  train_minority_upsampled2 = resample(neutral, replace=True, n_samples=len(classes),random_state=123)\n",
        "  train_minority_upsampled3 = resample(provax, replace=True, n_samples=len(classes),random_state=123)\n",
        "  \n",
        "  # Combine in a new dataframe the new resampled classes \n",
        "  dataset = pd.concat([train_minority_upsampled,train_minority_upsampled2,train_minority_upsampled3]) \n",
        "  print('Distribution of data in classes after resampling:')\n",
        "  print(dataset[label].value_counts())\n",
        "  \n",
        "  # Apply the pre-processing function to the dataframe containing the text (feature column)\n",
        "  dataset[feature] = dataset[feature].apply(text_preprocessing)\n",
        "  print('\\nText done pre-processing!')\n",
        "  \n",
        "  # Divide the X and y values\n",
        "  X = dataset[feature]\n",
        "  y = dataset[label]\n",
        "  \n",
        "  # Print to see the input variables\n",
        "  #print(X[:2])\n",
        "\n",
        "  return X,y"
      ],
      "execution_count": 4,
      "outputs": []
    },
    {
      "cell_type": "code",
      "metadata": {
        "id": "pEtTIG-ez5Kk"
      },
      "source": [
        "# A function that creates tensors \n",
        "def create_tensors(x, y):\n",
        "  \n",
        "  # Convert X datasets to tensors\n",
        "  X_train_tensor = torch.tensor(x, dtype=torch.float)   \n",
        "   \n",
        "  # Convert Y labels to tensors \n",
        "  Y_test_tensor = torch.squeeze(torch.from_numpy(y.to_numpy()).float())\n",
        "  print('Tensors ready!')\n",
        "\n",
        "  return X_train_tensor, Y_test_tensor"
      ],
      "execution_count": 5,
      "outputs": []
    },
    {
      "cell_type": "code",
      "source": [
        "index = 0\n",
        "word_to_index = {}\n",
        "words = []\n",
        "vectors = []\n",
        "\n",
        "# Open the glove txt file and get the words and their corresponding vectors\n",
        "with open('glove.twitter.27B.25d.txt', 'rb') as file:\n",
        "  for i in file:  \n",
        "    line = i.decode().split()\n",
        "    # Get the word\n",
        "    word = line[0]\n",
        "    words.append(word)\n",
        "    word_to_index[word] = index\n",
        "    index += 1\n",
        "    # Get the vector\n",
        "    vector = np.array(line[1:]).astype(np.float)\n",
        "    vectors.append(vector)\n",
        "\n",
        "glove = {w: vectors[word_to_index[w]] for w in words}\n",
        "\n",
        "# Save the GloVe dictionary into pickle form\n",
        "#glove_file = open('/content/glove_dict_25d.pkl', 'wb')\n",
        "#pickle.dump(glove,glove_file)\n",
        "#glove_file.close()\n",
        "#print('Glove dictionary saved in pickle!')\n",
        "\n",
        "\n",
        "# A function that searches for each word in the dataset whether it exists in Glove's dictionary and loads the pre-trained word vector, \n",
        "# otherwise initializes it with zero. At the end, it finds the mean vector of each tweet. \n",
        "def find_words_in_glove(train_dataset):\n",
        "\n",
        "  matrix_length = len(train_dataset)  \n",
        "  weights_matrix = np.zeros((matrix_length, 25))\n",
        "  words_found = 0\n",
        "  words = 0\n",
        "  mean_tweets = []\n",
        "\n",
        "  for i,row in enumerate(train_dataset):\n",
        "    splited_words = str(row).split(' ')\n",
        "    weight_matrix = np.zeros((len(splited_words), 25))\n",
        "    for j,word in enumerate(splited_words): \n",
        "      words += 1\n",
        "      if word in glove:\n",
        "        weight_matrix[j] = glove[word]\n",
        "        words_found += 1\n",
        "    mean_tweets.append(np.mean(weight_matrix, axis=0))\n",
        "\n",
        "  return np.array(mean_tweets), words_found, matrix_length"
      ],
      "metadata": {
        "id": "TXG_kH5izr4M"
      },
      "execution_count": 6,
      "outputs": []
    },
    {
      "cell_type": "code",
      "source": [
        "# A function that trains a neural network model\n",
        "def train_neural_network_model(epochs,model,dataloader,optimizer,loss_func):\n",
        "\n",
        "  model.train() \n",
        "  \n",
        "  current_loss = 0   \n",
        "  correct = 0\n",
        "  total = 0\n",
        "  \n",
        "  # Training part \n",
        "  for data, target in tqdm(dataloader):\n",
        "    # Forward pass to get output      \n",
        "    output = model.forward(data)\n",
        "    # Calculate the loss\n",
        "    loss_train = loss_func(output, target.long())\n",
        "    # Clearing up accumulated gradients\n",
        "    optimizer.zero_grad()\n",
        "    # Getting gradients\n",
        "    loss_train.backward()\n",
        "    # Updating parameters\n",
        "    optimizer.step()\n",
        "    # Count the training loss\n",
        "    current_loss += loss_train.item()\n",
        "    \n",
        "    _, predicted = output.max(1)\n",
        "    total += target.size(0)\n",
        "    correct += predicted.eq(target).sum().item()\n",
        "\n",
        "  # Count the loss for each epoch\n",
        "  train_loss= current_loss/len(dataloader)\n",
        "  # Count the accuracy for each epoch\n",
        "  train_accu =100.*correct/total\n",
        "  print('Train Loss: {} | Accuracy: {}'.format(train_loss,train_accu))\n",
        "\n",
        "  return train_loss,train_accu\n",
        "\n",
        "\n",
        "# A function that evaluates a trained neural network model\n",
        "def evaluate_neural_network_model(epochs,model,dataloader,optimizer,loss_func):\n",
        "    \n",
        "  model.eval()\n",
        "       \n",
        "  current_loss = 0  \n",
        "  correct = 0\n",
        "  total = 0\n",
        "  \n",
        "  # Evaluation part\n",
        "  with torch.no_grad(): \n",
        "    for data_val, labels in tqdm(dataloader):\n",
        "      # Forward pass to get output \n",
        "      outputs = model.forward(data_val)\n",
        "      # Calculate the loss\n",
        "      loss_val = loss_func(outputs, labels.long())\n",
        "      # Count the validation loss\n",
        "      current_loss += loss_val.item()\n",
        "\n",
        "      _, predicted = outputs.max(1)\n",
        "      total += labels.size(0)\n",
        "      correct += predicted.eq(labels).sum().item()\n",
        "  \n",
        "  # Count the loss for each epoch\n",
        "  val_loss = current_loss/len(dataloader)\n",
        "  # Count the accuracy for each epoch\n",
        "  accu = 100.*correct/total\n",
        "  print('Test Loss: {} | Accuracy: {}'.format(val_loss, accu))\n",
        "  \n",
        "  return val_loss, accu"
      ],
      "metadata": {
        "id": "lRdkdJodVhe5"
      },
      "execution_count": 7,
      "outputs": []
    },
    {
      "cell_type": "code",
      "source": [
        "# A function that calculates all the metrics using the validation/test set\n",
        "def calculate_metrics(y_true, y_pred):  \n",
        "  \n",
        "  y_pred = torch.round(y_pred)\n",
        "  _,pred_label = torch.max(y_pred, dim = 1)\n",
        "  \n",
        "  print('\\nCalculating metrics...')\n",
        "  # Calculate accuracy of model\n",
        "  correct = (pred_label == y_true).float()\n",
        "  acc = correct.sum() / len(correct)\n",
        "\n",
        "  # Calculate general precision, recall, F1 score of model and of each class\n",
        "  precision, recall, fscore, support = score(y_true,pred_label)\n",
        "  print('Accuracy: {}'.format(acc))\n",
        "  print('Precision: {}'.format(precision))\n",
        "  print('Recall: {}'.format(recall))\n",
        "  print('F1 score: {}'.format(fscore))\n",
        "  print('Support: {}'.format(support))\n",
        "\n",
        "  # Print classification report\n",
        "  print(classification_report(y_true,pred_label))"
      ],
      "metadata": {
        "id": "7Kk_LYKJWVOm"
      },
      "execution_count": 8,
      "outputs": []
    },
    {
      "cell_type": "markdown",
      "source": [
        "**USED ONLY IN THE FIRST FEED-FORWARD NETWORK MODEL**"
      ],
      "metadata": {
        "id": "Fh0yfiu8dj4d"
      }
    },
    {
      "cell_type": "code",
      "metadata": {
        "id": "laeWplRZFKVf"
      },
      "source": [
        "# A class that initializes a feed-forward neural network model for the first model\n",
        "class feedforward_neural_network_model(nn.Module):\n",
        "    \n",
        "    def __init__(self, input_dim, hidden_dim_1, hidden_dim_2, output_dim):\n",
        "        super(feedforward_neural_network_model, self).__init__()\n",
        "              \n",
        "        self.layer_1 = nn.Linear(input_dim, hidden_dim_1) \n",
        "        self.relu_1 = nn.ReLU()\n",
        "    \n",
        "        self.layer_2 = nn.Linear(hidden_dim_1, hidden_dim_2)   \n",
        "        self.relu_2 = nn.ReLU()\n",
        "        self.dropout = nn.Dropout(0.3)\n",
        "        self.batch = nn.BatchNorm1d(hidden_dim_2)\n",
        " \n",
        "        self.layer_3 = nn.Linear(hidden_dim_2, output_dim)  \n",
        "\n",
        "    def forward(self, x):\n",
        "        out = self.layer_1(x)\n",
        "        out = self.relu_1(out)\n",
        "        \n",
        "        out = self.layer_2(out)\n",
        "        out = self.relu_2(out)\n",
        "        out = self.batch(out)\n",
        "        out = self.dropout(out)\n",
        "\n",
        "        out = self.layer_3(out)\n",
        "        \n",
        "        return torch.sigmoid(out)"
      ],
      "execution_count": 9,
      "outputs": []
    },
    {
      "cell_type": "code",
      "source": [
        "# A function made for the first feed-forward training model\n",
        "# The main function running all the rest\n",
        "\n",
        "def data_train_first_model(csv_file_train, csv_file_test, glove_file_pickle, feature, label):\n",
        "  \n",
        "  # Prepare the training dataset\n",
        "  print('------ Preparing the training dataset... ------')\n",
        "  df_train = read_explore_dataframe(csv_file_train)\n",
        "  X,y = get_columns(df_train, feature, label)\n",
        "  \n",
        "  # Prepare the validation/testing dataset\n",
        "  print('\\n------ Preparing the validation/testing dataset... ------')\n",
        "  df_test = read_explore_dataframe(csv_file_test)\n",
        "  x1,y1 = get_columns(df_test, feature, label)\n",
        "  \n",
        "  # Load the GloVe dictionary in pickle form\n",
        "  glove_file = open(glove_file_pickle, 'rb')\n",
        "  glove = pickle.load(glove_file)\n",
        "  \n",
        "  gloveX_train, words_found, matrix_len = find_words_in_glove(X)\n",
        "  print('Percentage of words founded in Glove: ', words_found/matrix_len)\n",
        "\n",
        "  gloveX_test, words_found, matrix_len = find_words_in_glove(x1)\n",
        "  print('Percentage of words founded in Glove: ', words_found/matrix_len)\n",
        "\n",
        "  # Create tensors for the training and testing/validation sets\n",
        "  training_X_tensor, training_Y_tensor = create_tensors(gloveX_train,y)\n",
        "  testing_X_tensor, testing_Y_tensor = create_tensors(gloveX_test,y1)\n",
        "\n",
        "  # Initialize dataloader for train set\n",
        "  dataset_1 = torch.utils.data.TensorDataset(training_X_tensor, training_Y_tensor)\n",
        "  dataloader_train = torch.utils.data.DataLoader(dataset_1, batch_size = 6, shuffle = True)\n",
        "\n",
        "  # Initialize dataloader for validation set\n",
        "  dataset_2 = torch.utils.data.TensorDataset(testing_X_tensor, testing_Y_tensor)\n",
        "  dataloader_val = torch.utils.data.DataLoader(dataset_2, batch_size = 6, shuffle = False)\n",
        "\n",
        "  # Define dimensions of each layer and number of epochs\n",
        "  input_layer = training_X_tensor.shape[1]\n",
        "  hidden_layer_1 = 32\n",
        "  hidden_layer_2 = 16\n",
        "  output_layer = 3\n",
        "  num_epochs = 30\n",
        "\n",
        "  # Define the first feed forward neural network\n",
        "  first_model = feedforward_neural_network_model(input_layer, hidden_layer_1, hidden_layer_2, output_layer)\n",
        "  print(first_model)\n",
        "\n",
        "  # Define loss function\n",
        "  loss_function = nn.CrossEntropyLoss()\n",
        "\n",
        "  # Define as optimizer Adam\n",
        "  optimizer = optim.Adam(first_model.parameters(), lr = 0.0001, weight_decay = 1e-4)\n",
        "\n",
        "  # Initialize empty lists to store the values of loss and accuracy for each epoch\n",
        "  train_acc = []\n",
        "  train_loss = []\n",
        "  eval_acc = []\n",
        "  eval_loss = []\n",
        "\n",
        "  print('\\n------ Training on the training set and evaluating on the validation/testing set.... ------')\n",
        "\n",
        "  for epoch in range(1,num_epochs+1):\n",
        "    print('\\nEpoch: %d'%epoch)\n",
        "\n",
        "    # Train the model using the train_neural_network function\n",
        "    train_losses, train_accuracy = train_neural_network_model(epoch,first_model,dataloader_train,optimizer,loss_function)\n",
        " \n",
        "    # Evaluate the model using the evaluate_neural_network_model function\n",
        "    evaluation_losses, evaluation_accuracy = evaluate_neural_network_model(epoch,first_model,dataloader_val,optimizer,loss_function)\n",
        "\n",
        "    # Fill the empty lists with the values of accuracy and loss for training and evaluation sets\n",
        "    train_acc.append(train_accuracy)\n",
        "    train_loss.append(train_losses)\n",
        "    eval_acc.append(evaluation_accuracy)\n",
        "    eval_loss.append(evaluation_losses)\n",
        "\n",
        "  # Plot the loss vs epochs \n",
        "  plt.plot(train_loss,'-o')\n",
        "  plt.plot(eval_loss,'-o')\n",
        "  plt.title('Train vs Validation/Test Model Loss')\n",
        "  plt.ylabel('Loss')\n",
        "  plt.xlabel('Epoch')\n",
        "  plt.legend(['Train', 'Validation/Test'])\n",
        "  plt.show()\n",
        "\n",
        "  # Plot the accuracy vs epochs\n",
        "  plt.plot(train_acc,'-o')\n",
        "  plt.plot(eval_acc,'-o')\n",
        "  plt.title('Train vs Validation/Test Model Accuracy')\n",
        "  plt.ylabel('Accuracy')\n",
        "  plt.xlabel('Epoch')\n",
        "  plt.legend(['Train', 'Validation/Test'])\n",
        "  plt.show()\n",
        "\n",
        "  # Make predictions\n",
        "  test_prediction = first_model(testing_X_tensor)\n",
        "\n",
        "  # Calculate all the metrics on the validation/test set\n",
        "  test_metrics = calculate_metrics(testing_Y_tensor,test_prediction)\n",
        "  print(test_metrics)\n",
        "\n",
        "  # Convert tensors to numpy arrays\n",
        "  y_score = test_prediction.detach().numpy()\n",
        "  y = testing_Y_tensor.detach().numpy()\n",
        "\n",
        "  # Label binarization and store the number of classes\n",
        "  y_test = label_binarize(y, classes=[0, 1, 2])\n",
        "  n_classes = y_test.shape[1]\n",
        "\n",
        "  # Compute ROC curve and ROC area for each class\n",
        "  fpr = dict()\n",
        "  tpr = dict()\n",
        "  roc_auc = dict()\n",
        "  for i in range(n_classes):\n",
        "    fpr[i], tpr[i], _ = roc_curve(y_test[:, i], y_score[:, i])\n",
        "    roc_auc[i] = auc(fpr[i], tpr[i])\n",
        "\n",
        "  # Compute micro-average ROC curve and ROC area\n",
        "  fpr['micro'], tpr['micro'], _ = roc_curve(y_test.ravel(), y_score.ravel())\n",
        "  roc_auc['micro'] = auc(fpr['micro'], tpr['micro'])\n",
        "\n",
        "  # First aggregate all false positive rates\n",
        "  all_fpr = np.unique(np.concatenate([fpr[i] for i in range(n_classes)]))\n",
        "\n",
        "  # Then interpolate all ROC curves at this points\n",
        "  mean_tpr = np.zeros_like(all_fpr)\n",
        "  for i in range(n_classes):\n",
        "    mean_tpr += interp(all_fpr, fpr[i], tpr[i])\n",
        "\n",
        "  # Finally average it and compute AUC\n",
        "  mean_tpr /= n_classes\n",
        "\n",
        "  fpr['macro'] = all_fpr\n",
        "  tpr['macro'] = mean_tpr\n",
        "  roc_auc['macro'] = auc(fpr['macro'], tpr['macro'])\n",
        "  lw = 2\n",
        "\n",
        "  # Plot all ROC curves\n",
        "  plt.figure()\n",
        "  plt.plot(\n",
        "    fpr['micro'],\n",
        "    tpr['micro'],\n",
        "    label='micro-average ROC curve (area = {0:0.2f})'.format(roc_auc['micro']),\n",
        "    color='deeppink',\n",
        "    linestyle=':',\n",
        "    linewidth=4,)\n",
        "\n",
        "  plt.plot(\n",
        "    fpr['macro'],\n",
        "    tpr['macro'],\n",
        "    label='macro-average ROC curve (area = {0:0.2f})'.format(roc_auc['macro']),\n",
        "    color='navy',\n",
        "    linestyle=':',\n",
        "    linewidth=4,)\n",
        "\n",
        "  colors = cycle(['aqua', 'darkorange', 'cornflowerblue'])\n",
        "  for i, color in zip(range(n_classes), colors):\n",
        "    plt.plot(\n",
        "        fpr[i],\n",
        "        tpr[i],\n",
        "        color=color,\n",
        "        lw=lw,\n",
        "        label= 'ROC curve of class {0} (area = {1:0.2f})'.format(i, roc_auc[i]),)\n",
        "\n",
        "  plt.plot([0, 1], [0, 1], \"k--\", lw=lw)\n",
        "  plt.xlim([0.0, 1.0])\n",
        "  plt.ylim([0.0, 1.05])\n",
        "  plt.xlabel('False Positive Rate')\n",
        "  plt.ylabel('True Positive Rate')\n",
        "  plt.title('Roc curve for all classes')\n",
        "  plt.legend(loc='lower right')\n",
        "  plt.show()"
      ],
      "metadata": {
        "id": "p7ueSoD_j-gL"
      },
      "execution_count": 10,
      "outputs": []
    },
    {
      "cell_type": "markdown",
      "source": [
        "**USED ONLY IN THE SECOND FEED-FORWARD NETWORK MODEL**"
      ],
      "metadata": {
        "id": "6Pt1PPkbdxCn"
      }
    },
    {
      "cell_type": "code",
      "source": [
        "# A class that initializes a deeper feed-forward neural network model for the second model\n",
        "class Feed_forward_Neural_Net_Model(nn.Module):\n",
        "    def __init__(self, input_dim, hidden_dim_1, hidden_dim_2, hidden_dim_3, hidden_dim_4, output_dim):\n",
        "        super(Feed_forward_Neural_Net_Model, self).__init__()\n",
        "        \n",
        "        \n",
        "        self.layer_1 = nn.Linear(input_dim, hidden_dim_1)     \n",
        "        self.relu_1 = nn.ReLU()\n",
        "        self.dropout = nn.Dropout(0.3)\n",
        "         \n",
        "        self.layer_2 = nn.Linear(hidden_dim_1, hidden_dim_2)    \n",
        "        self.relu_2 = nn.ReLU()\n",
        "      \n",
        "        self.layer_3 = nn.Linear(hidden_dim_2, hidden_dim_3) \n",
        "        self.relu_3 = nn.ReLU()\n",
        "     \n",
        "        self.layer_4 = nn.Linear(hidden_dim_3, hidden_dim_4)       \n",
        "        self.relu_4 = nn.Softmax(dim = 1)\n",
        "        self.dropout = nn.Dropout(0.3)\n",
        "        self.batch = nn.BatchNorm1d(hidden_dim_4)\n",
        "\n",
        "        self.layer_5 = nn.Linear(hidden_dim_4, output_dim)  \n",
        "\n",
        "    def forward(self, x):\n",
        "        out = self.layer_1(x)\n",
        "        out = self.relu_1(out)\n",
        "        out = self.dropout(out)\n",
        "        \n",
        "        out = self.layer_2(out)\n",
        "        out = self.relu_2(out)\n",
        "\n",
        "        out = self.layer_3(out)\n",
        "        out = self.relu_3(out)\n",
        "\n",
        "        out = self.layer_4(out)\n",
        "        out = self.relu_4(out)\n",
        "        out = self.dropout(out)\n",
        "        out = self.batch(out)\n",
        "\n",
        "        out = self.layer_5(out)\n",
        "\n",
        "        return torch.sigmoid(out)"
      ],
      "metadata": {
        "id": "5sZTz9P3L3ZE"
      },
      "execution_count": 11,
      "outputs": []
    },
    {
      "cell_type": "code",
      "source": [
        "# A function made for the second feed-forward training model\n",
        "def data_train_second_model(csv_file_train, csv_file_test, glove_file_pickle, feature, label):\n",
        "  \n",
        "  # Prepare the training dataset\n",
        "  print('------ Preparing the training dataset... ------')\n",
        "  df_train = read_explore_dataframe(csv_file_train)\n",
        "  X,y = get_columns(df_train, feature, label)\n",
        "  \n",
        "  # Prepare the validation/testing dataset\n",
        "  print('\\n------ Preparing the validation/testing dataset... ------')\n",
        "  df_test = read_explore_dataframe(csv_file_test)\n",
        "  x1,y1 = get_columns(df_test, feature, label)\n",
        "  \n",
        "  # Load the GloVe dictionary in pickle form\n",
        "  glove_file = open(glove_file_pickle, 'rb')\n",
        "  glove = pickle.load(glove_file)\n",
        "  \n",
        "  gloveX_train, words_found, matrix_len = find_words_in_glove(X)\n",
        "  print('Percentage of words founded in Glove: ', words_found/matrix_len)\n",
        "\n",
        "  gloveX_test, words_found, matrix_len = find_words_in_glove(x1)\n",
        "  print('Percentage of words founded in Glove: ', words_found/matrix_len)\n",
        "\n",
        "  # Create tensors for the training and testing/validation sets\n",
        "  training_X_tensor, training_Y_tensor = create_tensors(gloveX_train,y)\n",
        "  testing_X_tensor, testing_Y_tensor = create_tensors(gloveX_test,y1)\n",
        "\n",
        "  # Initialize dataloader for train set\n",
        "  dataset_1 = torch.utils.data.TensorDataset(training_X_tensor, training_Y_tensor)\n",
        "  dataloader_train = torch.utils.data.DataLoader(dataset_1, batch_size = 10, shuffle = True)\n",
        "\n",
        "  # Initialize dataloader for validation set\n",
        "  dataset_2 = torch.utils.data.TensorDataset(testing_X_tensor, testing_Y_tensor)\n",
        "  dataloader_val = torch.utils.data.DataLoader(dataset_2, batch_size = 10, shuffle = False)\n",
        "\n",
        "  # Define dimensions of each layer and number of epochs\n",
        "  input_layer = training_X_tensor.shape[1]\n",
        "  hidden_layer_1 = 500\n",
        "  hidden_layer_2 = 256\n",
        "  hidden_layer_3 = 128\n",
        "  hidden_layer_4 = 64\n",
        "  output_layer = 3\n",
        "  num_epochs = 40\n",
        "\n",
        "  # Define the first feed forward neural network\n",
        "  second_model = Feed_forward_Neural_Net_Model(input_layer, hidden_layer_1, hidden_layer_2, hidden_layer_3, hidden_layer_4, output_layer)\n",
        "  print(second_model)\n",
        "\n",
        "  # Define loss function\n",
        "  loss_function = nn.CrossEntropyLoss()\n",
        "\n",
        "  # Define as optimizer Adam\n",
        "  optimizer = optim.SGD(second_model.parameters(), lr = 0.01, weight_decay = 1e-4)\n",
        "\n",
        "  # Initialize empty lists to store the values of loss and accuracy for each epoch\n",
        "  train_acc = []\n",
        "  train_loss = []\n",
        "  eval_acc = []\n",
        "  eval_loss = []\n",
        "\n",
        "  print('\\n------ Training on the training set and evaluating on the validation/testing set.... ------')\n",
        "\n",
        "  for epoch in range(1,num_epochs+1):\n",
        "    print('\\nEpoch: %d'%epoch)\n",
        "\n",
        "    # Train the model using the train_neural_network function\n",
        "    train_losses, train_accuracy = train_neural_network_model(epoch,second_model,dataloader_train,optimizer,loss_function)\n",
        " \n",
        "    # Evaluate the model using the evaluate_neural_network_model function\n",
        "    evaluation_losses, evaluation_accuracy = evaluate_neural_network_model(epoch,second_model,dataloader_val,optimizer,loss_function)\n",
        "\n",
        "    # Fill the empty lists with the values of accuracy and loss for training and evaluation sets\n",
        "    train_acc.append(train_accuracy)\n",
        "    train_loss.append(train_losses)\n",
        "    eval_acc.append(evaluation_accuracy)\n",
        "    eval_loss.append(evaluation_losses)\n",
        "\n",
        "  # Plot the loss vs epochs \n",
        "  plt.plot(train_loss,'-o')\n",
        "  plt.plot(eval_loss,'-o')\n",
        "  plt.title('Train vs Validation/Test Model Loss')\n",
        "  plt.ylabel('Loss')\n",
        "  plt.xlabel('Epoch')\n",
        "  plt.legend(['Train', 'Validation/Test'])\n",
        "  plt.show()\n",
        "\n",
        "  # Plot the accuracy vs epochs\n",
        "  plt.plot(train_acc,'-o')\n",
        "  plt.plot(eval_acc,'-o')\n",
        "  plt.title('Train vs Validation/Test Model Accuracy')\n",
        "  plt.ylabel('Accuracy')\n",
        "  plt.xlabel('Epoch')\n",
        "  plt.legend(['Train', 'Validation/Test'])\n",
        "  plt.show()\n",
        "\n",
        "  # Make predictions\n",
        "  test_prediction = second_model(testing_X_tensor)\n",
        "\n",
        "  # Calculate all the metrics on the validation/test set\n",
        "  test_metrics = calculate_metrics(testing_Y_tensor,test_prediction)\n",
        "  print(test_metrics)\n",
        "\n",
        "  # Convert tensors to numpy arrays\n",
        "  y_score = test_prediction.detach().numpy()\n",
        "  y = testing_Y_tensor.detach().numpy()\n",
        "\n",
        "  # Label binarization and store the number of classes\n",
        "  y_test = label_binarize(y, classes=[0, 1, 2])\n",
        "  n_classes = y_test.shape[1]\n",
        "\n",
        "  # Compute ROC curve and ROC area for each class\n",
        "  fpr = dict()\n",
        "  tpr = dict()\n",
        "  roc_auc = dict()\n",
        "  for i in range(n_classes):\n",
        "    fpr[i], tpr[i], _ = roc_curve(y_test[:, i], y_score[:, i])\n",
        "    roc_auc[i] = auc(fpr[i], tpr[i])\n",
        "\n",
        "  # Compute micro-average ROC curve and ROC area\n",
        "  fpr['micro'], tpr['micro'], _ = roc_curve(y_test.ravel(), y_score.ravel())\n",
        "  roc_auc['micro'] = auc(fpr['micro'], tpr['micro'])\n",
        "\n",
        "  # First aggregate all false positive rates\n",
        "  all_fpr = np.unique(np.concatenate([fpr[i] for i in range(n_classes)]))\n",
        "\n",
        "  # Then interpolate all ROC curves at this points\n",
        "  mean_tpr = np.zeros_like(all_fpr)\n",
        "  for i in range(n_classes):\n",
        "    mean_tpr += interp(all_fpr, fpr[i], tpr[i])\n",
        "\n",
        "  # Finally average it and compute AUC\n",
        "  mean_tpr /= n_classes\n",
        "\n",
        "  fpr['macro'] = all_fpr\n",
        "  tpr['macro'] = mean_tpr\n",
        "  roc_auc['macro'] = auc(fpr['macro'], tpr['macro'])\n",
        "  lw = 2\n",
        "\n",
        "  # Plot all ROC curves\n",
        "  plt.figure()\n",
        "  plt.plot(\n",
        "    fpr['micro'],\n",
        "    tpr['micro'],\n",
        "    label='micro-average ROC curve (area = {0:0.2f})'.format(roc_auc['micro']),\n",
        "    color='deeppink',\n",
        "    linestyle=':',\n",
        "    linewidth=4,)\n",
        "\n",
        "  plt.plot(\n",
        "    fpr['macro'],\n",
        "    tpr['macro'],\n",
        "    label='macro-average ROC curve (area = {0:0.2f})'.format(roc_auc['macro']),\n",
        "    color='navy',\n",
        "    linestyle=':',\n",
        "    linewidth=4,)\n",
        "\n",
        "  colors = cycle(['aqua', 'darkorange', 'cornflowerblue'])\n",
        "  for i, color in zip(range(n_classes), colors):\n",
        "    plt.plot(\n",
        "        fpr[i],\n",
        "        tpr[i],\n",
        "        color=color,\n",
        "        lw=lw,\n",
        "        label= 'ROC curve of class {0} (area = {1:0.2f})'.format(i, roc_auc[i]),)\n",
        "\n",
        "  plt.plot([0, 1], [0, 1], \"k--\", lw=lw)\n",
        "  plt.xlim([0.0, 1.0])\n",
        "  plt.ylim([0.0, 1.05])\n",
        "  plt.xlabel('False Positive Rate')\n",
        "  plt.ylabel('True Positive Rate')\n",
        "  plt.title('Roc curve for all classes')\n",
        "  plt.legend(loc='lower right')\n",
        "  plt.show()"
      ],
      "metadata": {
        "id": "mrFJglI7Spkw"
      },
      "execution_count": 12,
      "outputs": []
    },
    {
      "cell_type": "markdown",
      "metadata": {
        "id": "JEPt5x6d45R5"
      },
      "source": [
        "**APPLICATION OF FUNCTIONS**"
      ]
    },
    {
      "cell_type": "markdown",
      "metadata": {
        "id": "7Wwwjh39L7ae"
      },
      "source": [
        "NOTE: For the test set to run, just change the name of the second csv file ('vaccine_validation_set.csv')."
      ]
    },
    {
      "cell_type": "markdown",
      "metadata": {
        "id": "GEdGxAbgPwfU"
      },
      "source": [
        "**TRAINING & EVALUATING THE FIRST FEED-FORWARD NEURAL NETWORK USING PRE-TRAINED WORD EMBEDDING VECTORS**"
      ]
    },
    {
      "cell_type": "code",
      "source": [
        "data_train_first_model('vaccine_train_set.csv', 'vaccine_validation_set.csv', 'glove_dict_25d.pkl', 'tweet', 'label')"
      ],
      "metadata": {
        "colab": {
          "base_uri": "https://localhost:8080/",
          "height": 1000
        },
        "id": "bSYKTAEuSOj1",
        "outputId": "89f75bca-bf08-49f3-ccfc-5ff163cad94c"
      },
      "execution_count": 13,
      "outputs": [
        {
          "output_type": "stream",
          "name": "stdout",
          "text": [
            "------ Preparing the training dataset... ------\n",
            "Unnamed: 0                    15976\n",
            "tweet                         15881\n",
            "label                             3\n",
            "Dataframe checked for NaN values and duplicates!\n",
            "Distribution of data in classes:\n",
            "0    0.466825\n",
            "2    0.403418\n",
            "1    0.129757\n",
            "Name: label, dtype: float64\n",
            "Distribution of data in classes after resampling:\n",
            "2    15976\n",
            "1    15976\n",
            "0    15976\n",
            "Name: label, dtype: int64\n",
            "\n",
            "Text done pre-processing!\n",
            "\n",
            "------ Preparing the validation/testing dataset... ------\n",
            "Unnamed: 0                     2282\n",
            "tweet                          2276\n",
            "label                             3\n",
            "Dataframe checked for NaN values and duplicates!\n",
            "Distribution of data in classes:\n",
            "0    0.466696\n",
            "2    0.403593\n",
            "1    0.129711\n",
            "Name: label, dtype: float64\n",
            "Distribution of data in classes after resampling:\n",
            "2    2282\n",
            "1    2282\n",
            "0    2282\n",
            "Name: label, dtype: int64\n",
            "\n",
            "Text done pre-processing!\n",
            "Percentage of words founded in Glove:  17.947588048739778\n",
            "Percentage of words founded in Glove:  17.791995325737656\n",
            "Tensors ready!\n",
            "Tensors ready!\n",
            "feedforward_neural_network_model(\n",
            "  (layer_1): Linear(in_features=25, out_features=32, bias=True)\n",
            "  (relu_1): ReLU()\n",
            "  (layer_2): Linear(in_features=32, out_features=16, bias=True)\n",
            "  (relu_2): ReLU()\n",
            "  (dropout): Dropout(p=0.3, inplace=False)\n",
            "  (batch): BatchNorm1d(16, eps=1e-05, momentum=0.1, affine=True, track_running_stats=True)\n",
            "  (layer_3): Linear(in_features=16, out_features=3, bias=True)\n",
            ")\n",
            "\n",
            "------ Training on the training set and evaluating on the validation/testing set.... ------\n",
            "\n",
            "Epoch: 1\n"
          ]
        },
        {
          "output_type": "stream",
          "name": "stderr",
          "text": [
            "100%|██████████| 7988/7988 [00:11<00:00, 709.60it/s]\n"
          ]
        },
        {
          "output_type": "stream",
          "name": "stdout",
          "text": [
            "Train Loss: 1.0530759239038587 | Accuracy: 45.6351193456852\n"
          ]
        },
        {
          "output_type": "stream",
          "name": "stderr",
          "text": [
            "100%|██████████| 1141/1141 [00:00<00:00, 3000.24it/s]\n"
          ]
        },
        {
          "output_type": "stream",
          "name": "stdout",
          "text": [
            "Test Loss: 0.9935788767156007 | Accuracy: 53.78323108384458\n",
            "\n",
            "Epoch: 2\n"
          ]
        },
        {
          "output_type": "stream",
          "name": "stderr",
          "text": [
            "100%|██████████| 7988/7988 [00:11<00:00, 726.16it/s]\n"
          ]
        },
        {
          "output_type": "stream",
          "name": "stdout",
          "text": [
            "Train Loss: 1.0043438287917292 | Accuracy: 51.934151226840264\n"
          ]
        },
        {
          "output_type": "stream",
          "name": "stderr",
          "text": [
            "100%|██████████| 1141/1141 [00:00<00:00, 3010.35it/s]\n"
          ]
        },
        {
          "output_type": "stream",
          "name": "stdout",
          "text": [
            "Test Loss: 0.9623181542526934 | Accuracy: 57.08442886356997\n",
            "\n",
            "Epoch: 3\n"
          ]
        },
        {
          "output_type": "stream",
          "name": "stderr",
          "text": [
            "100%|██████████| 7988/7988 [00:11<00:00, 695.29it/s]\n"
          ]
        },
        {
          "output_type": "stream",
          "name": "stdout",
          "text": [
            "Train Loss: 0.9845177414391001 | Accuracy: 53.690953096311134\n"
          ]
        },
        {
          "output_type": "stream",
          "name": "stderr",
          "text": [
            "100%|██████████| 1141/1141 [00:00<00:00, 2991.43it/s]\n"
          ]
        },
        {
          "output_type": "stream",
          "name": "stdout",
          "text": [
            "Test Loss: 0.9536770739960733 | Accuracy: 58.092316681273736\n",
            "\n",
            "Epoch: 4\n"
          ]
        },
        {
          "output_type": "stream",
          "name": "stderr",
          "text": [
            "100%|██████████| 7988/7988 [00:11<00:00, 709.26it/s]\n"
          ]
        },
        {
          "output_type": "stream",
          "name": "stdout",
          "text": [
            "Train Loss: 0.9767547127495543 | Accuracy: 54.32732431981305\n"
          ]
        },
        {
          "output_type": "stream",
          "name": "stderr",
          "text": [
            "100%|██████████| 1141/1141 [00:00<00:00, 2997.52it/s]\n"
          ]
        },
        {
          "output_type": "stream",
          "name": "stdout",
          "text": [
            "Test Loss: 0.9437070975274396 | Accuracy: 57.78556821501607\n",
            "\n",
            "Epoch: 5\n"
          ]
        },
        {
          "output_type": "stream",
          "name": "stderr",
          "text": [
            "100%|██████████| 7988/7988 [00:11<00:00, 721.63it/s]\n"
          ]
        },
        {
          "output_type": "stream",
          "name": "stdout",
          "text": [
            "Train Loss: 0.9685867065615098 | Accuracy: 55.11392088132198\n"
          ]
        },
        {
          "output_type": "stream",
          "name": "stderr",
          "text": [
            "100%|██████████| 1141/1141 [00:00<00:00, 3047.44it/s]\n"
          ]
        },
        {
          "output_type": "stream",
          "name": "stdout",
          "text": [
            "Test Loss: 0.9398231599855381 | Accuracy: 58.03388840198656\n",
            "\n",
            "Epoch: 6\n"
          ]
        },
        {
          "output_type": "stream",
          "name": "stderr",
          "text": [
            "100%|██████████| 7988/7988 [00:11<00:00, 719.65it/s]\n"
          ]
        },
        {
          "output_type": "stream",
          "name": "stdout",
          "text": [
            "Train Loss: 0.9640161829348141 | Accuracy: 55.687698213987645\n"
          ]
        },
        {
          "output_type": "stream",
          "name": "stderr",
          "text": [
            "100%|██████████| 1141/1141 [00:00<00:00, 3162.91it/s]\n"
          ]
        },
        {
          "output_type": "stream",
          "name": "stdout",
          "text": [
            "Test Loss: 0.9393311784938174 | Accuracy: 57.610283377154545\n",
            "\n",
            "Epoch: 7\n"
          ]
        },
        {
          "output_type": "stream",
          "name": "stderr",
          "text": [
            "100%|██████████| 7988/7988 [00:10<00:00, 744.07it/s]\n"
          ]
        },
        {
          "output_type": "stream",
          "name": "stdout",
          "text": [
            "Train Loss: 0.9633348265333539 | Accuracy: 55.82123184777166\n"
          ]
        },
        {
          "output_type": "stream",
          "name": "stderr",
          "text": [
            "100%|██████████| 1141/1141 [00:00<00:00, 3010.12it/s]\n"
          ]
        },
        {
          "output_type": "stream",
          "name": "stdout",
          "text": [
            "Test Loss: 0.9342865167115468 | Accuracy: 58.983347940403156\n",
            "\n",
            "Epoch: 8\n"
          ]
        },
        {
          "output_type": "stream",
          "name": "stderr",
          "text": [
            "100%|██████████| 7988/7988 [00:10<00:00, 733.16it/s]\n"
          ]
        },
        {
          "output_type": "stream",
          "name": "stdout",
          "text": [
            "Train Loss: 0.9563457889815361 | Accuracy: 56.332415289601066\n"
          ]
        },
        {
          "output_type": "stream",
          "name": "stderr",
          "text": [
            "100%|██████████| 1141/1141 [00:00<00:00, 3150.48it/s]\n"
          ]
        },
        {
          "output_type": "stream",
          "name": "stdout",
          "text": [
            "Test Loss: 0.9293481853842004 | Accuracy: 58.51592170610576\n",
            "\n",
            "Epoch: 9\n"
          ]
        },
        {
          "output_type": "stream",
          "name": "stderr",
          "text": [
            "100%|██████████| 7988/7988 [00:10<00:00, 738.21it/s]\n"
          ]
        },
        {
          "output_type": "stream",
          "name": "stdout",
          "text": [
            "Train Loss: 0.9557946957106822 | Accuracy: 56.50767818394258\n"
          ]
        },
        {
          "output_type": "stream",
          "name": "stderr",
          "text": [
            "100%|██████████| 1141/1141 [00:00<00:00, 3315.14it/s]\n"
          ]
        },
        {
          "output_type": "stream",
          "name": "stdout",
          "text": [
            "Test Loss: 0.9301370011412398 | Accuracy: 59.50920245398773\n",
            "\n",
            "Epoch: 10\n"
          ]
        },
        {
          "output_type": "stream",
          "name": "stderr",
          "text": [
            "100%|██████████| 7988/7988 [00:11<00:00, 722.23it/s]\n"
          ]
        },
        {
          "output_type": "stream",
          "name": "stdout",
          "text": [
            "Train Loss: 0.9538239025747293 | Accuracy: 56.70589217159072\n"
          ]
        },
        {
          "output_type": "stream",
          "name": "stderr",
          "text": [
            "100%|██████████| 1141/1141 [00:00<00:00, 3200.66it/s]\n"
          ]
        },
        {
          "output_type": "stream",
          "name": "stdout",
          "text": [
            "Test Loss: 0.9272384979451151 | Accuracy: 59.69909436167105\n",
            "\n",
            "Epoch: 11\n"
          ]
        },
        {
          "output_type": "stream",
          "name": "stderr",
          "text": [
            "100%|██████████| 7988/7988 [00:10<00:00, 727.40it/s]\n"
          ]
        },
        {
          "output_type": "stream",
          "name": "stdout",
          "text": [
            "Train Loss: 0.9500563741700316 | Accuracy: 57.00425638457686\n"
          ]
        },
        {
          "output_type": "stream",
          "name": "stderr",
          "text": [
            "100%|██████████| 1141/1141 [00:00<00:00, 3065.15it/s]\n"
          ]
        },
        {
          "output_type": "stream",
          "name": "stdout",
          "text": [
            "Test Loss: 0.9326481955496498 | Accuracy: 58.04849547180836\n",
            "\n",
            "Epoch: 12\n"
          ]
        },
        {
          "output_type": "stream",
          "name": "stderr",
          "text": [
            "100%|██████████| 7988/7988 [00:10<00:00, 747.00it/s]\n"
          ]
        },
        {
          "output_type": "stream",
          "name": "stdout",
          "text": [
            "Train Loss: 0.949241301224837 | Accuracy: 57.271323652144886\n"
          ]
        },
        {
          "output_type": "stream",
          "name": "stderr",
          "text": [
            "100%|██████████| 1141/1141 [00:00<00:00, 3213.99it/s]\n"
          ]
        },
        {
          "output_type": "stream",
          "name": "stdout",
          "text": [
            "Test Loss: 0.924716831402858 | Accuracy: 58.80806310254163\n",
            "\n",
            "Epoch: 13\n"
          ]
        },
        {
          "output_type": "stream",
          "name": "stderr",
          "text": [
            "100%|██████████| 7988/7988 [00:10<00:00, 736.70it/s]\n"
          ]
        },
        {
          "output_type": "stream",
          "name": "stdout",
          "text": [
            "Train Loss: 0.9483644590639865 | Accuracy: 57.49457519612753\n"
          ]
        },
        {
          "output_type": "stream",
          "name": "stderr",
          "text": [
            "100%|██████████| 1141/1141 [00:00<00:00, 2849.74it/s]\n"
          ]
        },
        {
          "output_type": "stream",
          "name": "stdout",
          "text": [
            "Test Loss: 0.9246964128157426 | Accuracy: 59.94741454864154\n",
            "\n",
            "Epoch: 14\n"
          ]
        },
        {
          "output_type": "stream",
          "name": "stderr",
          "text": [
            "100%|██████████| 7988/7988 [00:10<00:00, 727.40it/s]\n"
          ]
        },
        {
          "output_type": "stream",
          "name": "stdout",
          "text": [
            "Train Loss: 0.9479988517839429 | Accuracy: 57.26923718911701\n"
          ]
        },
        {
          "output_type": "stream",
          "name": "stderr",
          "text": [
            "100%|██████████| 1141/1141 [00:00<00:00, 3145.45it/s]\n"
          ]
        },
        {
          "output_type": "stream",
          "name": "stdout",
          "text": [
            "Test Loss: 0.928083958017732 | Accuracy: 59.12941863862109\n",
            "\n",
            "Epoch: 15\n"
          ]
        },
        {
          "output_type": "stream",
          "name": "stderr",
          "text": [
            "100%|██████████| 7988/7988 [00:10<00:00, 740.04it/s]\n"
          ]
        },
        {
          "output_type": "stream",
          "name": "stdout",
          "text": [
            "Train Loss: 0.9461104148811379 | Accuracy: 57.54882323485228\n"
          ]
        },
        {
          "output_type": "stream",
          "name": "stderr",
          "text": [
            "100%|██████████| 1141/1141 [00:00<00:00, 2999.67it/s]\n"
          ]
        },
        {
          "output_type": "stream",
          "name": "stdout",
          "text": [
            "Test Loss: 0.9235625225760036 | Accuracy: 60.38562664329535\n",
            "\n",
            "Epoch: 16\n"
          ]
        },
        {
          "output_type": "stream",
          "name": "stderr",
          "text": [
            "100%|██████████| 7988/7988 [00:10<00:00, 745.11it/s]\n"
          ]
        },
        {
          "output_type": "stream",
          "name": "stdout",
          "text": [
            "Train Loss: 0.9440104691801396 | Accuracy: 57.911867801702556\n"
          ]
        },
        {
          "output_type": "stream",
          "name": "stderr",
          "text": [
            "100%|██████████| 1141/1141 [00:00<00:00, 3183.45it/s]\n"
          ]
        },
        {
          "output_type": "stream",
          "name": "stdout",
          "text": [
            "Test Loss: 0.9259147191131251 | Accuracy: 59.26088226701724\n",
            "\n",
            "Epoch: 17\n"
          ]
        },
        {
          "output_type": "stream",
          "name": "stderr",
          "text": [
            "100%|██████████| 7988/7988 [00:11<00:00, 724.04it/s]\n"
          ]
        },
        {
          "output_type": "stream",
          "name": "stdout",
          "text": [
            "Train Loss: 0.9432890594274208 | Accuracy: 57.75746953763979\n"
          ]
        },
        {
          "output_type": "stream",
          "name": "stderr",
          "text": [
            "100%|██████████| 1141/1141 [00:00<00:00, 3057.03it/s]\n"
          ]
        },
        {
          "output_type": "stream",
          "name": "stdout",
          "text": [
            "Test Loss: 0.9255628196112844 | Accuracy: 59.655273152205666\n",
            "\n",
            "Epoch: 18\n"
          ]
        },
        {
          "output_type": "stream",
          "name": "stderr",
          "text": [
            "100%|██████████| 7988/7988 [00:10<00:00, 736.50it/s]\n"
          ]
        },
        {
          "output_type": "stream",
          "name": "stdout",
          "text": [
            "Train Loss: 0.9394309295748972 | Accuracy: 58.23318310799532\n"
          ]
        },
        {
          "output_type": "stream",
          "name": "stderr",
          "text": [
            "100%|██████████| 1141/1141 [00:00<00:00, 2986.18it/s]\n"
          ]
        },
        {
          "output_type": "stream",
          "name": "stdout",
          "text": [
            "Test Loss: 0.926537019186747 | Accuracy: 59.348524685948\n",
            "\n",
            "Epoch: 19\n"
          ]
        },
        {
          "output_type": "stream",
          "name": "stderr",
          "text": [
            "100%|██████████| 7988/7988 [00:10<00:00, 736.39it/s]\n"
          ]
        },
        {
          "output_type": "stream",
          "name": "stdout",
          "text": [
            "Train Loss: 0.9397327601984256 | Accuracy: 58.28117175763646\n"
          ]
        },
        {
          "output_type": "stream",
          "name": "stderr",
          "text": [
            "100%|██████████| 1141/1141 [00:00<00:00, 3058.54it/s]\n"
          ]
        },
        {
          "output_type": "stream",
          "name": "stdout",
          "text": [
            "Test Loss: 0.92646143809418 | Accuracy: 59.88898626935437\n",
            "\n",
            "Epoch: 20\n"
          ]
        },
        {
          "output_type": "stream",
          "name": "stderr",
          "text": [
            "100%|██████████| 7988/7988 [00:10<00:00, 748.08it/s]\n"
          ]
        },
        {
          "output_type": "stream",
          "name": "stdout",
          "text": [
            "Train Loss: 0.9360700348316578 | Accuracy: 58.38132198297446\n"
          ]
        },
        {
          "output_type": "stream",
          "name": "stderr",
          "text": [
            "100%|██████████| 1141/1141 [00:00<00:00, 3134.18it/s]\n"
          ]
        },
        {
          "output_type": "stream",
          "name": "stdout",
          "text": [
            "Test Loss: 0.9239121363624787 | Accuracy: 59.74291557113643\n",
            "\n",
            "Epoch: 21\n"
          ]
        },
        {
          "output_type": "stream",
          "name": "stderr",
          "text": [
            "100%|██████████| 7988/7988 [00:10<00:00, 749.48it/s]\n"
          ]
        },
        {
          "output_type": "stream",
          "name": "stdout",
          "text": [
            "Train Loss: 0.9354988401107449 | Accuracy: 58.61083291604073\n"
          ]
        },
        {
          "output_type": "stream",
          "name": "stderr",
          "text": [
            "100%|██████████| 1141/1141 [00:00<00:00, 3246.54it/s]\n"
          ]
        },
        {
          "output_type": "stream",
          "name": "stdout",
          "text": [
            "Test Loss: 0.9222165945326415 | Accuracy: 60.0350569675723\n",
            "\n",
            "Epoch: 22\n"
          ]
        },
        {
          "output_type": "stream",
          "name": "stderr",
          "text": [
            "100%|██████████| 7988/7988 [00:10<00:00, 728.08it/s]\n"
          ]
        },
        {
          "output_type": "stream",
          "name": "stdout",
          "text": [
            "Train Loss: 0.9342621863186807 | Accuracy: 58.64004339843098\n"
          ]
        },
        {
          "output_type": "stream",
          "name": "stderr",
          "text": [
            "100%|██████████| 1141/1141 [00:00<00:00, 3082.68it/s]\n"
          ]
        },
        {
          "output_type": "stream",
          "name": "stdout",
          "text": [
            "Test Loss: 0.9252279306795386 | Accuracy: 60.23955594507742\n",
            "\n",
            "Epoch: 23\n"
          ]
        },
        {
          "output_type": "stream",
          "name": "stderr",
          "text": [
            "100%|██████████| 7988/7988 [00:10<00:00, 750.48it/s]\n"
          ]
        },
        {
          "output_type": "stream",
          "name": "stdout",
          "text": [
            "Train Loss: 0.9309765244565967 | Accuracy: 59.09071941245201\n"
          ]
        },
        {
          "output_type": "stream",
          "name": "stderr",
          "text": [
            "100%|██████████| 1141/1141 [00:00<00:00, 2967.63it/s]\n"
          ]
        },
        {
          "output_type": "stream",
          "name": "stdout",
          "text": [
            "Test Loss: 0.9175027818349659 | Accuracy: 60.736196319018404\n",
            "\n",
            "Epoch: 24\n"
          ]
        },
        {
          "output_type": "stream",
          "name": "stderr",
          "text": [
            "100%|██████████| 7988/7988 [00:10<00:00, 730.71it/s]\n"
          ]
        },
        {
          "output_type": "stream",
          "name": "stdout",
          "text": [
            "Train Loss: 0.9314348405384695 | Accuracy: 58.93840761141713\n"
          ]
        },
        {
          "output_type": "stream",
          "name": "stderr",
          "text": [
            "100%|██████████| 1141/1141 [00:00<00:00, 3196.15it/s]\n"
          ]
        },
        {
          "output_type": "stream",
          "name": "stdout",
          "text": [
            "Test Loss: 0.9274495132757216 | Accuracy: 60.31259129418638\n",
            "\n",
            "Epoch: 25\n"
          ]
        },
        {
          "output_type": "stream",
          "name": "stderr",
          "text": [
            "100%|██████████| 7988/7988 [00:10<00:00, 753.93it/s]\n"
          ]
        },
        {
          "output_type": "stream",
          "name": "stdout",
          "text": [
            "Train Loss: 0.9302945933792074 | Accuracy: 59.03229844767151\n"
          ]
        },
        {
          "output_type": "stream",
          "name": "stderr",
          "text": [
            "100%|██████████| 1141/1141 [00:00<00:00, 3006.63it/s]\n"
          ]
        },
        {
          "output_type": "stream",
          "name": "stdout",
          "text": [
            "Test Loss: 0.9244517785848806 | Accuracy: 59.97662868828513\n",
            "\n",
            "Epoch: 26\n"
          ]
        },
        {
          "output_type": "stream",
          "name": "stderr",
          "text": [
            "100%|██████████| 7988/7988 [00:10<00:00, 745.27it/s]\n"
          ]
        },
        {
          "output_type": "stream",
          "name": "stdout",
          "text": [
            "Train Loss: 0.930246597365791 | Accuracy: 59.2597229177099\n"
          ]
        },
        {
          "output_type": "stream",
          "name": "stderr",
          "text": [
            "100%|██████████| 1141/1141 [00:00<00:00, 2368.24it/s]\n"
          ]
        },
        {
          "output_type": "stream",
          "name": "stdout",
          "text": [
            "Test Loss: 0.9226169818644979 | Accuracy: 60.122699386503065\n",
            "\n",
            "Epoch: 27\n"
          ]
        },
        {
          "output_type": "stream",
          "name": "stderr",
          "text": [
            "100%|██████████| 7988/7988 [00:10<00:00, 760.82it/s]\n"
          ]
        },
        {
          "output_type": "stream",
          "name": "stdout",
          "text": [
            "Train Loss: 0.9281570941329181 | Accuracy: 59.466282757469536\n"
          ]
        },
        {
          "output_type": "stream",
          "name": "stderr",
          "text": [
            "100%|██████████| 1141/1141 [00:00<00:00, 3286.56it/s]\n"
          ]
        },
        {
          "output_type": "stream",
          "name": "stdout",
          "text": [
            "Test Loss: 0.9192991595744668 | Accuracy: 59.96202161846334\n",
            "\n",
            "Epoch: 28\n"
          ]
        },
        {
          "output_type": "stream",
          "name": "stderr",
          "text": [
            "100%|██████████| 7988/7988 [00:10<00:00, 761.63it/s]\n"
          ]
        },
        {
          "output_type": "stream",
          "name": "stdout",
          "text": [
            "Train Loss: 0.9269517583956286 | Accuracy: 59.447504590218664\n"
          ]
        },
        {
          "output_type": "stream",
          "name": "stderr",
          "text": [
            "100%|██████████| 1141/1141 [00:00<00:00, 3063.52it/s]\n"
          ]
        },
        {
          "output_type": "stream",
          "name": "stdout",
          "text": [
            "Test Loss: 0.9247543517692793 | Accuracy: 60.09348524685948\n",
            "\n",
            "Epoch: 29\n"
          ]
        },
        {
          "output_type": "stream",
          "name": "stderr",
          "text": [
            "100%|██████████| 7988/7988 [00:10<00:00, 756.32it/s]\n"
          ]
        },
        {
          "output_type": "stream",
          "name": "stdout",
          "text": [
            "Train Loss: 0.9274405841088379 | Accuracy: 59.60607578033717\n"
          ]
        },
        {
          "output_type": "stream",
          "name": "stderr",
          "text": [
            "100%|██████████| 1141/1141 [00:00<00:00, 3152.40it/s]\n"
          ]
        },
        {
          "output_type": "stream",
          "name": "stdout",
          "text": [
            "Test Loss: 0.9236809411767697 | Accuracy: 59.42156003505697\n",
            "\n",
            "Epoch: 30\n"
          ]
        },
        {
          "output_type": "stream",
          "name": "stderr",
          "text": [
            "100%|██████████| 7988/7988 [00:10<00:00, 757.01it/s]\n"
          ]
        },
        {
          "output_type": "stream",
          "name": "stdout",
          "text": [
            "Train Loss: 0.9258596542765632 | Accuracy: 59.6373727257553\n"
          ]
        },
        {
          "output_type": "stream",
          "name": "stderr",
          "text": [
            "100%|██████████| 1141/1141 [00:00<00:00, 3128.23it/s]\n"
          ]
        },
        {
          "output_type": "stream",
          "name": "stdout",
          "text": [
            "Test Loss: 0.9250019104934177 | Accuracy: 59.1148115687993\n"
          ]
        },
        {
          "output_type": "display_data",
          "data": {
            "image/png": "[encoded data removed]",
            "text/plain": [
              "<Figure size 432x288 with 1 Axes>"
            ]
          },
          "metadata": {
            "needs_background": "light"
          }
        },
        {
          "output_type": "display_data",
          "data": {
            "image/png": "[encoded data removed]",
            "text/plain": [
              "<Figure size 432x288 with 1 Axes>"
            ]
          },
          "metadata": {
            "needs_background": "light"
          }
        },
        {
          "output_type": "stream",
          "name": "stdout",
          "text": [
            "\n",
            "Calculating metrics...\n",
            "Accuracy: 0.5817995667457581\n",
            "Precision: [0.57580979 0.59016393 0.57777778]\n",
            "Recall: [0.73225241 0.69412796 0.3190184 ]\n",
            "F1 score: [0.64467593 0.63793798 0.41106719]\n",
            "Support: [2282 2282 2282]\n",
            "              precision    recall  f1-score   support\n",
            "\n",
            "         0.0       0.58      0.73      0.64      2282\n",
            "         1.0       0.59      0.69      0.64      2282\n",
            "         2.0       0.58      0.32      0.41      2282\n",
            "\n",
            "    accuracy                           0.58      6846\n",
            "   macro avg       0.58      0.58      0.56      6846\n",
            "weighted avg       0.58      0.58      0.56      6846\n",
            "\n",
            "None\n"
          ]
        },
        {
          "output_type": "display_data",
          "data": {
            "image/png": "[encoded data removed]",
            "text/plain": [
              "<Figure size 432x288 with 1 Axes>"
            ]
          },
          "metadata": {
            "needs_background": "light"
          }
        }
      ]
    },
    {
      "cell_type": "markdown",
      "metadata": {
        "id": "tjzvewMjwosT"
      },
      "source": [
        "**TRAINING & EVALUATING THE SECOND FEED-FORWARD NEURAL NETWORK USING PRE-TRAINED WORD EMBEDDING VECTORS**\n"
      ]
    },
    {
      "cell_type": "code",
      "source": [
        "data_train_second_model('vaccine_train_set.csv', 'vaccine_validation_set.csv', 'glove_dict_25d.pkl', 'tweet', 'label')"
      ],
      "metadata": {
        "colab": {
          "base_uri": "https://localhost:8080/",
          "height": 1000
        },
        "id": "swPcElR-xNvr",
        "outputId": "4678b7f3-9e05-440a-b3d3-8d0bb7d6bbb0"
      },
      "execution_count": 14,
      "outputs": [
        {
          "output_type": "stream",
          "name": "stdout",
          "text": [
            "------ Preparing the training dataset... ------\n",
            "Unnamed: 0                    15976\n",
            "tweet                         15881\n",
            "label                             3\n",
            "Dataframe checked for NaN values and duplicates!\n",
            "Distribution of data in classes:\n",
            "0    0.466825\n",
            "2    0.403418\n",
            "1    0.129757\n",
            "Name: label, dtype: float64\n",
            "Distribution of data in classes after resampling:\n",
            "2    15976\n",
            "1    15976\n",
            "0    15976\n",
            "Name: label, dtype: int64\n",
            "\n",
            "Text done pre-processing!\n",
            "\n",
            "------ Preparing the validation/testing dataset... ------\n",
            "Unnamed: 0                     2282\n",
            "tweet                          2276\n",
            "label                             3\n",
            "Dataframe checked for NaN values and duplicates!\n",
            "Distribution of data in classes:\n",
            "0    0.466696\n",
            "2    0.403593\n",
            "1    0.129711\n",
            "Name: label, dtype: float64\n",
            "Distribution of data in classes after resampling:\n",
            "2    2282\n",
            "1    2282\n",
            "0    2282\n",
            "Name: label, dtype: int64\n",
            "\n",
            "Text done pre-processing!\n",
            "Percentage of words founded in Glove:  17.947588048739778\n",
            "Percentage of words founded in Glove:  17.791995325737656\n",
            "Tensors ready!\n",
            "Tensors ready!\n",
            "Feed_forward_Neural_Net_Model(\n",
            "  (layer_1): Linear(in_features=25, out_features=500, bias=True)\n",
            "  (relu_1): ReLU()\n",
            "  (dropout): Dropout(p=0.3, inplace=False)\n",
            "  (layer_2): Linear(in_features=500, out_features=256, bias=True)\n",
            "  (relu_2): ReLU()\n",
            "  (layer_3): Linear(in_features=256, out_features=128, bias=True)\n",
            "  (relu_3): ReLU()\n",
            "  (layer_4): Linear(in_features=128, out_features=64, bias=True)\n",
            "  (relu_4): Softmax(dim=1)\n",
            "  (batch): BatchNorm1d(64, eps=1e-05, momentum=0.1, affine=True, track_running_stats=True)\n",
            "  (layer_5): Linear(in_features=64, out_features=3, bias=True)\n",
            ")\n",
            "\n",
            "------ Training on the training set and evaluating on the validation/testing set.... ------\n",
            "\n",
            "Epoch: 1\n"
          ]
        },
        {
          "output_type": "stream",
          "name": "stderr",
          "text": [
            "100%|██████████| 4793/4793 [00:11<00:00, 412.32it/s]\n"
          ]
        },
        {
          "output_type": "stream",
          "name": "stdout",
          "text": [
            "Train Loss: 1.100358997932337 | Accuracy: 34.15122684026039\n"
          ]
        },
        {
          "output_type": "stream",
          "name": "stderr",
          "text": [
            "100%|██████████| 685/685 [00:00<00:00, 1693.88it/s]\n"
          ]
        },
        {
          "output_type": "stream",
          "name": "stdout",
          "text": [
            "Test Loss: 1.093427943487237 | Accuracy: 43.748174116272274\n",
            "\n",
            "Epoch: 2\n"
          ]
        },
        {
          "output_type": "stream",
          "name": "stderr",
          "text": [
            "100%|██████████| 4793/4793 [00:11<00:00, 413.03it/s]\n"
          ]
        },
        {
          "output_type": "stream",
          "name": "stdout",
          "text": [
            "Train Loss: 1.0798652820614019 | Accuracy: 39.123268235686865\n"
          ]
        },
        {
          "output_type": "stream",
          "name": "stderr",
          "text": [
            "100%|██████████| 685/685 [00:00<00:00, 1753.07it/s]\n"
          ]
        },
        {
          "output_type": "stream",
          "name": "stdout",
          "text": [
            "Test Loss: 1.0431431449242752 | Accuracy: 45.36955886649138\n",
            "\n",
            "Epoch: 3\n"
          ]
        },
        {
          "output_type": "stream",
          "name": "stderr",
          "text": [
            "100%|██████████| 4793/4793 [00:11<00:00, 428.09it/s]\n"
          ]
        },
        {
          "output_type": "stream",
          "name": "stdout",
          "text": [
            "Train Loss: 1.0414788366458423 | Accuracy: 44.30395593390085\n"
          ]
        },
        {
          "output_type": "stream",
          "name": "stderr",
          "text": [
            "100%|██████████| 685/685 [00:00<00:00, 1698.47it/s]\n"
          ]
        },
        {
          "output_type": "stream",
          "name": "stdout",
          "text": [
            "Test Loss: 1.00843193992211 | Accuracy: 48.45165059888986\n",
            "\n",
            "Epoch: 4\n"
          ]
        },
        {
          "output_type": "stream",
          "name": "stderr",
          "text": [
            "100%|██████████| 4793/4793 [00:11<00:00, 427.38it/s]\n"
          ]
        },
        {
          "output_type": "stream",
          "name": "stdout",
          "text": [
            "Train Loss: 1.0242449607153712 | Accuracy: 46.617843431814386\n"
          ]
        },
        {
          "output_type": "stream",
          "name": "stderr",
          "text": [
            "100%|██████████| 685/685 [00:00<00:00, 1737.78it/s]\n"
          ]
        },
        {
          "output_type": "stream",
          "name": "stdout",
          "text": [
            "Test Loss: 0.9925064103446738 | Accuracy: 50.102249488752555\n",
            "\n",
            "Epoch: 5\n"
          ]
        },
        {
          "output_type": "stream",
          "name": "stderr",
          "text": [
            "100%|██████████| 4793/4793 [00:11<00:00, 433.69it/s]\n"
          ]
        },
        {
          "output_type": "stream",
          "name": "stdout",
          "text": [
            "Train Loss: 1.0158157286578322 | Accuracy: 47.61934568519446\n"
          ]
        },
        {
          "output_type": "stream",
          "name": "stderr",
          "text": [
            "100%|██████████| 685/685 [00:00<00:00, 1729.45it/s]\n"
          ]
        },
        {
          "output_type": "stream",
          "name": "stdout",
          "text": [
            "Test Loss: 0.9913314577436795 | Accuracy: 50.54046158340637\n",
            "\n",
            "Epoch: 6\n"
          ]
        },
        {
          "output_type": "stream",
          "name": "stderr",
          "text": [
            "100%|██████████| 4793/4793 [00:11<00:00, 430.82it/s]\n"
          ]
        },
        {
          "output_type": "stream",
          "name": "stdout",
          "text": [
            "Train Loss: 1.0065443649710828 | Accuracy: 48.34543481889501\n"
          ]
        },
        {
          "output_type": "stream",
          "name": "stderr",
          "text": [
            "100%|██████████| 685/685 [00:00<00:00, 1790.96it/s]\n"
          ]
        },
        {
          "output_type": "stream",
          "name": "stdout",
          "text": [
            "Test Loss: 0.9799876998810872 | Accuracy: 51.79666958808063\n",
            "\n",
            "Epoch: 7\n"
          ]
        },
        {
          "output_type": "stream",
          "name": "stderr",
          "text": [
            "100%|██████████| 4793/4793 [00:11<00:00, 421.94it/s]\n"
          ]
        },
        {
          "output_type": "stream",
          "name": "stdout",
          "text": [
            "Train Loss: 1.0015382607297063 | Accuracy: 48.875396427975296\n"
          ]
        },
        {
          "output_type": "stream",
          "name": "stderr",
          "text": [
            "100%|██████████| 685/685 [00:00<00:00, 1779.39it/s]\n"
          ]
        },
        {
          "output_type": "stream",
          "name": "stdout",
          "text": [
            "Test Loss: 0.9833794772189899 | Accuracy: 51.91352614665498\n",
            "\n",
            "Epoch: 8\n"
          ]
        },
        {
          "output_type": "stream",
          "name": "stderr",
          "text": [
            "100%|██████████| 4793/4793 [00:11<00:00, 426.53it/s]\n"
          ]
        },
        {
          "output_type": "stream",
          "name": "stdout",
          "text": [
            "Train Loss: 0.9974207399211297 | Accuracy: 49.50550826239359\n"
          ]
        },
        {
          "output_type": "stream",
          "name": "stderr",
          "text": [
            "100%|██████████| 685/685 [00:00<00:00, 1707.49it/s]\n"
          ]
        },
        {
          "output_type": "stream",
          "name": "stdout",
          "text": [
            "Test Loss: 0.9759069964833503 | Accuracy: 52.147239263803684\n",
            "\n",
            "Epoch: 9\n"
          ]
        },
        {
          "output_type": "stream",
          "name": "stderr",
          "text": [
            "100%|██████████| 4793/4793 [00:11<00:00, 416.54it/s]\n"
          ]
        },
        {
          "output_type": "stream",
          "name": "stdout",
          "text": [
            "Train Loss: 0.9939980838061523 | Accuracy: 49.751710899682855\n"
          ]
        },
        {
          "output_type": "stream",
          "name": "stderr",
          "text": [
            "100%|██████████| 685/685 [00:00<00:00, 1420.87it/s]\n"
          ]
        },
        {
          "output_type": "stream",
          "name": "stdout",
          "text": [
            "Test Loss: 0.9870295768236592 | Accuracy: 51.15395851592171\n",
            "\n",
            "Epoch: 10\n"
          ]
        },
        {
          "output_type": "stream",
          "name": "stderr",
          "text": [
            "100%|██████████| 4793/4793 [00:11<00:00, 424.74it/s]\n"
          ]
        },
        {
          "output_type": "stream",
          "name": "stdout",
          "text": [
            "Train Loss: 0.9934675530976451 | Accuracy: 49.916541478884994\n"
          ]
        },
        {
          "output_type": "stream",
          "name": "stderr",
          "text": [
            "100%|██████████| 685/685 [00:00<00:00, 1721.07it/s]\n"
          ]
        },
        {
          "output_type": "stream",
          "name": "stdout",
          "text": [
            "Test Loss: 0.9778408303748082 | Accuracy: 52.1034180543383\n",
            "\n",
            "Epoch: 11\n"
          ]
        },
        {
          "output_type": "stream",
          "name": "stderr",
          "text": [
            "100%|██████████| 4793/4793 [00:10<00:00, 438.99it/s]\n"
          ]
        },
        {
          "output_type": "stream",
          "name": "stdout",
          "text": [
            "Train Loss: 0.9915564177231776 | Accuracy: 50.16274411617426\n"
          ]
        },
        {
          "output_type": "stream",
          "name": "stderr",
          "text": [
            "100%|██████████| 685/685 [00:00<00:00, 1771.69it/s]\n"
          ]
        },
        {
          "output_type": "stream",
          "name": "stdout",
          "text": [
            "Test Loss: 0.9790562756740264 | Accuracy: 52.147239263803684\n",
            "\n",
            "Epoch: 12\n"
          ]
        },
        {
          "output_type": "stream",
          "name": "stderr",
          "text": [
            "100%|██████████| 4793/4793 [00:10<00:00, 436.34it/s]\n"
          ]
        },
        {
          "output_type": "stream",
          "name": "stdout",
          "text": [
            "Train Loss: 0.9895275396965452 | Accuracy: 50.47571357035553\n"
          ]
        },
        {
          "output_type": "stream",
          "name": "stderr",
          "text": [
            "100%|██████████| 685/685 [00:00<00:00, 1738.22it/s]\n"
          ]
        },
        {
          "output_type": "stream",
          "name": "stdout",
          "text": [
            "Test Loss: 0.9757230752576007 | Accuracy: 52.29330996202162\n",
            "\n",
            "Epoch: 13\n"
          ]
        },
        {
          "output_type": "stream",
          "name": "stderr",
          "text": [
            "100%|██████████| 4793/4793 [00:11<00:00, 434.26it/s]\n"
          ]
        },
        {
          "output_type": "stream",
          "name": "stdout",
          "text": [
            "Train Loss: 0.9878222316335642 | Accuracy: 50.66140877983642\n"
          ]
        },
        {
          "output_type": "stream",
          "name": "stderr",
          "text": [
            "100%|██████████| 685/685 [00:00<00:00, 1734.45it/s]\n"
          ]
        },
        {
          "output_type": "stream",
          "name": "stdout",
          "text": [
            "Test Loss: 0.9816519770309002 | Accuracy: 52.00116856558574\n",
            "\n",
            "Epoch: 14\n"
          ]
        },
        {
          "output_type": "stream",
          "name": "stderr",
          "text": [
            "100%|██████████| 4793/4793 [00:11<00:00, 426.30it/s]\n"
          ]
        },
        {
          "output_type": "stream",
          "name": "stdout",
          "text": [
            "Train Loss: 0.987070684788149 | Accuracy: 50.85962276748456\n"
          ]
        },
        {
          "output_type": "stream",
          "name": "stderr",
          "text": [
            "100%|██████████| 685/685 [00:00<00:00, 1636.03it/s]\n"
          ]
        },
        {
          "output_type": "stream",
          "name": "stdout",
          "text": [
            "Test Loss: 0.9696672453497448 | Accuracy: 53.593339176161265\n",
            "\n",
            "Epoch: 15\n"
          ]
        },
        {
          "output_type": "stream",
          "name": "stderr",
          "text": [
            "100%|██████████| 4793/4793 [00:11<00:00, 425.70it/s]\n"
          ]
        },
        {
          "output_type": "stream",
          "name": "stdout",
          "text": [
            "Train Loss: 0.9857985859073429 | Accuracy: 50.909697880153566\n"
          ]
        },
        {
          "output_type": "stream",
          "name": "stderr",
          "text": [
            "100%|██████████| 685/685 [00:00<00:00, 1731.44it/s]\n"
          ]
        },
        {
          "output_type": "stream",
          "name": "stdout",
          "text": [
            "Test Loss: 0.9696749675012853 | Accuracy: 52.760736196319016\n",
            "\n",
            "Epoch: 16\n"
          ]
        },
        {
          "output_type": "stream",
          "name": "stderr",
          "text": [
            "100%|██████████| 4793/4793 [00:11<00:00, 429.80it/s]\n"
          ]
        },
        {
          "output_type": "stream",
          "name": "stdout",
          "text": [
            "Train Loss: 0.9839986920008549 | Accuracy: 51.29360707728259\n"
          ]
        },
        {
          "output_type": "stream",
          "name": "stderr",
          "text": [
            "100%|██████████| 685/685 [00:00<00:00, 1774.88it/s]\n"
          ]
        },
        {
          "output_type": "stream",
          "name": "stdout",
          "text": [
            "Test Loss: 0.9665620051161216 | Accuracy: 53.78323108384458\n",
            "\n",
            "Epoch: 17\n"
          ]
        },
        {
          "output_type": "stream",
          "name": "stderr",
          "text": [
            "100%|██████████| 4793/4793 [00:11<00:00, 423.40it/s]\n"
          ]
        },
        {
          "output_type": "stream",
          "name": "stdout",
          "text": [
            "Train Loss: 0.9816780830882125 | Accuracy: 51.29986646636622\n"
          ]
        },
        {
          "output_type": "stream",
          "name": "stderr",
          "text": [
            "100%|██████████| 685/685 [00:00<00:00, 1769.91it/s]\n"
          ]
        },
        {
          "output_type": "stream",
          "name": "stdout",
          "text": [
            "Test Loss: 0.974166982713407 | Accuracy: 52.5708442886357\n",
            "\n",
            "Epoch: 18\n"
          ]
        },
        {
          "output_type": "stream",
          "name": "stderr",
          "text": [
            "100%|██████████| 4793/4793 [00:10<00:00, 441.50it/s]\n"
          ]
        },
        {
          "output_type": "stream",
          "name": "stdout",
          "text": [
            "Train Loss: 0.9815094713972725 | Accuracy: 51.460524119512606\n"
          ]
        },
        {
          "output_type": "stream",
          "name": "stderr",
          "text": [
            "100%|██████████| 685/685 [00:00<00:00, 1753.36it/s]\n"
          ]
        },
        {
          "output_type": "stream",
          "name": "stdout",
          "text": [
            "Test Loss: 0.9616035472737612 | Accuracy: 54.192229038854805\n",
            "\n",
            "Epoch: 19\n"
          ]
        },
        {
          "output_type": "stream",
          "name": "stderr",
          "text": [
            "100%|██████████| 4793/4793 [00:11<00:00, 430.08it/s]\n"
          ]
        },
        {
          "output_type": "stream",
          "name": "stdout",
          "text": [
            "Train Loss: 0.97769686627582 | Accuracy: 51.91954598564514\n"
          ]
        },
        {
          "output_type": "stream",
          "name": "stderr",
          "text": [
            "100%|██████████| 685/685 [00:00<00:00, 1741.91it/s]\n"
          ]
        },
        {
          "output_type": "stream",
          "name": "stdout",
          "text": [
            "Test Loss: 0.9580983521294419 | Accuracy: 54.49897750511247\n",
            "\n",
            "Epoch: 20\n"
          ]
        },
        {
          "output_type": "stream",
          "name": "stderr",
          "text": [
            "100%|██████████| 4793/4793 [00:11<00:00, 432.55it/s]\n"
          ]
        },
        {
          "output_type": "stream",
          "name": "stdout",
          "text": [
            "Train Loss: 0.9721633896757063 | Accuracy: 52.977382740777834\n"
          ]
        },
        {
          "output_type": "stream",
          "name": "stderr",
          "text": [
            "100%|██████████| 685/685 [00:00<00:00, 1751.58it/s]\n"
          ]
        },
        {
          "output_type": "stream",
          "name": "stdout",
          "text": [
            "Test Loss: 0.9502611810273498 | Accuracy: 54.95179666958808\n",
            "\n",
            "Epoch: 21\n"
          ]
        },
        {
          "output_type": "stream",
          "name": "stderr",
          "text": [
            "100%|██████████| 4793/4793 [00:10<00:00, 439.80it/s]\n"
          ]
        },
        {
          "output_type": "stream",
          "name": "stdout",
          "text": [
            "Train Loss: 0.9657973317445356 | Accuracy: 54.245952261725925\n"
          ]
        },
        {
          "output_type": "stream",
          "name": "stderr",
          "text": [
            "100%|██████████| 685/685 [00:00<00:00, 1822.51it/s]\n"
          ]
        },
        {
          "output_type": "stream",
          "name": "stdout",
          "text": [
            "Test Loss: 0.9443176777693477 | Accuracy: 56.26643295354952\n",
            "\n",
            "Epoch: 22\n"
          ]
        },
        {
          "output_type": "stream",
          "name": "stderr",
          "text": [
            "100%|██████████| 4793/4793 [00:11<00:00, 434.37it/s]\n"
          ]
        },
        {
          "output_type": "stream",
          "name": "stdout",
          "text": [
            "Train Loss: 0.9604640694095326 | Accuracy: 55.43732265064263\n"
          ]
        },
        {
          "output_type": "stream",
          "name": "stderr",
          "text": [
            "100%|██████████| 685/685 [00:00<00:00, 1751.72it/s]\n"
          ]
        },
        {
          "output_type": "stream",
          "name": "stdout",
          "text": [
            "Test Loss: 0.9450951131590961 | Accuracy: 56.58778848962898\n",
            "\n",
            "Epoch: 23\n"
          ]
        },
        {
          "output_type": "stream",
          "name": "stderr",
          "text": [
            "100%|██████████| 4793/4793 [00:10<00:00, 437.10it/s]\n"
          ]
        },
        {
          "output_type": "stream",
          "name": "stdout",
          "text": [
            "Train Loss: 0.956934838933684 | Accuracy: 55.92138207310966\n"
          ]
        },
        {
          "output_type": "stream",
          "name": "stderr",
          "text": [
            "100%|██████████| 685/685 [00:00<00:00, 1676.40it/s]\n"
          ]
        },
        {
          "output_type": "stream",
          "name": "stdout",
          "text": [
            "Test Loss: 0.9360313975027877 | Accuracy: 56.93835816535203\n",
            "\n",
            "Epoch: 24\n"
          ]
        },
        {
          "output_type": "stream",
          "name": "stderr",
          "text": [
            "100%|██████████| 4793/4793 [00:11<00:00, 435.28it/s]\n"
          ]
        },
        {
          "output_type": "stream",
          "name": "stdout",
          "text": [
            "Train Loss: 0.9529808719397437 | Accuracy: 56.54940744450008\n"
          ]
        },
        {
          "output_type": "stream",
          "name": "stderr",
          "text": [
            "100%|██████████| 685/685 [00:00<00:00, 1666.36it/s]\n"
          ]
        },
        {
          "output_type": "stream",
          "name": "stdout",
          "text": [
            "Test Loss: 0.9366674142162296 | Accuracy: 59.23166812737365\n",
            "\n",
            "Epoch: 25\n"
          ]
        },
        {
          "output_type": "stream",
          "name": "stderr",
          "text": [
            "100%|██████████| 4793/4793 [00:11<00:00, 433.39it/s]\n"
          ]
        },
        {
          "output_type": "stream",
          "name": "stdout",
          "text": [
            "Train Loss: 0.949515658469034 | Accuracy: 56.84985812051411\n"
          ]
        },
        {
          "output_type": "stream",
          "name": "stderr",
          "text": [
            "100%|██████████| 685/685 [00:00<00:00, 1695.85it/s]\n"
          ]
        },
        {
          "output_type": "stream",
          "name": "stdout",
          "text": [
            "Test Loss: 0.9429127539161348 | Accuracy: 58.67659947414548\n",
            "\n",
            "Epoch: 26\n"
          ]
        },
        {
          "output_type": "stream",
          "name": "stderr",
          "text": [
            "100%|██████████| 4793/4793 [00:11<00:00, 432.89it/s]\n"
          ]
        },
        {
          "output_type": "stream",
          "name": "stdout",
          "text": [
            "Train Loss: 0.9485732285259613 | Accuracy: 57.1273577032215\n"
          ]
        },
        {
          "output_type": "stream",
          "name": "stderr",
          "text": [
            "100%|██████████| 685/685 [00:00<00:00, 1768.30it/s]\n"
          ]
        },
        {
          "output_type": "stream",
          "name": "stdout",
          "text": [
            "Test Loss: 0.9312086339414555 | Accuracy: 59.39234589541338\n",
            "\n",
            "Epoch: 27\n"
          ]
        },
        {
          "output_type": "stream",
          "name": "stderr",
          "text": [
            "100%|██████████| 4793/4793 [00:11<00:00, 428.18it/s]\n"
          ]
        },
        {
          "output_type": "stream",
          "name": "stdout",
          "text": [
            "Train Loss: 0.9455052172493492 | Accuracy: 57.542563845768655\n"
          ]
        },
        {
          "output_type": "stream",
          "name": "stderr",
          "text": [
            "100%|██████████| 685/685 [00:00<00:00, 1655.68it/s]\n"
          ]
        },
        {
          "output_type": "stream",
          "name": "stdout",
          "text": [
            "Test Loss: 0.9343336057488936 | Accuracy: 59.20245398773006\n",
            "\n",
            "Epoch: 28\n"
          ]
        },
        {
          "output_type": "stream",
          "name": "stderr",
          "text": [
            "100%|██████████| 4793/4793 [00:11<00:00, 421.63it/s]\n"
          ]
        },
        {
          "output_type": "stream",
          "name": "stdout",
          "text": [
            "Train Loss: 0.944871248804451 | Accuracy: 57.705307961942914\n"
          ]
        },
        {
          "output_type": "stream",
          "name": "stderr",
          "text": [
            "100%|██████████| 685/685 [00:00<00:00, 1775.14it/s]\n"
          ]
        },
        {
          "output_type": "stream",
          "name": "stdout",
          "text": [
            "Test Loss: 0.9353911778352556 | Accuracy: 59.027169149868534\n",
            "\n",
            "Epoch: 29\n"
          ]
        },
        {
          "output_type": "stream",
          "name": "stderr",
          "text": [
            "100%|██████████| 4793/4793 [00:11<00:00, 415.08it/s]\n"
          ]
        },
        {
          "output_type": "stream",
          "name": "stdout",
          "text": [
            "Train Loss: 0.9445170959500114 | Accuracy: 57.60515773660491\n"
          ]
        },
        {
          "output_type": "stream",
          "name": "stderr",
          "text": [
            "100%|██████████| 685/685 [00:00<00:00, 1674.46it/s]\n"
          ]
        },
        {
          "output_type": "stream",
          "name": "stdout",
          "text": [
            "Test Loss: 0.9349535196366972 | Accuracy: 58.73502775343266\n",
            "\n",
            "Epoch: 30\n"
          ]
        },
        {
          "output_type": "stream",
          "name": "stderr",
          "text": [
            "100%|██████████| 4793/4793 [00:11<00:00, 420.70it/s]\n"
          ]
        },
        {
          "output_type": "stream",
          "name": "stdout",
          "text": [
            "Train Loss: 0.9417186497448133 | Accuracy: 57.868052078117174\n"
          ]
        },
        {
          "output_type": "stream",
          "name": "stderr",
          "text": [
            "100%|██████████| 685/685 [00:00<00:00, 1800.14it/s]\n"
          ]
        },
        {
          "output_type": "stream",
          "name": "stdout",
          "text": [
            "Test Loss: 0.9249345223398975 | Accuracy: 59.87437919953258\n",
            "\n",
            "Epoch: 31\n"
          ]
        },
        {
          "output_type": "stream",
          "name": "stderr",
          "text": [
            "100%|██████████| 4793/4793 [00:11<00:00, 432.95it/s]\n"
          ]
        },
        {
          "output_type": "stream",
          "name": "stdout",
          "text": [
            "Train Loss: 0.9392542002744773 | Accuracy: 58.48564513436822\n"
          ]
        },
        {
          "output_type": "stream",
          "name": "stderr",
          "text": [
            "100%|██████████| 685/685 [00:00<00:00, 1702.58it/s]\n"
          ]
        },
        {
          "output_type": "stream",
          "name": "stdout",
          "text": [
            "Test Loss: 0.9282718307780523 | Accuracy: 60.56091148115688\n",
            "\n",
            "Epoch: 32\n"
          ]
        },
        {
          "output_type": "stream",
          "name": "stderr",
          "text": [
            "100%|██████████| 4793/4793 [00:11<00:00, 417.18it/s]\n"
          ]
        },
        {
          "output_type": "stream",
          "name": "stdout",
          "text": [
            "Train Loss: 0.9385834764071305 | Accuracy: 58.49399098647972\n"
          ]
        },
        {
          "output_type": "stream",
          "name": "stderr",
          "text": [
            "100%|██████████| 685/685 [00:00<00:00, 1382.26it/s]\n"
          ]
        },
        {
          "output_type": "stream",
          "name": "stdout",
          "text": [
            "Test Loss: 0.9347189004403831 | Accuracy: 58.03388840198656\n",
            "\n",
            "Epoch: 33\n"
          ]
        },
        {
          "output_type": "stream",
          "name": "stderr",
          "text": [
            "100%|██████████| 4793/4793 [00:11<00:00, 429.28it/s]\n"
          ]
        },
        {
          "output_type": "stream",
          "name": "stdout",
          "text": [
            "Train Loss: 0.937443762874643 | Accuracy: 58.43557002169921\n"
          ]
        },
        {
          "output_type": "stream",
          "name": "stderr",
          "text": [
            "100%|██████████| 685/685 [00:00<00:00, 1749.61it/s]\n"
          ]
        },
        {
          "output_type": "stream",
          "name": "stdout",
          "text": [
            "Test Loss: 0.9250736933555046 | Accuracy: 59.42156003505697\n",
            "\n",
            "Epoch: 34\n"
          ]
        },
        {
          "output_type": "stream",
          "name": "stderr",
          "text": [
            "100%|██████████| 4793/4793 [00:11<00:00, 429.03it/s]\n"
          ]
        },
        {
          "output_type": "stream",
          "name": "stdout",
          "text": [
            "Train Loss: 0.9356050724379334 | Accuracy: 58.53989317309297\n"
          ]
        },
        {
          "output_type": "stream",
          "name": "stderr",
          "text": [
            "100%|██████████| 685/685 [00:00<00:00, 1728.15it/s]\n"
          ]
        },
        {
          "output_type": "stream",
          "name": "stdout",
          "text": [
            "Test Loss: 0.9237181310236019 | Accuracy: 60.22494887525562\n",
            "\n",
            "Epoch: 35\n"
          ]
        },
        {
          "output_type": "stream",
          "name": "stderr",
          "text": [
            "100%|██████████| 4793/4793 [00:11<00:00, 433.51it/s]\n"
          ]
        },
        {
          "output_type": "stream",
          "name": "stdout",
          "text": [
            "Train Loss: 0.9345733137486898 | Accuracy: 58.950926389584374\n"
          ]
        },
        {
          "output_type": "stream",
          "name": "stderr",
          "text": [
            "100%|██████████| 685/685 [00:00<00:00, 1635.40it/s]\n"
          ]
        },
        {
          "output_type": "stream",
          "name": "stdout",
          "text": [
            "Test Loss: 0.9280734773099858 | Accuracy: 58.764241893076246\n",
            "\n",
            "Epoch: 36\n"
          ]
        },
        {
          "output_type": "stream",
          "name": "stderr",
          "text": [
            "100%|██████████| 4793/4793 [00:11<00:00, 435.66it/s]\n"
          ]
        },
        {
          "output_type": "stream",
          "name": "stdout",
          "text": [
            "Train Loss: 0.9343316385648008 | Accuracy: 58.83408446002337\n"
          ]
        },
        {
          "output_type": "stream",
          "name": "stderr",
          "text": [
            "100%|██████████| 685/685 [00:00<00:00, 1710.82it/s]\n"
          ]
        },
        {
          "output_type": "stream",
          "name": "stdout",
          "text": [
            "Test Loss: 0.9218051609331674 | Accuracy: 60.35641250365177\n",
            "\n",
            "Epoch: 37\n"
          ]
        },
        {
          "output_type": "stream",
          "name": "stderr",
          "text": [
            "100%|██████████| 4793/4793 [00:11<00:00, 431.74it/s]\n"
          ]
        },
        {
          "output_type": "stream",
          "name": "stdout",
          "text": [
            "Train Loss: 0.9319390786009991 | Accuracy: 58.940494074445\n"
          ]
        },
        {
          "output_type": "stream",
          "name": "stderr",
          "text": [
            "100%|██████████| 685/685 [00:00<00:00, 1785.03it/s]\n"
          ]
        },
        {
          "output_type": "stream",
          "name": "stdout",
          "text": [
            "Test Loss: 0.9234345494395625 | Accuracy: 60.137306456324865\n",
            "\n",
            "Epoch: 38\n"
          ]
        },
        {
          "output_type": "stream",
          "name": "stderr",
          "text": [
            "100%|██████████| 4793/4793 [00:11<00:00, 425.40it/s]\n"
          ]
        },
        {
          "output_type": "stream",
          "name": "stdout",
          "text": [
            "Train Loss: 0.9310224499454733 | Accuracy: 59.19504256384577\n"
          ]
        },
        {
          "output_type": "stream",
          "name": "stderr",
          "text": [
            "100%|██████████| 685/685 [00:00<00:00, 1691.58it/s]\n"
          ]
        },
        {
          "output_type": "stream",
          "name": "stdout",
          "text": [
            "Test Loss: 0.9268371948360526 | Accuracy: 60.064271107215895\n",
            "\n",
            "Epoch: 39\n"
          ]
        },
        {
          "output_type": "stream",
          "name": "stderr",
          "text": [
            "100%|██████████| 4793/4793 [00:11<00:00, 427.18it/s]\n"
          ]
        },
        {
          "output_type": "stream",
          "name": "stdout",
          "text": [
            "Train Loss: 0.9306344758884757 | Accuracy: 59.32857619762978\n"
          ]
        },
        {
          "output_type": "stream",
          "name": "stderr",
          "text": [
            "100%|██████████| 685/685 [00:00<00:00, 1720.01it/s]\n"
          ]
        },
        {
          "output_type": "stream",
          "name": "stdout",
          "text": [
            "Test Loss: 0.9246125323929055 | Accuracy: 59.15863277826468\n",
            "\n",
            "Epoch: 40\n"
          ]
        },
        {
          "output_type": "stream",
          "name": "stderr",
          "text": [
            "100%|██████████| 4793/4793 [00:11<00:00, 429.65it/s]\n"
          ]
        },
        {
          "output_type": "stream",
          "name": "stdout",
          "text": [
            "Train Loss: 0.9289583388708987 | Accuracy: 59.393256551493906\n"
          ]
        },
        {
          "output_type": "stream",
          "name": "stderr",
          "text": [
            "100%|██████████| 685/685 [00:00<00:00, 1762.10it/s]\n"
          ]
        },
        {
          "output_type": "stream",
          "name": "stdout",
          "text": [
            "Test Loss: 0.9277240874123399 | Accuracy: 60.79462459830558\n"
          ]
        },
        {
          "output_type": "display_data",
          "data": {
            "image/png": "[encoded data removed]",
            "text/plain": [
              "<Figure size 432x288 with 1 Axes>"
            ]
          },
          "metadata": {
            "needs_background": "light"
          }
        },
        {
          "output_type": "display_data",
          "data": {
            "image/png": "[encoded data removed]",
            "text/plain": [
              "<Figure size 432x288 with 1 Axes>"
            ]
          },
          "metadata": {
            "needs_background": "light"
          }
        },
        {
          "output_type": "stream",
          "name": "stdout",
          "text": [
            "\n",
            "Calculating metrics...\n",
            "Accuracy: 0.5730353593826294\n",
            "Precision: [0.61871069 0.55441478 0.52826087]\n",
            "Recall: [0.68974584 0.70990359 0.31945662]\n",
            "F1 score: [0.65230004 0.622598   0.39814309]\n",
            "Support: [2282 2282 2282]\n",
            "              precision    recall  f1-score   support\n",
            "\n",
            "         0.0       0.62      0.69      0.65      2282\n",
            "         1.0       0.55      0.71      0.62      2282\n",
            "         2.0       0.53      0.32      0.40      2282\n",
            "\n",
            "    accuracy                           0.57      6846\n",
            "   macro avg       0.57      0.57      0.56      6846\n",
            "weighted avg       0.57      0.57      0.56      6846\n",
            "\n",
            "None\n"
          ]
        },
        {
          "output_type": "display_data",
          "data": {
            "image/png": "[encoded data removed]",
            "text/plain": [
              "<Figure size 432x288 with 1 Axes>"
            ]
          },
          "metadata": {
            "needs_background": "light"
          }
        }
      ]
    }
  ]
}